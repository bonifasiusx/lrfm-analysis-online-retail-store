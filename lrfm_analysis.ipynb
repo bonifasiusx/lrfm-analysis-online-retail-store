{
 "cells": [
  {
   "cell_type": "code",
   "execution_count": 9,
   "id": "d787f883",
   "metadata": {},
   "outputs": [],
   "source": [
    "import numpy as np\n",
    "import pandas as pd\n",
    "\n",
    "import matplotlib.pyplot as plt\n",
    "import seaborn as sns\n",
    "import plotly.express as px\n",
    "%matplotlib inline\n",
    "\n",
    "from sklearn.cluster import KMeans\n",
    "from sklearn.metrics import silhouette_score\n",
    "\n",
    "import warnings\n",
    "warnings.filterwarnings(\"ignore\")\n",
    "\n",
    "import datetime"
   ]
  },
  {
   "cell_type": "markdown",
   "id": "33f39a04",
   "metadata": {},
   "source": [
    "### `Dataset Dictionary`\n",
    "\n",
    "* `InvoiceNo`: Invoice number. Nominal. A 6-digit integral number uniquely assigned to each transaction. If this code starts with the letter 'c', it indicates a cancellation. \n",
    "* `StockCode`: Product (item) code. Nominal. A 5-digit integral number uniquely assigned to each distinct product. \n",
    "* `Description`: Product (item) name. Nominal. \n",
    "* `Quantity`: The quantities of each product (item) per transaction. Numeric.\t\n",
    "* `InvoiceDate`: Invoice date and time. Numeric. The day and time when a transaction was generated. \n",
    "* `UnitPrice`: Unit price. Numeric. Product price per unit in sterling (£). \n",
    "* `CustomerID`: Customer number. Nominal. A 5-digit integral number uniquely assigned to each customer. \n",
    "* `Country`: Country name. Nominal. The name of the country where a customer resides."
   ]
  },
  {
   "cell_type": "code",
   "execution_count": 10,
   "id": "454e7935",
   "metadata": {},
   "outputs": [],
   "source": [
    "df1 = pd.read_excel('online_retail_II.xlsx', sheet_name='Year 2009-2010')\n",
    "df2 = pd.read_excel('online_retail_II.xlsx', sheet_name='Year 2010-2011')"
   ]
  },
  {
   "cell_type": "markdown",
   "id": "ecbf4f0d",
   "metadata": {},
   "source": [
    "### `Data Understanding`"
   ]
  },
  {
   "cell_type": "code",
   "execution_count": 11,
   "id": "65c22bee",
   "metadata": {},
   "outputs": [
    {
     "name": "stdout",
     "output_type": "stream",
     "text": [
      "<class 'pandas.core.frame.DataFrame'>\n",
      "RangeIndex: 525461 entries, 0 to 525460\n",
      "Data columns (total 8 columns):\n",
      " #   Column       Non-Null Count   Dtype         \n",
      "---  ------       --------------   -----         \n",
      " 0   Invoice      525461 non-null  object        \n",
      " 1   StockCode    525461 non-null  object        \n",
      " 2   Description  522533 non-null  object        \n",
      " 3   Quantity     525461 non-null  int64         \n",
      " 4   InvoiceDate  525461 non-null  datetime64[ns]\n",
      " 5   Price        525461 non-null  float64       \n",
      " 6   Customer ID  417534 non-null  float64       \n",
      " 7   Country      525461 non-null  object        \n",
      "dtypes: datetime64[ns](1), float64(2), int64(1), object(4)\n",
      "memory usage: 32.1+ MB\n",
      "<class 'pandas.core.frame.DataFrame'>\n",
      "RangeIndex: 541910 entries, 0 to 541909\n",
      "Data columns (total 8 columns):\n",
      " #   Column       Non-Null Count   Dtype         \n",
      "---  ------       --------------   -----         \n",
      " 0   Invoice      541910 non-null  object        \n",
      " 1   StockCode    541910 non-null  object        \n",
      " 2   Description  540456 non-null  object        \n",
      " 3   Quantity     541910 non-null  int64         \n",
      " 4   InvoiceDate  541910 non-null  datetime64[ns]\n",
      " 5   Price        541910 non-null  float64       \n",
      " 6   Customer ID  406830 non-null  float64       \n",
      " 7   Country      541910 non-null  object        \n",
      "dtypes: datetime64[ns](1), float64(2), int64(1), object(4)\n",
      "memory usage: 33.1+ MB\n"
     ]
    },
    {
     "data": {
      "text/plain": [
       "None"
      ]
     },
     "metadata": {},
     "output_type": "display_data"
    },
    {
     "data": {
      "text/plain": [
       "None"
      ]
     },
     "metadata": {},
     "output_type": "display_data"
    }
   ],
   "source": [
    "display(\n",
    "    df1.info(),\n",
    "    df2.info()\n",
    ")"
   ]
  },
  {
   "cell_type": "markdown",
   "id": "433ecfe7",
   "metadata": {},
   "source": [
    "##### `Rename Column`"
   ]
  },
  {
   "cell_type": "code",
   "execution_count": 12,
   "id": "122e4d55",
   "metadata": {},
   "outputs": [],
   "source": [
    "df1.rename(columns={'Customer ID':'CustomerID'}, inplace=True)"
   ]
  },
  {
   "cell_type": "code",
   "execution_count": 13,
   "id": "1ac3b709",
   "metadata": {},
   "outputs": [],
   "source": [
    "df2.rename(columns={'Customer ID':'CustomerID'}, inplace=True)"
   ]
  },
  {
   "cell_type": "markdown",
   "id": "1898c52f",
   "metadata": {},
   "source": [
    "##### `Concat Dataframe`"
   ]
  },
  {
   "cell_type": "code",
   "execution_count": 14,
   "id": "f5bcc2f4",
   "metadata": {},
   "outputs": [
    {
     "data": {
      "text/html": [
       "<div>\n",
       "<style scoped>\n",
       "    .dataframe tbody tr th:only-of-type {\n",
       "        vertical-align: middle;\n",
       "    }\n",
       "\n",
       "    .dataframe tbody tr th {\n",
       "        vertical-align: top;\n",
       "    }\n",
       "\n",
       "    .dataframe thead th {\n",
       "        text-align: right;\n",
       "    }\n",
       "</style>\n",
       "<table border=\"1\" class=\"dataframe\">\n",
       "  <thead>\n",
       "    <tr style=\"text-align: right;\">\n",
       "      <th></th>\n",
       "      <th>Invoice</th>\n",
       "      <th>StockCode</th>\n",
       "      <th>Description</th>\n",
       "      <th>Quantity</th>\n",
       "      <th>InvoiceDate</th>\n",
       "      <th>Price</th>\n",
       "      <th>CustomerID</th>\n",
       "      <th>Country</th>\n",
       "    </tr>\n",
       "  </thead>\n",
       "  <tbody>\n",
       "    <tr>\n",
       "      <th>454886</th>\n",
       "      <td>575604</td>\n",
       "      <td>22457</td>\n",
       "      <td>NATURAL SLATE HEART CHALKBOARD</td>\n",
       "      <td>24</td>\n",
       "      <td>2011-11-10 12:32:00</td>\n",
       "      <td>2.95</td>\n",
       "      <td>16011.0</td>\n",
       "      <td>United Kingdom</td>\n",
       "    </tr>\n",
       "    <tr>\n",
       "      <th>14486</th>\n",
       "      <td>490542</td>\n",
       "      <td>22275</td>\n",
       "      <td>WEEKEND BAG VINTAGE ROSE PAISLEY</td>\n",
       "      <td>12</td>\n",
       "      <td>2009-12-07 09:42:00</td>\n",
       "      <td>7.65</td>\n",
       "      <td>14911.0</td>\n",
       "      <td>EIRE</td>\n",
       "    </tr>\n",
       "    <tr>\n",
       "      <th>100717</th>\n",
       "      <td>544833</td>\n",
       "      <td>21984</td>\n",
       "      <td>PACK OF 12 PINK PAISLEY TISSUES</td>\n",
       "      <td>24</td>\n",
       "      <td>2011-02-24 10:10:00</td>\n",
       "      <td>0.29</td>\n",
       "      <td>15974.0</td>\n",
       "      <td>United Kingdom</td>\n",
       "    </tr>\n",
       "    <tr>\n",
       "      <th>265105</th>\n",
       "      <td>560209</td>\n",
       "      <td>23050</td>\n",
       "      <td>RECYCLED ACAPULCO MAT GREEN</td>\n",
       "      <td>1</td>\n",
       "      <td>2011-07-15 14:05:00</td>\n",
       "      <td>8.25</td>\n",
       "      <td>15004.0</td>\n",
       "      <td>United Kingdom</td>\n",
       "    </tr>\n",
       "    <tr>\n",
       "      <th>239168</th>\n",
       "      <td>512535</td>\n",
       "      <td>21164</td>\n",
       "      <td>HOME SWEET HOME METAL SIGN</td>\n",
       "      <td>1</td>\n",
       "      <td>2010-06-16 12:16:00</td>\n",
       "      <td>2.95</td>\n",
       "      <td>17604.0</td>\n",
       "      <td>United Kingdom</td>\n",
       "    </tr>\n",
       "  </tbody>\n",
       "</table>\n",
       "</div>"
      ],
      "text/plain": [
       "       Invoice StockCode                       Description  Quantity  \\\n",
       "454886  575604     22457   NATURAL SLATE HEART CHALKBOARD         24   \n",
       "14486   490542     22275  WEEKEND BAG VINTAGE ROSE PAISLEY        12   \n",
       "100717  544833     21984  PACK OF 12 PINK PAISLEY TISSUES         24   \n",
       "265105  560209     23050       RECYCLED ACAPULCO MAT GREEN         1   \n",
       "239168  512535     21164       HOME SWEET HOME METAL SIGN          1   \n",
       "\n",
       "               InvoiceDate  Price  CustomerID         Country  \n",
       "454886 2011-11-10 12:32:00   2.95     16011.0  United Kingdom  \n",
       "14486  2009-12-07 09:42:00   7.65     14911.0            EIRE  \n",
       "100717 2011-02-24 10:10:00   0.29     15974.0  United Kingdom  \n",
       "265105 2011-07-15 14:05:00   8.25     15004.0  United Kingdom  \n",
       "239168 2010-06-16 12:16:00   2.95     17604.0  United Kingdom  "
      ]
     },
     "metadata": {},
     "output_type": "display_data"
    },
    {
     "data": {
      "text/plain": [
       "(1067371, 8)"
      ]
     },
     "metadata": {},
     "output_type": "display_data"
    }
   ],
   "source": [
    "df = pd.concat([df1,df2])\n",
    "\n",
    "display(\n",
    "    df.sample(5, random_state=13), df.shape)"
   ]
  },
  {
   "cell_type": "markdown",
   "id": "d208e7d0",
   "metadata": {},
   "source": [
    "##### `Drop NaN`"
   ]
  },
  {
   "cell_type": "code",
   "execution_count": 15,
   "id": "6c63fc9e",
   "metadata": {},
   "outputs": [
    {
     "data": {
      "text/plain": [
       "Invoice         0.000000\n",
       "StockCode       0.000000\n",
       "Description     0.410541\n",
       "Quantity        0.000000\n",
       "InvoiceDate     0.000000\n",
       "Price           0.000000\n",
       "CustomerID     22.766873\n",
       "Country         0.000000\n",
       "dtype: float64"
      ]
     },
     "execution_count": 15,
     "metadata": {},
     "output_type": "execute_result"
    }
   ],
   "source": [
    "df.isna().sum() / len(df) * 100"
   ]
  },
  {
   "cell_type": "markdown",
   "id": "e20d45e9",
   "metadata": {},
   "source": [
    "Implementasi method `dropna()` karena `CustomerID` yang kosong tidak bisa di-identifikasi sebagai customer asli dan jika dicoba imputasi, tetap tidak bisa divalidasi hasil dari imputasinya. "
   ]
  },
  {
   "cell_type": "code",
   "execution_count": 16,
   "id": "2f67cb2a",
   "metadata": {},
   "outputs": [],
   "source": [
    "df.dropna(inplace=True)"
   ]
  },
  {
   "cell_type": "code",
   "execution_count": 17,
   "id": "4440c1a9",
   "metadata": {},
   "outputs": [
    {
     "data": {
      "text/plain": [
       "Invoice        0\n",
       "StockCode      0\n",
       "Description    0\n",
       "Quantity       0\n",
       "InvoiceDate    0\n",
       "Price          0\n",
       "CustomerID     0\n",
       "Country        0\n",
       "dtype: int64"
      ]
     },
     "execution_count": 17,
     "metadata": {},
     "output_type": "execute_result"
    }
   ],
   "source": [
    "df.isna().sum()"
   ]
  },
  {
   "cell_type": "markdown",
   "id": "29351521",
   "metadata": {},
   "source": [
    "##### `Drop Unrelevant or Cancelled Transactions`"
   ]
  },
  {
   "cell_type": "code",
   "execution_count": 18,
   "id": "302e7596",
   "metadata": {},
   "outputs": [
    {
     "data": {
      "text/plain": [
       "dtype('O')"
      ]
     },
     "metadata": {},
     "output_type": "display_data"
    },
    {
     "data": {
      "text/plain": [
       "308587    14156\n",
       "451565    13384\n",
       "Name: CustomerID, dtype: object"
      ]
     },
     "metadata": {},
     "output_type": "display_data"
    }
   ],
   "source": [
    "df['CustomerID'] = df['CustomerID'].astype(int).astype(str)\n",
    "\n",
    "display(df['CustomerID'].dtype, df['CustomerID'].sample(2, random_state=13))"
   ]
  },
  {
   "cell_type": "code",
   "execution_count": 19,
   "id": "a8e39537",
   "metadata": {},
   "outputs": [
    {
     "data": {
      "text/plain": [
       "(805620, 8)"
      ]
     },
     "execution_count": 19,
     "metadata": {},
     "output_type": "execute_result"
    }
   ],
   "source": [
    "df['Invoice'] = df['Invoice'].astype(str)\n",
    "\n",
    "df = df[df['Invoice'].str.match('\\d{6}') == True]\n",
    "df.shape"
   ]
  },
  {
   "cell_type": "code",
   "execution_count": 20,
   "id": "92084fd0",
   "metadata": {},
   "outputs": [
    {
     "data": {
      "text/html": [
       "<div>\n",
       "<style scoped>\n",
       "    .dataframe tbody tr th:only-of-type {\n",
       "        vertical-align: middle;\n",
       "    }\n",
       "\n",
       "    .dataframe tbody tr th {\n",
       "        vertical-align: top;\n",
       "    }\n",
       "\n",
       "    .dataframe thead th {\n",
       "        text-align: right;\n",
       "    }\n",
       "</style>\n",
       "<table border=\"1\" class=\"dataframe\">\n",
       "  <thead>\n",
       "    <tr style=\"text-align: right;\">\n",
       "      <th></th>\n",
       "      <th>Invoice</th>\n",
       "      <th>Description</th>\n",
       "      <th>Quantity</th>\n",
       "      <th>InvoiceDate</th>\n",
       "      <th>Price</th>\n",
       "      <th>CustomerID</th>\n",
       "      <th>Country</th>\n",
       "    </tr>\n",
       "    <tr>\n",
       "      <th>StockCode</th>\n",
       "      <th></th>\n",
       "      <th></th>\n",
       "      <th></th>\n",
       "      <th></th>\n",
       "      <th></th>\n",
       "      <th></th>\n",
       "      <th></th>\n",
       "    </tr>\n",
       "  </thead>\n",
       "  <tbody>\n",
       "    <tr>\n",
       "      <th>ADJUST</th>\n",
       "      <td>32</td>\n",
       "      <td>32</td>\n",
       "      <td>32</td>\n",
       "      <td>32</td>\n",
       "      <td>32</td>\n",
       "      <td>32</td>\n",
       "      <td>32</td>\n",
       "    </tr>\n",
       "    <tr>\n",
       "      <th>ADJUST2</th>\n",
       "      <td>3</td>\n",
       "      <td>3</td>\n",
       "      <td>3</td>\n",
       "      <td>3</td>\n",
       "      <td>3</td>\n",
       "      <td>3</td>\n",
       "      <td>3</td>\n",
       "    </tr>\n",
       "    <tr>\n",
       "      <th>BANK CHARGES</th>\n",
       "      <td>32</td>\n",
       "      <td>32</td>\n",
       "      <td>32</td>\n",
       "      <td>32</td>\n",
       "      <td>32</td>\n",
       "      <td>32</td>\n",
       "      <td>32</td>\n",
       "    </tr>\n",
       "    <tr>\n",
       "      <th>DOT</th>\n",
       "      <td>16</td>\n",
       "      <td>16</td>\n",
       "      <td>16</td>\n",
       "      <td>16</td>\n",
       "      <td>16</td>\n",
       "      <td>16</td>\n",
       "      <td>16</td>\n",
       "    </tr>\n",
       "    <tr>\n",
       "      <th>PADS</th>\n",
       "      <td>18</td>\n",
       "      <td>18</td>\n",
       "      <td>18</td>\n",
       "      <td>18</td>\n",
       "      <td>18</td>\n",
       "      <td>18</td>\n",
       "      <td>18</td>\n",
       "    </tr>\n",
       "    <tr>\n",
       "      <th>POST</th>\n",
       "      <td>1838</td>\n",
       "      <td>1838</td>\n",
       "      <td>1838</td>\n",
       "      <td>1838</td>\n",
       "      <td>1838</td>\n",
       "      <td>1838</td>\n",
       "      <td>1838</td>\n",
       "    </tr>\n",
       "    <tr>\n",
       "      <th>TEST001</th>\n",
       "      <td>11</td>\n",
       "      <td>11</td>\n",
       "      <td>11</td>\n",
       "      <td>11</td>\n",
       "      <td>11</td>\n",
       "      <td>11</td>\n",
       "      <td>11</td>\n",
       "    </tr>\n",
       "    <tr>\n",
       "      <th>TEST002</th>\n",
       "      <td>1</td>\n",
       "      <td>1</td>\n",
       "      <td>1</td>\n",
       "      <td>1</td>\n",
       "      <td>1</td>\n",
       "      <td>1</td>\n",
       "      <td>1</td>\n",
       "    </tr>\n",
       "  </tbody>\n",
       "</table>\n",
       "</div>"
      ],
      "text/plain": [
       "              Invoice  Description  Quantity  InvoiceDate  Price  CustomerID  \\\n",
       "StockCode                                                                      \n",
       "ADJUST             32           32        32           32     32          32   \n",
       "ADJUST2             3            3         3            3      3           3   \n",
       "BANK CHARGES       32           32        32           32     32          32   \n",
       "DOT                16           16        16           16     16          16   \n",
       "PADS               18           18        18           18     18          18   \n",
       "POST             1838         1838      1838         1838   1838        1838   \n",
       "TEST001            11           11        11           11     11          11   \n",
       "TEST002             1            1         1            1      1           1   \n",
       "\n",
       "              Country  \n",
       "StockCode              \n",
       "ADJUST             32  \n",
       "ADJUST2             3  \n",
       "BANK CHARGES       32  \n",
       "DOT                16  \n",
       "PADS               18  \n",
       "POST             1838  \n",
       "TEST001            11  \n",
       "TEST002             1  "
      ]
     },
     "metadata": {},
     "output_type": "display_data"
    }
   ],
   "source": [
    "df_stock = df[df['StockCode'].str.contains('[A-Z]{3,10}') == True]\n",
    "display(df_stock.groupby('StockCode').count())"
   ]
  },
  {
   "cell_type": "code",
   "execution_count": 21,
   "id": "13829edc",
   "metadata": {},
   "outputs": [
    {
     "data": {
      "text/plain": [
       "805620"
      ]
     },
     "metadata": {},
     "output_type": "display_data"
    },
    {
     "data": {
      "text/plain": [
       "1951"
      ]
     },
     "metadata": {},
     "output_type": "display_data"
    },
    {
     "data": {
      "text/html": [
       "<div>\n",
       "<style scoped>\n",
       "    .dataframe tbody tr th:only-of-type {\n",
       "        vertical-align: middle;\n",
       "    }\n",
       "\n",
       "    .dataframe tbody tr th {\n",
       "        vertical-align: top;\n",
       "    }\n",
       "\n",
       "    .dataframe thead th {\n",
       "        text-align: right;\n",
       "    }\n",
       "</style>\n",
       "<table border=\"1\" class=\"dataframe\">\n",
       "  <thead>\n",
       "    <tr style=\"text-align: right;\">\n",
       "      <th></th>\n",
       "      <th>Invoice</th>\n",
       "      <th>StockCode</th>\n",
       "      <th>Description</th>\n",
       "      <th>Quantity</th>\n",
       "      <th>InvoiceDate</th>\n",
       "      <th>Price</th>\n",
       "      <th>CustomerID</th>\n",
       "      <th>Country</th>\n",
       "    </tr>\n",
       "  </thead>\n",
       "  <tbody>\n",
       "    <tr>\n",
       "      <th>450065</th>\n",
       "      <td>575151</td>\n",
       "      <td>POST</td>\n",
       "      <td>POSTAGE</td>\n",
       "      <td>1</td>\n",
       "      <td>2011-11-08 16:12:00</td>\n",
       "      <td>15.0</td>\n",
       "      <td>12395</td>\n",
       "      <td>Belgium</td>\n",
       "    </tr>\n",
       "    <tr>\n",
       "      <th>312658</th>\n",
       "      <td>564360</td>\n",
       "      <td>POST</td>\n",
       "      <td>POSTAGE</td>\n",
       "      <td>3</td>\n",
       "      <td>2011-08-24 16:13:00</td>\n",
       "      <td>18.0</td>\n",
       "      <td>12471</td>\n",
       "      <td>Germany</td>\n",
       "    </tr>\n",
       "    <tr>\n",
       "      <th>279133</th>\n",
       "      <td>516566</td>\n",
       "      <td>POST</td>\n",
       "      <td>POSTAGE</td>\n",
       "      <td>1</td>\n",
       "      <td>2010-07-21 12:31:00</td>\n",
       "      <td>18.0</td>\n",
       "      <td>12417</td>\n",
       "      <td>Belgium</td>\n",
       "    </tr>\n",
       "    <tr>\n",
       "      <th>220470</th>\n",
       "      <td>556194</td>\n",
       "      <td>POST</td>\n",
       "      <td>POSTAGE</td>\n",
       "      <td>2</td>\n",
       "      <td>2011-06-09 12:20:00</td>\n",
       "      <td>18.0</td>\n",
       "      <td>12483</td>\n",
       "      <td>Sweden</td>\n",
       "    </tr>\n",
       "    <tr>\n",
       "      <th>82568</th>\n",
       "      <td>496975</td>\n",
       "      <td>POST</td>\n",
       "      <td>POSTAGE</td>\n",
       "      <td>2</td>\n",
       "      <td>2010-02-05 09:14:00</td>\n",
       "      <td>18.0</td>\n",
       "      <td>12712</td>\n",
       "      <td>Germany</td>\n",
       "    </tr>\n",
       "    <tr>\n",
       "      <th>347867</th>\n",
       "      <td>567342</td>\n",
       "      <td>POST</td>\n",
       "      <td>POSTAGE</td>\n",
       "      <td>1</td>\n",
       "      <td>2011-09-19 15:04:00</td>\n",
       "      <td>10.0</td>\n",
       "      <td>16235</td>\n",
       "      <td>United Kingdom</td>\n",
       "    </tr>\n",
       "    <tr>\n",
       "      <th>108921</th>\n",
       "      <td>545570</td>\n",
       "      <td>POST</td>\n",
       "      <td>POSTAGE</td>\n",
       "      <td>1</td>\n",
       "      <td>2011-03-03 16:28:00</td>\n",
       "      <td>40.0</td>\n",
       "      <td>12817</td>\n",
       "      <td>Austria</td>\n",
       "    </tr>\n",
       "    <tr>\n",
       "      <th>56787</th>\n",
       "      <td>541115</td>\n",
       "      <td>POST</td>\n",
       "      <td>POSTAGE</td>\n",
       "      <td>7</td>\n",
       "      <td>2011-01-13 15:34:00</td>\n",
       "      <td>28.0</td>\n",
       "      <td>12578</td>\n",
       "      <td>Italy</td>\n",
       "    </tr>\n",
       "    <tr>\n",
       "      <th>388041</th>\n",
       "      <td>526717</td>\n",
       "      <td>POST</td>\n",
       "      <td>POSTAGE</td>\n",
       "      <td>2</td>\n",
       "      <td>2010-10-12 16:51:00</td>\n",
       "      <td>1.0</td>\n",
       "      <td>12605</td>\n",
       "      <td>Germany</td>\n",
       "    </tr>\n",
       "    <tr>\n",
       "      <th>58296</th>\n",
       "      <td>541224</td>\n",
       "      <td>POST</td>\n",
       "      <td>POSTAGE</td>\n",
       "      <td>1</td>\n",
       "      <td>2011-01-14 14:45:00</td>\n",
       "      <td>18.0</td>\n",
       "      <td>12474</td>\n",
       "      <td>Germany</td>\n",
       "    </tr>\n",
       "  </tbody>\n",
       "</table>\n",
       "</div>"
      ],
      "text/plain": [
       "       Invoice StockCode Description  Quantity         InvoiceDate  Price  \\\n",
       "450065  575151      POST     POSTAGE         1 2011-11-08 16:12:00   15.0   \n",
       "312658  564360      POST     POSTAGE         3 2011-08-24 16:13:00   18.0   \n",
       "279133  516566      POST     POSTAGE         1 2010-07-21 12:31:00   18.0   \n",
       "220470  556194      POST     POSTAGE         2 2011-06-09 12:20:00   18.0   \n",
       "82568   496975      POST     POSTAGE         2 2010-02-05 09:14:00   18.0   \n",
       "347867  567342      POST     POSTAGE         1 2011-09-19 15:04:00   10.0   \n",
       "108921  545570      POST     POSTAGE         1 2011-03-03 16:28:00   40.0   \n",
       "56787   541115      POST     POSTAGE         7 2011-01-13 15:34:00   28.0   \n",
       "388041  526717      POST     POSTAGE         2 2010-10-12 16:51:00    1.0   \n",
       "58296   541224      POST     POSTAGE         1 2011-01-14 14:45:00   18.0   \n",
       "\n",
       "       CustomerID         Country  \n",
       "450065      12395         Belgium  \n",
       "312658      12471         Germany  \n",
       "279133      12417         Belgium  \n",
       "220470      12483          Sweden  \n",
       "82568       12712         Germany  \n",
       "347867      16235  United Kingdom  \n",
       "108921      12817         Austria  \n",
       "56787       12578           Italy  \n",
       "388041      12605         Germany  \n",
       "58296       12474         Germany  "
      ]
     },
     "metadata": {},
     "output_type": "display_data"
    }
   ],
   "source": [
    "to_drop = df[(df['StockCode'].str.contains('TEST')) | \\\n",
    "         (df['StockCode'].str.contains('ADJUST')) | \\\n",
    "         (df['StockCode'].str.contains('BANK CHARGES')) | \\\n",
    "         (df['StockCode'].str.contains('DOT')) | \\\n",
    "         (df['StockCode'].str.contains('PADS')) | \\\n",
    "         (df['StockCode'].str.contains('POST'))]\n",
    "display(len(df), len(to_drop), to_drop.sample(10, random_state=13))"
   ]
  },
  {
   "cell_type": "code",
   "execution_count": 22,
   "id": "a2358399",
   "metadata": {},
   "outputs": [],
   "source": [
    "df = df.drop(index=to_drop.index)\n",
    "df = df.reset_index(drop=True)"
   ]
  },
  {
   "cell_type": "code",
   "execution_count": 23,
   "id": "ef62ba0b",
   "metadata": {},
   "outputs": [
    {
     "data": {
      "text/plain": [
       "802261"
      ]
     },
     "metadata": {},
     "output_type": "display_data"
    },
    {
     "data": {
      "text/html": [
       "<div>\n",
       "<style scoped>\n",
       "    .dataframe tbody tr th:only-of-type {\n",
       "        vertical-align: middle;\n",
       "    }\n",
       "\n",
       "    .dataframe tbody tr th {\n",
       "        vertical-align: top;\n",
       "    }\n",
       "\n",
       "    .dataframe thead th {\n",
       "        text-align: right;\n",
       "    }\n",
       "</style>\n",
       "<table border=\"1\" class=\"dataframe\">\n",
       "  <thead>\n",
       "    <tr style=\"text-align: right;\">\n",
       "      <th></th>\n",
       "      <th>Invoice</th>\n",
       "      <th>StockCode</th>\n",
       "      <th>Description</th>\n",
       "      <th>Quantity</th>\n",
       "      <th>InvoiceDate</th>\n",
       "      <th>Price</th>\n",
       "      <th>CustomerID</th>\n",
       "      <th>Country</th>\n",
       "    </tr>\n",
       "  </thead>\n",
       "  <tbody>\n",
       "    <tr>\n",
       "      <th>495923</th>\n",
       "      <td>547902</td>\n",
       "      <td>22722</td>\n",
       "      <td>SET OF 6 SPICE TINS PANTRY DESIGN</td>\n",
       "      <td>1</td>\n",
       "      <td>2011-03-28 11:58:00</td>\n",
       "      <td>3.95</td>\n",
       "      <td>17765</td>\n",
       "      <td>United Kingdom</td>\n",
       "    </tr>\n",
       "    <tr>\n",
       "      <th>77441</th>\n",
       "      <td>499789</td>\n",
       "      <td>84880</td>\n",
       "      <td>WHITE WIRE EGG HOLDER</td>\n",
       "      <td>12</td>\n",
       "      <td>2010-03-02 14:59:00</td>\n",
       "      <td>4.95</td>\n",
       "      <td>15311</td>\n",
       "      <td>United Kingdom</td>\n",
       "    </tr>\n",
       "    <tr>\n",
       "      <th>655514</th>\n",
       "      <td>567653</td>\n",
       "      <td>22960</td>\n",
       "      <td>JAM MAKING SET WITH JARS</td>\n",
       "      <td>6</td>\n",
       "      <td>2011-09-21 14:35:00</td>\n",
       "      <td>4.25</td>\n",
       "      <td>12550</td>\n",
       "      <td>Spain</td>\n",
       "    </tr>\n",
       "    <tr>\n",
       "      <th>732269</th>\n",
       "      <td>574826</td>\n",
       "      <td>20751</td>\n",
       "      <td>FUNKY WASHING UP GLOVES ASSORTED</td>\n",
       "      <td>1</td>\n",
       "      <td>2011-11-07 10:58:00</td>\n",
       "      <td>2.10</td>\n",
       "      <td>15870</td>\n",
       "      <td>United Kingdom</td>\n",
       "    </tr>\n",
       "    <tr>\n",
       "      <th>461715</th>\n",
       "      <td>543978</td>\n",
       "      <td>21219</td>\n",
       "      <td>SET/4 BADGES BALLOON GIRL</td>\n",
       "      <td>2</td>\n",
       "      <td>2011-02-14 15:37:00</td>\n",
       "      <td>1.25</td>\n",
       "      <td>12867</td>\n",
       "      <td>United Kingdom</td>\n",
       "    </tr>\n",
       "    <tr>\n",
       "      <th>9211</th>\n",
       "      <td>490398</td>\n",
       "      <td>84347</td>\n",
       "      <td>ROTATING SILVER ANGELS T-LIGHT HLDR</td>\n",
       "      <td>7</td>\n",
       "      <td>2009-12-06 10:37:00</td>\n",
       "      <td>2.55</td>\n",
       "      <td>17920</td>\n",
       "      <td>United Kingdom</td>\n",
       "    </tr>\n",
       "    <tr>\n",
       "      <th>331753</th>\n",
       "      <td>530020</td>\n",
       "      <td>85152</td>\n",
       "      <td>HAND OVER THE CHOCOLATE   SIGN</td>\n",
       "      <td>1</td>\n",
       "      <td>2010-11-01 10:52:00</td>\n",
       "      <td>2.10</td>\n",
       "      <td>17975</td>\n",
       "      <td>United Kingdom</td>\n",
       "    </tr>\n",
       "    <tr>\n",
       "      <th>652101</th>\n",
       "      <td>567197</td>\n",
       "      <td>22952</td>\n",
       "      <td>60 CAKE CASES VINTAGE CHRISTMAS</td>\n",
       "      <td>24</td>\n",
       "      <td>2011-09-19 10:10:00</td>\n",
       "      <td>0.55</td>\n",
       "      <td>14934</td>\n",
       "      <td>Channel Islands</td>\n",
       "    </tr>\n",
       "    <tr>\n",
       "      <th>464959</th>\n",
       "      <td>544341</td>\n",
       "      <td>22567</td>\n",
       "      <td>20 DOLLY PEGS RETROSPOT</td>\n",
       "      <td>12</td>\n",
       "      <td>2011-02-18 09:43:00</td>\n",
       "      <td>1.25</td>\n",
       "      <td>13012</td>\n",
       "      <td>United Kingdom</td>\n",
       "    </tr>\n",
       "    <tr>\n",
       "      <th>397517</th>\n",
       "      <td>537133</td>\n",
       "      <td>22112</td>\n",
       "      <td>CHOCOLATE HOT WATER BOTTLE</td>\n",
       "      <td>2</td>\n",
       "      <td>2010-12-05 12:29:00</td>\n",
       "      <td>4.95</td>\n",
       "      <td>18156</td>\n",
       "      <td>United Kingdom</td>\n",
       "    </tr>\n",
       "  </tbody>\n",
       "</table>\n",
       "</div>"
      ],
      "text/plain": [
       "       Invoice StockCode                          Description  Quantity  \\\n",
       "495923  547902     22722    SET OF 6 SPICE TINS PANTRY DESIGN         1   \n",
       "77441   499789     84880                WHITE WIRE EGG HOLDER        12   \n",
       "655514  567653     22960             JAM MAKING SET WITH JARS         6   \n",
       "732269  574826     20751     FUNKY WASHING UP GLOVES ASSORTED         1   \n",
       "461715  543978     21219            SET/4 BADGES BALLOON GIRL         2   \n",
       "9211    490398     84347  ROTATING SILVER ANGELS T-LIGHT HLDR         7   \n",
       "331753  530020     85152      HAND OVER THE CHOCOLATE   SIGN          1   \n",
       "652101  567197     22952      60 CAKE CASES VINTAGE CHRISTMAS        24   \n",
       "464959  544341     22567              20 DOLLY PEGS RETROSPOT        12   \n",
       "397517  537133     22112           CHOCOLATE HOT WATER BOTTLE         2   \n",
       "\n",
       "               InvoiceDate  Price CustomerID          Country  \n",
       "495923 2011-03-28 11:58:00   3.95      17765   United Kingdom  \n",
       "77441  2010-03-02 14:59:00   4.95      15311   United Kingdom  \n",
       "655514 2011-09-21 14:35:00   4.25      12550            Spain  \n",
       "732269 2011-11-07 10:58:00   2.10      15870   United Kingdom  \n",
       "461715 2011-02-14 15:37:00   1.25      12867   United Kingdom  \n",
       "9211   2009-12-06 10:37:00   2.55      17920   United Kingdom  \n",
       "331753 2010-11-01 10:52:00   2.10      17975   United Kingdom  \n",
       "652101 2011-09-19 10:10:00   0.55      14934  Channel Islands  \n",
       "464959 2011-02-18 09:43:00   1.25      13012   United Kingdom  \n",
       "397517 2010-12-05 12:29:00   4.95      18156   United Kingdom  "
      ]
     },
     "metadata": {},
     "output_type": "display_data"
    }
   ],
   "source": [
    "display(len(df), df.sample(10, random_state=13))"
   ]
  },
  {
   "cell_type": "markdown",
   "id": "e5bf01f6",
   "metadata": {},
   "source": [
    "##### `Inspect Duplicate Data`"
   ]
  },
  {
   "cell_type": "code",
   "execution_count": 24,
   "id": "8ab4c07a",
   "metadata": {},
   "outputs": [
    {
     "data": {
      "text/html": [
       "<div>\n",
       "<style scoped>\n",
       "    .dataframe tbody tr th:only-of-type {\n",
       "        vertical-align: middle;\n",
       "    }\n",
       "\n",
       "    .dataframe tbody tr th {\n",
       "        vertical-align: top;\n",
       "    }\n",
       "\n",
       "    .dataframe thead th {\n",
       "        text-align: right;\n",
       "    }\n",
       "</style>\n",
       "<table border=\"1\" class=\"dataframe\">\n",
       "  <thead>\n",
       "    <tr style=\"text-align: right;\">\n",
       "      <th></th>\n",
       "      <th>Invoice</th>\n",
       "      <th>StockCode</th>\n",
       "      <th>Description</th>\n",
       "      <th>Quantity</th>\n",
       "      <th>InvoiceDate</th>\n",
       "      <th>Price</th>\n",
       "      <th>CustomerID</th>\n",
       "      <th>Country</th>\n",
       "    </tr>\n",
       "  </thead>\n",
       "  <tbody>\n",
       "    <tr>\n",
       "      <th>329</th>\n",
       "      <td>489517</td>\n",
       "      <td>21913</td>\n",
       "      <td>VINTAGE SEASIDE JIGSAW PUZZLES</td>\n",
       "      <td>1</td>\n",
       "      <td>2009-12-01 11:34:00</td>\n",
       "      <td>3.75</td>\n",
       "      <td>16329</td>\n",
       "      <td>United Kingdom</td>\n",
       "    </tr>\n",
       "    <tr>\n",
       "      <th>330</th>\n",
       "      <td>489517</td>\n",
       "      <td>21912</td>\n",
       "      <td>VINTAGE SNAKES &amp; LADDERS</td>\n",
       "      <td>1</td>\n",
       "      <td>2009-12-01 11:34:00</td>\n",
       "      <td>3.75</td>\n",
       "      <td>16329</td>\n",
       "      <td>United Kingdom</td>\n",
       "    </tr>\n",
       "    <tr>\n",
       "      <th>334</th>\n",
       "      <td>489517</td>\n",
       "      <td>22319</td>\n",
       "      <td>HAIRCLIPS FORTIES FABRIC ASSORTED</td>\n",
       "      <td>12</td>\n",
       "      <td>2009-12-01 11:34:00</td>\n",
       "      <td>0.65</td>\n",
       "      <td>16329</td>\n",
       "      <td>United Kingdom</td>\n",
       "    </tr>\n",
       "    <tr>\n",
       "      <th>335</th>\n",
       "      <td>489517</td>\n",
       "      <td>22130</td>\n",
       "      <td>PARTY CONE CHRISTMAS DECORATION</td>\n",
       "      <td>6</td>\n",
       "      <td>2009-12-01 11:34:00</td>\n",
       "      <td>0.85</td>\n",
       "      <td>16329</td>\n",
       "      <td>United Kingdom</td>\n",
       "    </tr>\n",
       "    <tr>\n",
       "      <th>338</th>\n",
       "      <td>489517</td>\n",
       "      <td>21912</td>\n",
       "      <td>VINTAGE SNAKES &amp; LADDERS</td>\n",
       "      <td>1</td>\n",
       "      <td>2009-12-01 11:34:00</td>\n",
       "      <td>3.75</td>\n",
       "      <td>16329</td>\n",
       "      <td>United Kingdom</td>\n",
       "    </tr>\n",
       "    <tr>\n",
       "      <th>346</th>\n",
       "      <td>489517</td>\n",
       "      <td>21491</td>\n",
       "      <td>SET OF THREE VINTAGE GIFT WRAPS</td>\n",
       "      <td>1</td>\n",
       "      <td>2009-12-01 11:34:00</td>\n",
       "      <td>1.95</td>\n",
       "      <td>16329</td>\n",
       "      <td>United Kingdom</td>\n",
       "    </tr>\n",
       "    <tr>\n",
       "      <th>350</th>\n",
       "      <td>489517</td>\n",
       "      <td>22130</td>\n",
       "      <td>PARTY CONE CHRISTMAS DECORATION</td>\n",
       "      <td>6</td>\n",
       "      <td>2009-12-01 11:34:00</td>\n",
       "      <td>0.85</td>\n",
       "      <td>16329</td>\n",
       "      <td>United Kingdom</td>\n",
       "    </tr>\n",
       "    <tr>\n",
       "      <th>351</th>\n",
       "      <td>489517</td>\n",
       "      <td>22319</td>\n",
       "      <td>HAIRCLIPS FORTIES FABRIC ASSORTED</td>\n",
       "      <td>12</td>\n",
       "      <td>2009-12-01 11:34:00</td>\n",
       "      <td>0.65</td>\n",
       "      <td>16329</td>\n",
       "      <td>United Kingdom</td>\n",
       "    </tr>\n",
       "    <tr>\n",
       "      <th>352</th>\n",
       "      <td>489517</td>\n",
       "      <td>21913</td>\n",
       "      <td>VINTAGE SEASIDE JIGSAW PUZZLES</td>\n",
       "      <td>1</td>\n",
       "      <td>2009-12-01 11:34:00</td>\n",
       "      <td>3.75</td>\n",
       "      <td>16329</td>\n",
       "      <td>United Kingdom</td>\n",
       "    </tr>\n",
       "    <tr>\n",
       "      <th>354</th>\n",
       "      <td>489517</td>\n",
       "      <td>84951A</td>\n",
       "      <td>S/4 PISTACHIO LOVEBIRD COASTERS</td>\n",
       "      <td>1</td>\n",
       "      <td>2009-12-01 11:34:00</td>\n",
       "      <td>2.55</td>\n",
       "      <td>16329</td>\n",
       "      <td>United Kingdom</td>\n",
       "    </tr>\n",
       "    <tr>\n",
       "      <th>356</th>\n",
       "      <td>489517</td>\n",
       "      <td>84951A</td>\n",
       "      <td>S/4 PISTACHIO LOVEBIRD COASTERS</td>\n",
       "      <td>1</td>\n",
       "      <td>2009-12-01 11:34:00</td>\n",
       "      <td>2.55</td>\n",
       "      <td>16329</td>\n",
       "      <td>United Kingdom</td>\n",
       "    </tr>\n",
       "    <tr>\n",
       "      <th>357</th>\n",
       "      <td>489517</td>\n",
       "      <td>21491</td>\n",
       "      <td>SET OF THREE VINTAGE GIFT WRAPS</td>\n",
       "      <td>1</td>\n",
       "      <td>2009-12-01 11:34:00</td>\n",
       "      <td>1.95</td>\n",
       "      <td>16329</td>\n",
       "      <td>United Kingdom</td>\n",
       "    </tr>\n",
       "    <tr>\n",
       "      <th>360</th>\n",
       "      <td>489517</td>\n",
       "      <td>21912</td>\n",
       "      <td>VINTAGE SNAKES &amp; LADDERS</td>\n",
       "      <td>1</td>\n",
       "      <td>2009-12-01 11:34:00</td>\n",
       "      <td>3.75</td>\n",
       "      <td>16329</td>\n",
       "      <td>United Kingdom</td>\n",
       "    </tr>\n",
       "    <tr>\n",
       "      <th>582</th>\n",
       "      <td>489529</td>\n",
       "      <td>48129</td>\n",
       "      <td>DOOR MAT TOPIARY</td>\n",
       "      <td>1</td>\n",
       "      <td>2009-12-01 11:51:00</td>\n",
       "      <td>6.75</td>\n",
       "      <td>17984</td>\n",
       "      <td>United Kingdom</td>\n",
       "    </tr>\n",
       "    <tr>\n",
       "      <th>588</th>\n",
       "      <td>489529</td>\n",
       "      <td>22028</td>\n",
       "      <td>PENNY FARTHING BIRTHDAY CARD</td>\n",
       "      <td>12</td>\n",
       "      <td>2009-12-01 11:51:00</td>\n",
       "      <td>0.42</td>\n",
       "      <td>17984</td>\n",
       "      <td>United Kingdom</td>\n",
       "    </tr>\n",
       "    <tr>\n",
       "      <th>610</th>\n",
       "      <td>489529</td>\n",
       "      <td>22036</td>\n",
       "      <td>DINOSAUR BIRTHDAY CARD</td>\n",
       "      <td>12</td>\n",
       "      <td>2009-12-01 11:51:00</td>\n",
       "      <td>0.42</td>\n",
       "      <td>17984</td>\n",
       "      <td>United Kingdom</td>\n",
       "    </tr>\n",
       "    <tr>\n",
       "      <th>611</th>\n",
       "      <td>489529</td>\n",
       "      <td>22028</td>\n",
       "      <td>PENNY FARTHING BIRTHDAY CARD</td>\n",
       "      <td>12</td>\n",
       "      <td>2009-12-01 11:51:00</td>\n",
       "      <td>0.42</td>\n",
       "      <td>17984</td>\n",
       "      <td>United Kingdom</td>\n",
       "    </tr>\n",
       "    <tr>\n",
       "      <th>612</th>\n",
       "      <td>489529</td>\n",
       "      <td>22036</td>\n",
       "      <td>DINOSAUR BIRTHDAY CARD</td>\n",
       "      <td>12</td>\n",
       "      <td>2009-12-01 11:51:00</td>\n",
       "      <td>0.42</td>\n",
       "      <td>17984</td>\n",
       "      <td>United Kingdom</td>\n",
       "    </tr>\n",
       "    <tr>\n",
       "      <th>623</th>\n",
       "      <td>489529</td>\n",
       "      <td>48129</td>\n",
       "      <td>DOOR MAT TOPIARY</td>\n",
       "      <td>1</td>\n",
       "      <td>2009-12-01 11:51:00</td>\n",
       "      <td>6.75</td>\n",
       "      <td>17984</td>\n",
       "      <td>United Kingdom</td>\n",
       "    </tr>\n",
       "    <tr>\n",
       "      <th>669</th>\n",
       "      <td>489533</td>\n",
       "      <td>84946</td>\n",
       "      <td>ANTIQUE SILVER TEA GLASS ETCHED</td>\n",
       "      <td>6</td>\n",
       "      <td>2009-12-01 12:02:00</td>\n",
       "      <td>1.25</td>\n",
       "      <td>16011</td>\n",
       "      <td>United Kingdom</td>\n",
       "    </tr>\n",
       "  </tbody>\n",
       "</table>\n",
       "</div>"
      ],
      "text/plain": [
       "    Invoice StockCode                        Description  Quantity  \\\n",
       "329  489517     21913     VINTAGE SEASIDE JIGSAW PUZZLES         1   \n",
       "330  489517     21912           VINTAGE SNAKES & LADDERS         1   \n",
       "334  489517     22319  HAIRCLIPS FORTIES FABRIC ASSORTED        12   \n",
       "335  489517     22130   PARTY CONE CHRISTMAS DECORATION          6   \n",
       "338  489517     21912           VINTAGE SNAKES & LADDERS         1   \n",
       "346  489517     21491    SET OF THREE VINTAGE GIFT WRAPS         1   \n",
       "350  489517     22130   PARTY CONE CHRISTMAS DECORATION          6   \n",
       "351  489517     22319  HAIRCLIPS FORTIES FABRIC ASSORTED        12   \n",
       "352  489517     21913     VINTAGE SEASIDE JIGSAW PUZZLES         1   \n",
       "354  489517    84951A    S/4 PISTACHIO LOVEBIRD COASTERS         1   \n",
       "356  489517    84951A    S/4 PISTACHIO LOVEBIRD COASTERS         1   \n",
       "357  489517     21491    SET OF THREE VINTAGE GIFT WRAPS         1   \n",
       "360  489517     21912           VINTAGE SNAKES & LADDERS         1   \n",
       "582  489529     48129                   DOOR MAT TOPIARY         1   \n",
       "588  489529     22028       PENNY FARTHING BIRTHDAY CARD        12   \n",
       "610  489529     22036             DINOSAUR BIRTHDAY CARD        12   \n",
       "611  489529     22028       PENNY FARTHING BIRTHDAY CARD        12   \n",
       "612  489529     22036             DINOSAUR BIRTHDAY CARD        12   \n",
       "623  489529     48129                   DOOR MAT TOPIARY         1   \n",
       "669  489533     84946    ANTIQUE SILVER TEA GLASS ETCHED         6   \n",
       "\n",
       "            InvoiceDate  Price CustomerID         Country  \n",
       "329 2009-12-01 11:34:00   3.75      16329  United Kingdom  \n",
       "330 2009-12-01 11:34:00   3.75      16329  United Kingdom  \n",
       "334 2009-12-01 11:34:00   0.65      16329  United Kingdom  \n",
       "335 2009-12-01 11:34:00   0.85      16329  United Kingdom  \n",
       "338 2009-12-01 11:34:00   3.75      16329  United Kingdom  \n",
       "346 2009-12-01 11:34:00   1.95      16329  United Kingdom  \n",
       "350 2009-12-01 11:34:00   0.85      16329  United Kingdom  \n",
       "351 2009-12-01 11:34:00   0.65      16329  United Kingdom  \n",
       "352 2009-12-01 11:34:00   3.75      16329  United Kingdom  \n",
       "354 2009-12-01 11:34:00   2.55      16329  United Kingdom  \n",
       "356 2009-12-01 11:34:00   2.55      16329  United Kingdom  \n",
       "357 2009-12-01 11:34:00   1.95      16329  United Kingdom  \n",
       "360 2009-12-01 11:34:00   3.75      16329  United Kingdom  \n",
       "582 2009-12-01 11:51:00   6.75      17984  United Kingdom  \n",
       "588 2009-12-01 11:51:00   0.42      17984  United Kingdom  \n",
       "610 2009-12-01 11:51:00   0.42      17984  United Kingdom  \n",
       "611 2009-12-01 11:51:00   0.42      17984  United Kingdom  \n",
       "612 2009-12-01 11:51:00   0.42      17984  United Kingdom  \n",
       "623 2009-12-01 11:51:00   6.75      17984  United Kingdom  \n",
       "669 2009-12-01 12:02:00   1.25      16011  United Kingdom  "
      ]
     },
     "execution_count": 24,
     "metadata": {},
     "output_type": "execute_result"
    }
   ],
   "source": [
    "df[df.duplicated(keep=False)].head(20)"
   ]
  },
  {
   "cell_type": "markdown",
   "id": "4e3bb709",
   "metadata": {},
   "source": [
    "### `Calculate LRFM values`\n",
    "\n",
    "#### `Length and Recency`\n",
    "\n",
    "* `Length`: Mengukur lamanya hubungan antara customer dengan perusahaan.\n",
    "\n",
    "* `Recency`: Melihat berapa lama waktu customer dalam melakukan transaksi terakhir.\n",
    "\n",
    "Oleh karena itu untuk mendapatkan nilai length dan recency, perlu diketahui terlebih dahulu tanggal terakhir customer melakukan transaksi. Sebagai asumsi, hari analisis diperoleh dari hari terakhir transaksi + 1."
   ]
  },
  {
   "cell_type": "code",
   "execution_count": 25,
   "id": "0f0f997c",
   "metadata": {},
   "outputs": [
    {
     "data": {
      "text/plain": [
       "Timestamp('2011-12-10 12:50:00')"
      ]
     },
     "execution_count": 25,
     "metadata": {},
     "output_type": "execute_result"
    }
   ],
   "source": [
    "analysis_date = df['InvoiceDate'].max() + datetime.timedelta(1)\n",
    "analysis_date"
   ]
  },
  {
   "cell_type": "markdown",
   "id": "31b98147",
   "metadata": {},
   "source": [
    "Langkah selanjutnya menghitung `length` dan `recency` dari tiap customer."
   ]
  },
  {
   "cell_type": "code",
   "execution_count": 26,
   "id": "78936581",
   "metadata": {},
   "outputs": [
    {
     "data": {
      "text/html": [
       "<div>\n",
       "<style scoped>\n",
       "    .dataframe tbody tr th:only-of-type {\n",
       "        vertical-align: middle;\n",
       "    }\n",
       "\n",
       "    .dataframe tbody tr th {\n",
       "        vertical-align: top;\n",
       "    }\n",
       "\n",
       "    .dataframe thead th {\n",
       "        text-align: right;\n",
       "    }\n",
       "</style>\n",
       "<table border=\"1\" class=\"dataframe\">\n",
       "  <thead>\n",
       "    <tr style=\"text-align: right;\">\n",
       "      <th></th>\n",
       "      <th>length</th>\n",
       "      <th>recency</th>\n",
       "    </tr>\n",
       "    <tr>\n",
       "      <th>CustomerID</th>\n",
       "      <th></th>\n",
       "      <th></th>\n",
       "    </tr>\n",
       "  </thead>\n",
       "  <tbody>\n",
       "    <tr>\n",
       "      <th>15639</th>\n",
       "      <td>605</td>\n",
       "      <td>134</td>\n",
       "    </tr>\n",
       "    <tr>\n",
       "      <th>15339</th>\n",
       "      <td>669</td>\n",
       "      <td>66</td>\n",
       "    </tr>\n",
       "    <tr>\n",
       "      <th>17861</th>\n",
       "      <td>730</td>\n",
       "      <td>3</td>\n",
       "    </tr>\n",
       "    <tr>\n",
       "      <th>12365</th>\n",
       "      <td>291</td>\n",
       "      <td>291</td>\n",
       "    </tr>\n",
       "    <tr>\n",
       "      <th>14824</th>\n",
       "      <td>637</td>\n",
       "      <td>10</td>\n",
       "    </tr>\n",
       "  </tbody>\n",
       "</table>\n",
       "</div>"
      ],
      "text/plain": [
       "            length  recency\n",
       "CustomerID                 \n",
       "15639          605      134\n",
       "15339          669       66\n",
       "17861          730        3\n",
       "12365          291      291\n",
       "14824          637       10"
      ]
     },
     "execution_count": 26,
     "metadata": {},
     "output_type": "execute_result"
    }
   ],
   "source": [
    "df_length_recency = df.groupby('CustomerID').agg(\n",
    "    length=('InvoiceDate', lambda x: (analysis_date - x.min()).days),\n",
    "    recency=('InvoiceDate', lambda x: (analysis_date - x.max()).days),\n",
    ")\n",
    "\n",
    "df_length_recency.sample(5, random_state=13)"
   ]
  },
  {
   "cell_type": "markdown",
   "id": "f6d1fa39",
   "metadata": {},
   "source": [
    "#### `Frequency`\n",
    "\n",
    "Untuk mengetahui seberapa sering customer melakukan transaksi, dapat dianalisa dari nilai frekuensi pembelanjaan dari masing-masing customer."
   ]
  },
  {
   "cell_type": "code",
   "execution_count": 27,
   "id": "24f628c6",
   "metadata": {},
   "outputs": [
    {
     "data": {
      "text/html": [
       "<div>\n",
       "<style scoped>\n",
       "    .dataframe tbody tr th:only-of-type {\n",
       "        vertical-align: middle;\n",
       "    }\n",
       "\n",
       "    .dataframe tbody tr th {\n",
       "        vertical-align: top;\n",
       "    }\n",
       "\n",
       "    .dataframe thead th {\n",
       "        text-align: right;\n",
       "    }\n",
       "</style>\n",
       "<table border=\"1\" class=\"dataframe\">\n",
       "  <thead>\n",
       "    <tr style=\"text-align: right;\">\n",
       "      <th></th>\n",
       "      <th>frequency</th>\n",
       "    </tr>\n",
       "    <tr>\n",
       "      <th>CustomerID</th>\n",
       "      <th></th>\n",
       "    </tr>\n",
       "  </thead>\n",
       "  <tbody>\n",
       "    <tr>\n",
       "      <th>15639</th>\n",
       "      <td>3</td>\n",
       "    </tr>\n",
       "    <tr>\n",
       "      <th>15339</th>\n",
       "      <td>7</td>\n",
       "    </tr>\n",
       "    <tr>\n",
       "      <th>17861</th>\n",
       "      <td>18</td>\n",
       "    </tr>\n",
       "    <tr>\n",
       "      <th>12365</th>\n",
       "      <td>2</td>\n",
       "    </tr>\n",
       "    <tr>\n",
       "      <th>14824</th>\n",
       "      <td>10</td>\n",
       "    </tr>\n",
       "  </tbody>\n",
       "</table>\n",
       "</div>"
      ],
      "text/plain": [
       "            frequency\n",
       "CustomerID           \n",
       "15639               3\n",
       "15339               7\n",
       "17861              18\n",
       "12365               2\n",
       "14824              10"
      ]
     },
     "execution_count": 27,
     "metadata": {},
     "output_type": "execute_result"
    }
   ],
   "source": [
    "df_frequency = df.groupby('CustomerID').agg(\n",
    "    frequency=('Invoice', lambda x: x.nunique())\n",
    ")\n",
    "\n",
    "df_frequency.sample(5, random_state=13)"
   ]
  },
  {
   "cell_type": "markdown",
   "id": "88d6402b",
   "metadata": {},
   "source": [
    "#### `Monetary`\n",
    "\n",
    "Mengukur seberapa besar pengeluaran pelanggan dalam setiap transaksi. Nilai `monetary` dapat dihitung dari hasil perkalian antara harga barang yang dibeli dengan jumlah barang yang dibeli dalam satu kali transaksi. Untuk itu, kita akan membuat kolom `TotalPrice` terlebih dahulu, yang menunjukkan hasil perkalian antara `Quantity` dan `Price`."
   ]
  },
  {
   "cell_type": "code",
   "execution_count": 28,
   "id": "dfd4025b",
   "metadata": {},
   "outputs": [
    {
     "data": {
      "text/html": [
       "<div>\n",
       "<style scoped>\n",
       "    .dataframe tbody tr th:only-of-type {\n",
       "        vertical-align: middle;\n",
       "    }\n",
       "\n",
       "    .dataframe tbody tr th {\n",
       "        vertical-align: top;\n",
       "    }\n",
       "\n",
       "    .dataframe thead th {\n",
       "        text-align: right;\n",
       "    }\n",
       "</style>\n",
       "<table border=\"1\" class=\"dataframe\">\n",
       "  <thead>\n",
       "    <tr style=\"text-align: right;\">\n",
       "      <th></th>\n",
       "      <th>Invoice</th>\n",
       "      <th>StockCode</th>\n",
       "      <th>Description</th>\n",
       "      <th>Quantity</th>\n",
       "      <th>InvoiceDate</th>\n",
       "      <th>Price</th>\n",
       "      <th>CustomerID</th>\n",
       "      <th>Country</th>\n",
       "      <th>TotalPrice</th>\n",
       "    </tr>\n",
       "  </thead>\n",
       "  <tbody>\n",
       "    <tr>\n",
       "      <th>495923</th>\n",
       "      <td>547902</td>\n",
       "      <td>22722</td>\n",
       "      <td>SET OF 6 SPICE TINS PANTRY DESIGN</td>\n",
       "      <td>1</td>\n",
       "      <td>2011-03-28 11:58:00</td>\n",
       "      <td>3.95</td>\n",
       "      <td>17765</td>\n",
       "      <td>United Kingdom</td>\n",
       "      <td>3.95</td>\n",
       "    </tr>\n",
       "    <tr>\n",
       "      <th>77441</th>\n",
       "      <td>499789</td>\n",
       "      <td>84880</td>\n",
       "      <td>WHITE WIRE EGG HOLDER</td>\n",
       "      <td>12</td>\n",
       "      <td>2010-03-02 14:59:00</td>\n",
       "      <td>4.95</td>\n",
       "      <td>15311</td>\n",
       "      <td>United Kingdom</td>\n",
       "      <td>59.40</td>\n",
       "    </tr>\n",
       "    <tr>\n",
       "      <th>655514</th>\n",
       "      <td>567653</td>\n",
       "      <td>22960</td>\n",
       "      <td>JAM MAKING SET WITH JARS</td>\n",
       "      <td>6</td>\n",
       "      <td>2011-09-21 14:35:00</td>\n",
       "      <td>4.25</td>\n",
       "      <td>12550</td>\n",
       "      <td>Spain</td>\n",
       "      <td>25.50</td>\n",
       "    </tr>\n",
       "    <tr>\n",
       "      <th>732269</th>\n",
       "      <td>574826</td>\n",
       "      <td>20751</td>\n",
       "      <td>FUNKY WASHING UP GLOVES ASSORTED</td>\n",
       "      <td>1</td>\n",
       "      <td>2011-11-07 10:58:00</td>\n",
       "      <td>2.10</td>\n",
       "      <td>15870</td>\n",
       "      <td>United Kingdom</td>\n",
       "      <td>2.10</td>\n",
       "    </tr>\n",
       "    <tr>\n",
       "      <th>461715</th>\n",
       "      <td>543978</td>\n",
       "      <td>21219</td>\n",
       "      <td>SET/4 BADGES BALLOON GIRL</td>\n",
       "      <td>2</td>\n",
       "      <td>2011-02-14 15:37:00</td>\n",
       "      <td>1.25</td>\n",
       "      <td>12867</td>\n",
       "      <td>United Kingdom</td>\n",
       "      <td>2.50</td>\n",
       "    </tr>\n",
       "  </tbody>\n",
       "</table>\n",
       "</div>"
      ],
      "text/plain": [
       "       Invoice StockCode                        Description  Quantity  \\\n",
       "495923  547902     22722  SET OF 6 SPICE TINS PANTRY DESIGN         1   \n",
       "77441   499789     84880              WHITE WIRE EGG HOLDER        12   \n",
       "655514  567653     22960           JAM MAKING SET WITH JARS         6   \n",
       "732269  574826     20751   FUNKY WASHING UP GLOVES ASSORTED         1   \n",
       "461715  543978     21219          SET/4 BADGES BALLOON GIRL         2   \n",
       "\n",
       "               InvoiceDate  Price CustomerID         Country  TotalPrice  \n",
       "495923 2011-03-28 11:58:00   3.95      17765  United Kingdom        3.95  \n",
       "77441  2010-03-02 14:59:00   4.95      15311  United Kingdom       59.40  \n",
       "655514 2011-09-21 14:35:00   4.25      12550           Spain       25.50  \n",
       "732269 2011-11-07 10:58:00   2.10      15870  United Kingdom        2.10  \n",
       "461715 2011-02-14 15:37:00   1.25      12867  United Kingdom        2.50  "
      ]
     },
     "execution_count": 28,
     "metadata": {},
     "output_type": "execute_result"
    }
   ],
   "source": [
    "df['TotalPrice'] = df['Quantity'] * df['Price']\n",
    "df.sample(5, random_state=13)"
   ]
  },
  {
   "cell_type": "markdown",
   "id": "7e912a57",
   "metadata": {},
   "source": [
    "Langkah selanjutnya adalah menjumlahkan `TotalPrice` dari masing-masing customer."
   ]
  },
  {
   "cell_type": "code",
   "execution_count": 29,
   "id": "1e0edf83",
   "metadata": {},
   "outputs": [
    {
     "data": {
      "text/html": [
       "<div>\n",
       "<style scoped>\n",
       "    .dataframe tbody tr th:only-of-type {\n",
       "        vertical-align: middle;\n",
       "    }\n",
       "\n",
       "    .dataframe tbody tr th {\n",
       "        vertical-align: top;\n",
       "    }\n",
       "\n",
       "    .dataframe thead th {\n",
       "        text-align: right;\n",
       "    }\n",
       "</style>\n",
       "<table border=\"1\" class=\"dataframe\">\n",
       "  <thead>\n",
       "    <tr style=\"text-align: right;\">\n",
       "      <th></th>\n",
       "      <th>monetary</th>\n",
       "    </tr>\n",
       "    <tr>\n",
       "      <th>CustomerID</th>\n",
       "      <th></th>\n",
       "    </tr>\n",
       "  </thead>\n",
       "  <tbody>\n",
       "    <tr>\n",
       "      <th>15639</th>\n",
       "      <td>1065.08</td>\n",
       "    </tr>\n",
       "    <tr>\n",
       "      <th>15339</th>\n",
       "      <td>1827.84</td>\n",
       "    </tr>\n",
       "    <tr>\n",
       "      <th>17861</th>\n",
       "      <td>5122.74</td>\n",
       "    </tr>\n",
       "    <tr>\n",
       "      <th>12365</th>\n",
       "      <td>641.38</td>\n",
       "    </tr>\n",
       "    <tr>\n",
       "      <th>14824</th>\n",
       "      <td>4022.91</td>\n",
       "    </tr>\n",
       "  </tbody>\n",
       "</table>\n",
       "</div>"
      ],
      "text/plain": [
       "            monetary\n",
       "CustomerID          \n",
       "15639        1065.08\n",
       "15339        1827.84\n",
       "17861        5122.74\n",
       "12365         641.38\n",
       "14824        4022.91"
      ]
     },
     "execution_count": 29,
     "metadata": {},
     "output_type": "execute_result"
    }
   ],
   "source": [
    "df_monetary = df.groupby('CustomerID').agg(\n",
    "    monetary=('TotalPrice', 'sum'),\n",
    ")\n",
    "\n",
    "df_monetary.sample(5, random_state=13)"
   ]
  },
  {
   "cell_type": "markdown",
   "id": "1d3da266",
   "metadata": {},
   "source": [
    "Selanjutnya, semua informasi yang sudah diperoleh, yaitu `length`, `recency`, `frequency`, dan `monetary`, akan digabungkan dalam satu dataframe untuk memudahkan analisis segmentasi customer."
   ]
  },
  {
   "cell_type": "code",
   "execution_count": 30,
   "id": "c7dbb415",
   "metadata": {},
   "outputs": [
    {
     "data": {
      "text/html": [
       "<div>\n",
       "<style scoped>\n",
       "    .dataframe tbody tr th:only-of-type {\n",
       "        vertical-align: middle;\n",
       "    }\n",
       "\n",
       "    .dataframe tbody tr th {\n",
       "        vertical-align: top;\n",
       "    }\n",
       "\n",
       "    .dataframe thead th {\n",
       "        text-align: right;\n",
       "    }\n",
       "</style>\n",
       "<table border=\"1\" class=\"dataframe\">\n",
       "  <thead>\n",
       "    <tr style=\"text-align: right;\">\n",
       "      <th></th>\n",
       "      <th>length</th>\n",
       "      <th>recency</th>\n",
       "      <th>frequency</th>\n",
       "      <th>monetary</th>\n",
       "    </tr>\n",
       "    <tr>\n",
       "      <th>CustomerID</th>\n",
       "      <th></th>\n",
       "      <th></th>\n",
       "      <th></th>\n",
       "      <th></th>\n",
       "    </tr>\n",
       "  </thead>\n",
       "  <tbody>\n",
       "    <tr>\n",
       "      <th>15639</th>\n",
       "      <td>605</td>\n",
       "      <td>134</td>\n",
       "      <td>3</td>\n",
       "      <td>1065.08</td>\n",
       "    </tr>\n",
       "    <tr>\n",
       "      <th>15339</th>\n",
       "      <td>669</td>\n",
       "      <td>66</td>\n",
       "      <td>7</td>\n",
       "      <td>1827.84</td>\n",
       "    </tr>\n",
       "    <tr>\n",
       "      <th>17861</th>\n",
       "      <td>730</td>\n",
       "      <td>3</td>\n",
       "      <td>18</td>\n",
       "      <td>5122.74</td>\n",
       "    </tr>\n",
       "    <tr>\n",
       "      <th>12365</th>\n",
       "      <td>291</td>\n",
       "      <td>291</td>\n",
       "      <td>2</td>\n",
       "      <td>641.38</td>\n",
       "    </tr>\n",
       "    <tr>\n",
       "      <th>14824</th>\n",
       "      <td>637</td>\n",
       "      <td>10</td>\n",
       "      <td>10</td>\n",
       "      <td>4022.91</td>\n",
       "    </tr>\n",
       "  </tbody>\n",
       "</table>\n",
       "</div>"
      ],
      "text/plain": [
       "            length  recency  frequency  monetary\n",
       "CustomerID                                      \n",
       "15639          605      134          3   1065.08\n",
       "15339          669       66          7   1827.84\n",
       "17861          730        3         18   5122.74\n",
       "12365          291      291          2    641.38\n",
       "14824          637       10         10   4022.91"
      ]
     },
     "execution_count": 30,
     "metadata": {},
     "output_type": "execute_result"
    }
   ],
   "source": [
    "df_customer = df.groupby('CustomerID').agg(\n",
    "    length=('InvoiceDate', lambda x: (analysis_date - x.min()).days),\n",
    "    recency=('InvoiceDate', lambda x: (analysis_date - x.max()).days),\n",
    "    frequency=('Invoice', lambda x: x.nunique()),    \n",
    "    monetary=('TotalPrice', 'sum'),\n",
    ")\n",
    "\n",
    "df_customer.sample(5, random_state=13)"
   ]
  },
  {
   "cell_type": "markdown",
   "id": "5659c7fd",
   "metadata": {},
   "source": [
    "Berikut penjelasan dari masing-masing variabel diatas:\n",
    "\n",
    "| Variable | Description |\n",
    "| --- | --- |\n",
    "| `customerID` | ID customer|\n",
    "| `length` | Usia customer, diperoleh dari selisih hari pertama bertransaksi dengan hari analisis |\n",
    "| `recency` | Selisih hari terakhir bertransaksi dengan hari analisis |\n",
    "| `frequency` | Jumlah transaksi yang dilakukan oleh customer |\n",
    "| `monetary` | Besar pengeluaran yang dilakukan oleh customer |"
   ]
  },
  {
   "cell_type": "markdown",
   "id": "9d17027d",
   "metadata": {},
   "source": [
    "### `Assigning Scores`\n",
    "\n",
    "Selanjutnya kita akan menentukan skor dengan metode berikut:\n",
    "- **Rule Based**: `Frequency`\n",
    "- **Statistical Approach**: `Length`, `Recency`, dan `Monetary`"
   ]
  },
  {
   "cell_type": "markdown",
   "id": "e6bf4185",
   "metadata": {},
   "source": [
    "#### **Length Segmentation**"
   ]
  },
  {
   "cell_type": "code",
   "execution_count": 31,
   "id": "9e7b8822",
   "metadata": {},
   "outputs": [
    {
     "data": {
      "image/png": "[encoded data removed]",
      "text/plain": [
       "<Figure size 750x500 with 2 Axes>"
      ]
     },
     "metadata": {},
     "output_type": "display_data"
    },
    {
     "data": {
      "text/plain": [
       "0.00      1.0\n",
       "0.25    312.0\n",
       "0.50    529.0\n",
       "0.75    667.0\n",
       "1.00    739.0\n",
       "Name: length, dtype: float64"
      ]
     },
     "metadata": {},
     "output_type": "display_data"
    }
   ],
   "source": [
    "fig, (ax_top, ax_bot) = plt.subplots(\n",
    "                            nrows=2, \n",
    "                            ncols=1, \n",
    "                            figsize=(7.5, 5),\n",
    "                            gridspec_kw={\n",
    "                                'height_ratios': (0.15, 0.85),\n",
    "                                'hspace': 0.05\n",
    "                            }\n",
    "                        )\n",
    "\n",
    "sns.boxplot(data=df_customer, x='length', ax=ax_top)\n",
    "sns.histplot(data=df_customer, x='length', ax=ax_bot)\n",
    "\n",
    "ax_top.set(\n",
    "    title='Duration of Customer Relationships by Days'\n",
    ")\n",
    "\n",
    "plt.show()\n",
    "display(df_customer['length'].quantile([0, 0.25, 0.5, 0.75, 1]))"
   ]
  },
  {
   "cell_type": "code",
   "execution_count": 32,
   "id": "245c21fc",
   "metadata": {},
   "outputs": [
    {
     "data": {
      "text/plain": [
       "CustomerID\n",
       "12346    (529.0, 667.0]\n",
       "12347    (312.0, 529.0]\n",
       "12348    (312.0, 529.0]\n",
       "12349    (529.0, 667.0]\n",
       "12350    (0.999, 312.0]\n",
       "              ...      \n",
       "18283    (529.0, 667.0]\n",
       "18284    (312.0, 529.0]\n",
       "18285    (529.0, 667.0]\n",
       "18286    (667.0, 739.0]\n",
       "18287    (529.0, 667.0]\n",
       "Name: length, Length: 5869, dtype: category\n",
       "Categories (4, interval[float64, right]): [(0.999, 312.0] < (312.0, 529.0] < (529.0, 667.0] < (667.0, 739.0]]"
      ]
     },
     "execution_count": 32,
     "metadata": {},
     "output_type": "execute_result"
    }
   ],
   "source": [
    "pd.qcut(df_customer['length'], q=4)"
   ]
  },
  {
   "cell_type": "markdown",
   "id": "bc140b07",
   "metadata": {},
   "source": [
    "Berdasarkan distribusi di atas, kita akan kelompokkan customer berdasarkan `length`-nya ke dalam 4 kelompok yaitu :\n",
    "- 4 (Loyalist) : telah bergabung lebih dari 667 hari\n",
    "- 3 (Active Member) : telah bergabung antara 529 hingga 667 hari terakhir\n",
    "- 2 (Explorer) : telah bergabung antara 312 hingga 529 hari terakhir\n",
    "- 1 (Newcomer) : baru bergabung antara 1 hingga 312 hari terakhir"
   ]
  },
  {
   "cell_type": "code",
   "execution_count": 33,
   "id": "6a0fdd30",
   "metadata": {},
   "outputs": [
    {
     "data": {
      "text/html": [
       "<div>\n",
       "<style scoped>\n",
       "    .dataframe tbody tr th:only-of-type {\n",
       "        vertical-align: middle;\n",
       "    }\n",
       "\n",
       "    .dataframe tbody tr th {\n",
       "        vertical-align: top;\n",
       "    }\n",
       "\n",
       "    .dataframe thead th {\n",
       "        text-align: right;\n",
       "    }\n",
       "</style>\n",
       "<table border=\"1\" class=\"dataframe\">\n",
       "  <thead>\n",
       "    <tr style=\"text-align: right;\">\n",
       "      <th></th>\n",
       "      <th>length</th>\n",
       "      <th>recency</th>\n",
       "      <th>frequency</th>\n",
       "      <th>monetary</th>\n",
       "      <th>l_score</th>\n",
       "    </tr>\n",
       "    <tr>\n",
       "      <th>CustomerID</th>\n",
       "      <th></th>\n",
       "      <th></th>\n",
       "      <th></th>\n",
       "      <th></th>\n",
       "      <th></th>\n",
       "    </tr>\n",
       "  </thead>\n",
       "  <tbody>\n",
       "    <tr>\n",
       "      <th>15639</th>\n",
       "      <td>605</td>\n",
       "      <td>134</td>\n",
       "      <td>3</td>\n",
       "      <td>1065.08</td>\n",
       "      <td>3</td>\n",
       "    </tr>\n",
       "    <tr>\n",
       "      <th>15339</th>\n",
       "      <td>669</td>\n",
       "      <td>66</td>\n",
       "      <td>7</td>\n",
       "      <td>1827.84</td>\n",
       "      <td>4</td>\n",
       "    </tr>\n",
       "    <tr>\n",
       "      <th>17861</th>\n",
       "      <td>730</td>\n",
       "      <td>3</td>\n",
       "      <td>18</td>\n",
       "      <td>5122.74</td>\n",
       "      <td>4</td>\n",
       "    </tr>\n",
       "    <tr>\n",
       "      <th>12365</th>\n",
       "      <td>291</td>\n",
       "      <td>291</td>\n",
       "      <td>2</td>\n",
       "      <td>641.38</td>\n",
       "      <td>1</td>\n",
       "    </tr>\n",
       "    <tr>\n",
       "      <th>14824</th>\n",
       "      <td>637</td>\n",
       "      <td>10</td>\n",
       "      <td>10</td>\n",
       "      <td>4022.91</td>\n",
       "      <td>3</td>\n",
       "    </tr>\n",
       "  </tbody>\n",
       "</table>\n",
       "</div>"
      ],
      "text/plain": [
       "            length  recency  frequency  monetary  l_score\n",
       "CustomerID                                               \n",
       "15639          605      134          3   1065.08        3\n",
       "15339          669       66          7   1827.84        4\n",
       "17861          730        3         18   5122.74        4\n",
       "12365          291      291          2    641.38        1\n",
       "14824          637       10         10   4022.91        3"
      ]
     },
     "execution_count": 33,
     "metadata": {},
     "output_type": "execute_result"
    }
   ],
   "source": [
    "df_customer['l_score'] = pd.qcut(\n",
    "    df_customer['length'],\n",
    "    q=4,                                # dibagi menjadi 4 kelompok sama banyak\n",
    "    labels=[1, 2, 3, 4]                 # pelabelan untuk length: semakin lama, maka semakin besar skornya\n",
    ").astype(int)\n",
    "\n",
    "df_customer.sample(5, random_state=13)"
   ]
  },
  {
   "cell_type": "markdown",
   "id": "127a1351",
   "metadata": {},
   "source": [
    "#### **Recency Segmentation**"
   ]
  },
  {
   "cell_type": "code",
   "execution_count": 34,
   "id": "de27f30c",
   "metadata": {},
   "outputs": [
    {
     "data": {
      "image/png": "[encoded data removed]",
      "text/plain": [
       "<Figure size 750x500 with 2 Axes>"
      ]
     },
     "metadata": {},
     "output_type": "display_data"
    },
    {
     "data": {
      "text/plain": [
       "0.00      1.0\n",
       "0.25     26.0\n",
       "0.50     96.0\n",
       "0.75    379.0\n",
       "1.00    739.0\n",
       "Name: recency, dtype: float64"
      ]
     },
     "metadata": {},
     "output_type": "display_data"
    }
   ],
   "source": [
    "fig, (ax_top, ax_bot) = plt.subplots(\n",
    "                            nrows=2, \n",
    "                            ncols=1, \n",
    "                            figsize=(7.5, 5),\n",
    "                            gridspec_kw={\n",
    "                                'height_ratios': (0.15, 0.85),\n",
    "                                'hspace': 0.05\n",
    "                            }\n",
    "                        )\n",
    "\n",
    "sns.boxplot(data=df_customer, x='recency', ax=ax_top)\n",
    "sns.histplot(data=df_customer, x='recency', ax=ax_bot)\n",
    "\n",
    "ax_top.set(\n",
    "    title='Last Time Customer Order by Days'\n",
    ")\n",
    "\n",
    "plt.show()\n",
    "display(df_customer['recency'].quantile([0, 0.25, 0.5, 0.75, 1]))"
   ]
  },
  {
   "cell_type": "code",
   "execution_count": 35,
   "id": "ce5e8ef3",
   "metadata": {},
   "outputs": [
    {
     "data": {
      "text/plain": [
       "CustomerID\n",
       "12346     (96.0, 379.0]\n",
       "12347     (0.999, 26.0]\n",
       "12348      (26.0, 96.0]\n",
       "12349     (0.999, 26.0]\n",
       "12350     (96.0, 379.0]\n",
       "              ...      \n",
       "18283     (0.999, 26.0]\n",
       "18284    (379.0, 739.0]\n",
       "18285    (379.0, 739.0]\n",
       "18286    (379.0, 739.0]\n",
       "18287      (26.0, 96.0]\n",
       "Name: recency, Length: 5869, dtype: category\n",
       "Categories (4, interval[float64, right]): [(0.999, 26.0] < (26.0, 96.0] < (96.0, 379.0] < (379.0, 739.0]]"
      ]
     },
     "execution_count": 35,
     "metadata": {},
     "output_type": "execute_result"
    }
   ],
   "source": [
    "pd.qcut(df_customer['recency'], q=4)"
   ]
  },
  {
   "cell_type": "markdown",
   "id": "5a48505e",
   "metadata": {},
   "source": [
    "Berdasarkan distribusi di atas, kita akan kelompokkan customer berdasarkan `recency`-nya ke dalam 4 kelompok yaitu :\n",
    "- 4 (Active) : melakukan transaksi kurang dari 26 hari terakhir\n",
    "- 3 (Warm) : melakukan transaksi antara 26 hingga 96 hari terakhir\n",
    "- 2 (At-Risk) : melakukan transaksi antara 96 hingga 379 hari terakhir\n",
    "- 1 (Churned) : melakukan transaksi lebih dari 379 hari terakhir"
   ]
  },
  {
   "cell_type": "code",
   "execution_count": 36,
   "id": "e2814866",
   "metadata": {},
   "outputs": [
    {
     "data": {
      "text/html": [
       "<div>\n",
       "<style scoped>\n",
       "    .dataframe tbody tr th:only-of-type {\n",
       "        vertical-align: middle;\n",
       "    }\n",
       "\n",
       "    .dataframe tbody tr th {\n",
       "        vertical-align: top;\n",
       "    }\n",
       "\n",
       "    .dataframe thead th {\n",
       "        text-align: right;\n",
       "    }\n",
       "</style>\n",
       "<table border=\"1\" class=\"dataframe\">\n",
       "  <thead>\n",
       "    <tr style=\"text-align: right;\">\n",
       "      <th></th>\n",
       "      <th>length</th>\n",
       "      <th>recency</th>\n",
       "      <th>frequency</th>\n",
       "      <th>monetary</th>\n",
       "      <th>l_score</th>\n",
       "      <th>r_score</th>\n",
       "    </tr>\n",
       "    <tr>\n",
       "      <th>CustomerID</th>\n",
       "      <th></th>\n",
       "      <th></th>\n",
       "      <th></th>\n",
       "      <th></th>\n",
       "      <th></th>\n",
       "      <th></th>\n",
       "    </tr>\n",
       "  </thead>\n",
       "  <tbody>\n",
       "    <tr>\n",
       "      <th>15639</th>\n",
       "      <td>605</td>\n",
       "      <td>134</td>\n",
       "      <td>3</td>\n",
       "      <td>1065.08</td>\n",
       "      <td>3</td>\n",
       "      <td>2</td>\n",
       "    </tr>\n",
       "    <tr>\n",
       "      <th>15339</th>\n",
       "      <td>669</td>\n",
       "      <td>66</td>\n",
       "      <td>7</td>\n",
       "      <td>1827.84</td>\n",
       "      <td>4</td>\n",
       "      <td>3</td>\n",
       "    </tr>\n",
       "    <tr>\n",
       "      <th>17861</th>\n",
       "      <td>730</td>\n",
       "      <td>3</td>\n",
       "      <td>18</td>\n",
       "      <td>5122.74</td>\n",
       "      <td>4</td>\n",
       "      <td>4</td>\n",
       "    </tr>\n",
       "    <tr>\n",
       "      <th>12365</th>\n",
       "      <td>291</td>\n",
       "      <td>291</td>\n",
       "      <td>2</td>\n",
       "      <td>641.38</td>\n",
       "      <td>1</td>\n",
       "      <td>2</td>\n",
       "    </tr>\n",
       "    <tr>\n",
       "      <th>14824</th>\n",
       "      <td>637</td>\n",
       "      <td>10</td>\n",
       "      <td>10</td>\n",
       "      <td>4022.91</td>\n",
       "      <td>3</td>\n",
       "      <td>4</td>\n",
       "    </tr>\n",
       "  </tbody>\n",
       "</table>\n",
       "</div>"
      ],
      "text/plain": [
       "            length  recency  frequency  monetary  l_score  r_score\n",
       "CustomerID                                                        \n",
       "15639          605      134          3   1065.08        3        2\n",
       "15339          669       66          7   1827.84        4        3\n",
       "17861          730        3         18   5122.74        4        4\n",
       "12365          291      291          2    641.38        1        2\n",
       "14824          637       10         10   4022.91        3        4"
      ]
     },
     "execution_count": 36,
     "metadata": {},
     "output_type": "execute_result"
    }
   ],
   "source": [
    "df_customer['r_score'] = pd.qcut(\n",
    "    df_customer['recency'],\n",
    "    q=4,                                # dibagi menjadi 4 kelompok sama banyak\n",
    "    labels=[4, 3, 2, 1]                 # pelabelan untuk recency: semakin kecil, maka semakin besar skornya\n",
    ").astype(int)\n",
    "\n",
    "df_customer.sample(5, random_state=13)"
   ]
  },
  {
   "cell_type": "markdown",
   "id": "3abc1459",
   "metadata": {},
   "source": [
    "#### **Frequency Segmentation**"
   ]
  },
  {
   "cell_type": "code",
   "execution_count": 37,
   "id": "11a10bd6",
   "metadata": {},
   "outputs": [
    {
     "data": {
      "image/png": "[encoded data removed]",
      "text/plain": [
       "<Figure size 750x500 with 2 Axes>"
      ]
     },
     "metadata": {},
     "output_type": "display_data"
    },
    {
     "data": {
      "text/plain": [
       "0.00      1.0\n",
       "0.25      1.0\n",
       "0.50      3.0\n",
       "0.75      7.0\n",
       "1.00    394.0\n",
       "Name: frequency, dtype: float64"
      ]
     },
     "metadata": {},
     "output_type": "display_data"
    }
   ],
   "source": [
    "fig, (ax_top, ax_bot) = plt.subplots(\n",
    "                            nrows=2, \n",
    "                            ncols=1, \n",
    "                            figsize=(7.5, 5),\n",
    "                            gridspec_kw={\n",
    "                                'height_ratios': (0.15, 0.85),\n",
    "                                'hspace': 0.05\n",
    "                            }\n",
    "                        )\n",
    "\n",
    "sns.boxplot(data=df_customer, x='frequency', ax=ax_top)\n",
    "sns.histplot(data=df_customer, x='frequency', ax=ax_bot)\n",
    "\n",
    "ax_top.set(\n",
    "    title='Total Transactions by Customer'\n",
    ")\n",
    "\n",
    "plt.show()\n",
    "display(df_customer['frequency'].quantile([0, 0.25, 0.5, 0.75, 1]))"
   ]
  },
  {
   "cell_type": "markdown",
   "id": "ad0ebf60",
   "metadata": {},
   "source": [
    "Berdasarkan distribusi di atas, kita akan kelompokkan customer berdasarkan `frequency`-nya ke dalam 4 kelompok mengacu pada jumlah transaksi yang kita tentukan yaitu:\n",
    "- 4 (Champion) : melakukan transaki lebih dari 7 kali\n",
    "- 3 (Frequent Buyer) : melakukan transaksi 4 hingga 7 kali\n",
    "- 2 (Occasional) : melakukan transaksi 2 hingga 3 kali\n",
    "- 1 (First-Time Buyer) : melakukan transaksi hanya 1 kali."
   ]
  },
  {
   "cell_type": "code",
   "execution_count": 38,
   "id": "501b4104",
   "metadata": {},
   "outputs": [
    {
     "data": {
      "text/html": [
       "<div>\n",
       "<style scoped>\n",
       "    .dataframe tbody tr th:only-of-type {\n",
       "        vertical-align: middle;\n",
       "    }\n",
       "\n",
       "    .dataframe tbody tr th {\n",
       "        vertical-align: top;\n",
       "    }\n",
       "\n",
       "    .dataframe thead th {\n",
       "        text-align: right;\n",
       "    }\n",
       "</style>\n",
       "<table border=\"1\" class=\"dataframe\">\n",
       "  <thead>\n",
       "    <tr style=\"text-align: right;\">\n",
       "      <th></th>\n",
       "      <th>length</th>\n",
       "      <th>recency</th>\n",
       "      <th>frequency</th>\n",
       "      <th>monetary</th>\n",
       "      <th>l_score</th>\n",
       "      <th>r_score</th>\n",
       "      <th>f_score</th>\n",
       "    </tr>\n",
       "    <tr>\n",
       "      <th>CustomerID</th>\n",
       "      <th></th>\n",
       "      <th></th>\n",
       "      <th></th>\n",
       "      <th></th>\n",
       "      <th></th>\n",
       "      <th></th>\n",
       "      <th></th>\n",
       "    </tr>\n",
       "  </thead>\n",
       "  <tbody>\n",
       "    <tr>\n",
       "      <th>15639</th>\n",
       "      <td>605</td>\n",
       "      <td>134</td>\n",
       "      <td>3</td>\n",
       "      <td>1065.08</td>\n",
       "      <td>3</td>\n",
       "      <td>2</td>\n",
       "      <td>2</td>\n",
       "    </tr>\n",
       "    <tr>\n",
       "      <th>15339</th>\n",
       "      <td>669</td>\n",
       "      <td>66</td>\n",
       "      <td>7</td>\n",
       "      <td>1827.84</td>\n",
       "      <td>4</td>\n",
       "      <td>3</td>\n",
       "      <td>3</td>\n",
       "    </tr>\n",
       "    <tr>\n",
       "      <th>17861</th>\n",
       "      <td>730</td>\n",
       "      <td>3</td>\n",
       "      <td>18</td>\n",
       "      <td>5122.74</td>\n",
       "      <td>4</td>\n",
       "      <td>4</td>\n",
       "      <td>4</td>\n",
       "    </tr>\n",
       "    <tr>\n",
       "      <th>12365</th>\n",
       "      <td>291</td>\n",
       "      <td>291</td>\n",
       "      <td>2</td>\n",
       "      <td>641.38</td>\n",
       "      <td>1</td>\n",
       "      <td>2</td>\n",
       "      <td>2</td>\n",
       "    </tr>\n",
       "    <tr>\n",
       "      <th>14824</th>\n",
       "      <td>637</td>\n",
       "      <td>10</td>\n",
       "      <td>10</td>\n",
       "      <td>4022.91</td>\n",
       "      <td>3</td>\n",
       "      <td>4</td>\n",
       "      <td>4</td>\n",
       "    </tr>\n",
       "  </tbody>\n",
       "</table>\n",
       "</div>"
      ],
      "text/plain": [
       "            length  recency  frequency  monetary  l_score  r_score  f_score\n",
       "CustomerID                                                                 \n",
       "15639          605      134          3   1065.08        3        2        2\n",
       "15339          669       66          7   1827.84        4        3        3\n",
       "17861          730        3         18   5122.74        4        4        4\n",
       "12365          291      291          2    641.38        1        2        2\n",
       "14824          637       10         10   4022.91        3        4        4"
      ]
     },
     "execution_count": 38,
     "metadata": {},
     "output_type": "execute_result"
    }
   ],
   "source": [
    "def f_score(x):\n",
    "    if x == 1:\n",
    "        return 1\n",
    "    elif x <= 3:\n",
    "        return 2\n",
    "    elif x <= 7:\n",
    "        return 3\n",
    "    else:\n",
    "        return 4\n",
    "    \n",
    "df_customer['f_score'] = df_customer['frequency'].apply(f_score)\n",
    "df_customer.sample(5, random_state=13)"
   ]
  },
  {
   "cell_type": "markdown",
   "id": "79584228",
   "metadata": {},
   "source": [
    "#### **Monetary Segmentation**"
   ]
  },
  {
   "cell_type": "code",
   "execution_count": 39,
   "id": "083301b2",
   "metadata": {},
   "outputs": [
    {
     "data": {
      "image/png": "[encoded data removed]",
      "text/plain": [
       "<Figure size 750x500 with 2 Axes>"
      ]
     },
     "metadata": {},
     "output_type": "display_data"
    },
    {
     "data": {
      "text/plain": [
       "0.00         0.00\n",
       "0.25       346.49\n",
       "0.50       883.73\n",
       "0.75      2297.66\n",
       "1.00    607967.25\n",
       "Name: monetary, dtype: float64"
      ]
     },
     "metadata": {},
     "output_type": "display_data"
    }
   ],
   "source": [
    "fig, (ax_top, ax_bot) = plt.subplots(\n",
    "                            nrows=2, \n",
    "                            ncols=1, \n",
    "                            figsize=(7.5, 5),\n",
    "                            gridspec_kw={\n",
    "                                'height_ratios': (0.15, 0.85),\n",
    "                                'hspace': 0.05\n",
    "                            }\n",
    "                        )\n",
    "\n",
    "sns.boxplot(data=df_customer, x='monetary', ax=ax_top)\n",
    "sns.histplot(data=df_customer, x='monetary', ax=ax_bot)\n",
    "\n",
    "ax_top.set(\n",
    "    title='Total Revenue by Customer'\n",
    ")\n",
    "\n",
    "plt.show()\n",
    "display(df_customer['monetary'].quantile([0, 0.25, 0.5, 0.75, 1]))"
   ]
  },
  {
   "cell_type": "markdown",
   "id": "cb2f8e94",
   "metadata": {},
   "source": [
    "Berdasarkan distribusi di atas, kita akan kelompokkan customer berdasarkan `monetary`-nya ke dalam 4 kelompok yaitu :\n",
    "- 4 (VIP) : melakukan transaksi lebih dari **£2297.66**\n",
    "- 3 (Valuable) : melakukan transaksi antara **£883.73** hingga **£2297.66**\n",
    "- 2 (Average) : melakukan transaksi antara **£346.49** hingga **£883.73**\n",
    "- 1 (Low Value) : melakukan transaksi kurang dari dari **£346.49**"
   ]
  },
  {
   "cell_type": "code",
   "execution_count": 40,
   "id": "88d741c0",
   "metadata": {},
   "outputs": [
    {
     "data": {
      "text/html": [
       "<div>\n",
       "<style scoped>\n",
       "    .dataframe tbody tr th:only-of-type {\n",
       "        vertical-align: middle;\n",
       "    }\n",
       "\n",
       "    .dataframe tbody tr th {\n",
       "        vertical-align: top;\n",
       "    }\n",
       "\n",
       "    .dataframe thead th {\n",
       "        text-align: right;\n",
       "    }\n",
       "</style>\n",
       "<table border=\"1\" class=\"dataframe\">\n",
       "  <thead>\n",
       "    <tr style=\"text-align: right;\">\n",
       "      <th></th>\n",
       "      <th>length</th>\n",
       "      <th>recency</th>\n",
       "      <th>frequency</th>\n",
       "      <th>monetary</th>\n",
       "      <th>l_score</th>\n",
       "      <th>r_score</th>\n",
       "      <th>f_score</th>\n",
       "      <th>m_score</th>\n",
       "    </tr>\n",
       "    <tr>\n",
       "      <th>CustomerID</th>\n",
       "      <th></th>\n",
       "      <th></th>\n",
       "      <th></th>\n",
       "      <th></th>\n",
       "      <th></th>\n",
       "      <th></th>\n",
       "      <th></th>\n",
       "      <th></th>\n",
       "    </tr>\n",
       "  </thead>\n",
       "  <tbody>\n",
       "    <tr>\n",
       "      <th>15639</th>\n",
       "      <td>605</td>\n",
       "      <td>134</td>\n",
       "      <td>3</td>\n",
       "      <td>1065.08</td>\n",
       "      <td>3</td>\n",
       "      <td>2</td>\n",
       "      <td>2</td>\n",
       "      <td>3</td>\n",
       "    </tr>\n",
       "    <tr>\n",
       "      <th>15339</th>\n",
       "      <td>669</td>\n",
       "      <td>66</td>\n",
       "      <td>7</td>\n",
       "      <td>1827.84</td>\n",
       "      <td>4</td>\n",
       "      <td>3</td>\n",
       "      <td>3</td>\n",
       "      <td>3</td>\n",
       "    </tr>\n",
       "    <tr>\n",
       "      <th>17861</th>\n",
       "      <td>730</td>\n",
       "      <td>3</td>\n",
       "      <td>18</td>\n",
       "      <td>5122.74</td>\n",
       "      <td>4</td>\n",
       "      <td>4</td>\n",
       "      <td>4</td>\n",
       "      <td>4</td>\n",
       "    </tr>\n",
       "    <tr>\n",
       "      <th>12365</th>\n",
       "      <td>291</td>\n",
       "      <td>291</td>\n",
       "      <td>2</td>\n",
       "      <td>641.38</td>\n",
       "      <td>1</td>\n",
       "      <td>2</td>\n",
       "      <td>2</td>\n",
       "      <td>2</td>\n",
       "    </tr>\n",
       "    <tr>\n",
       "      <th>14824</th>\n",
       "      <td>637</td>\n",
       "      <td>10</td>\n",
       "      <td>10</td>\n",
       "      <td>4022.91</td>\n",
       "      <td>3</td>\n",
       "      <td>4</td>\n",
       "      <td>4</td>\n",
       "      <td>4</td>\n",
       "    </tr>\n",
       "  </tbody>\n",
       "</table>\n",
       "</div>"
      ],
      "text/plain": [
       "            length  recency  frequency  monetary  l_score  r_score  f_score  \\\n",
       "CustomerID                                                                    \n",
       "15639          605      134          3   1065.08        3        2        2   \n",
       "15339          669       66          7   1827.84        4        3        3   \n",
       "17861          730        3         18   5122.74        4        4        4   \n",
       "12365          291      291          2    641.38        1        2        2   \n",
       "14824          637       10         10   4022.91        3        4        4   \n",
       "\n",
       "            m_score  \n",
       "CustomerID           \n",
       "15639             3  \n",
       "15339             3  \n",
       "17861             4  \n",
       "12365             2  \n",
       "14824             4  "
      ]
     },
     "execution_count": 40,
     "metadata": {},
     "output_type": "execute_result"
    }
   ],
   "source": [
    "df_customer['m_score'] = pd.qcut(\n",
    "    df_customer['monetary'],\n",
    "    q=4,                                # dibagi menjadi 4 kelompok sama banyak\n",
    "    labels=[1, 2, 3, 4]                 # pelabelan untuk monetary: semakin besar, maka semakin besar skornya\n",
    ").astype(int)\n",
    "\n",
    "df_customer.sample(5, random_state=13)\n"
   ]
  },
  {
   "cell_type": "markdown",
   "id": "336b0d20",
   "metadata": {},
   "source": [
    "### `Inspecting Anomalies`"
   ]
  },
  {
   "cell_type": "code",
   "execution_count": 41,
   "id": "e43e566a",
   "metadata": {},
   "outputs": [
    {
     "data": {
      "image/png": "[encoded data removed]",
      "text/plain": [
       "<Figure size 1500x500 with 4 Axes>"
      ]
     },
     "metadata": {},
     "output_type": "display_data"
    }
   ],
   "source": [
    "fig, ax = plt.subplots(1,4, figsize=(15, 5))\n",
    "\n",
    "sns.boxplot(df_customer['length'], color='skyblue', ax=ax[0])\n",
    "ax[0].set_title('Length Distribution')\n",
    "ax[0].set_xlabel('Length')\n",
    "ax[0].set_ylabel('Count')\n",
    "\n",
    "sns.boxplot(df_customer['recency'], color='lightgreen', ax=ax[1])\n",
    "ax[1].set_title('Recency Distribution')\n",
    "ax[1].set_xlabel('Recency')\n",
    "ax[1].set_ylabel('Count')\n",
    "\n",
    "sns.boxplot(df_customer['frequency'], color='salmon', ax=ax[2])\n",
    "ax[2].set_title('Frequency Distribution')\n",
    "ax[2].set_xlabel('Frequency')\n",
    "ax[2].set_ylabel('Count')\n",
    "\n",
    "sns.boxplot(df_customer['monetary'], color='royalblue', ax=ax[3])\n",
    "ax[3].set_title('Monetary Distribution')\n",
    "ax[3].set_xlabel('Monetary')\n",
    "ax[3].set_ylabel('Count')\n",
    "\n",
    "plt.tight_layout()\n",
    "plt.show()"
   ]
  },
  {
   "cell_type": "code",
   "execution_count": 42,
   "id": "25e46699",
   "metadata": {},
   "outputs": [
    {
     "data": {
      "text/html": [
       "<div>\n",
       "<style scoped>\n",
       "    .dataframe tbody tr th:only-of-type {\n",
       "        vertical-align: middle;\n",
       "    }\n",
       "\n",
       "    .dataframe tbody tr th {\n",
       "        vertical-align: top;\n",
       "    }\n",
       "\n",
       "    .dataframe thead th {\n",
       "        text-align: right;\n",
       "    }\n",
       "</style>\n",
       "<table border=\"1\" class=\"dataframe\">\n",
       "  <thead>\n",
       "    <tr style=\"text-align: right;\">\n",
       "      <th></th>\n",
       "      <th>length</th>\n",
       "      <th>recency</th>\n",
       "      <th>frequency</th>\n",
       "      <th>monetary</th>\n",
       "      <th>l_score</th>\n",
       "      <th>r_score</th>\n",
       "      <th>f_score</th>\n",
       "      <th>m_score</th>\n",
       "    </tr>\n",
       "  </thead>\n",
       "  <tbody>\n",
       "    <tr>\n",
       "      <th>count</th>\n",
       "      <td>426.000000</td>\n",
       "      <td>426.000000</td>\n",
       "      <td>426.000000</td>\n",
       "      <td>426.000000</td>\n",
       "      <td>426.000000</td>\n",
       "      <td>426.000000</td>\n",
       "      <td>426.0</td>\n",
       "      <td>426.000000</td>\n",
       "    </tr>\n",
       "    <tr>\n",
       "      <th>mean</th>\n",
       "      <td>676.091549</td>\n",
       "      <td>31.333333</td>\n",
       "      <td>34.967136</td>\n",
       "      <td>21250.257042</td>\n",
       "      <td>3.598592</td>\n",
       "      <td>3.678404</td>\n",
       "      <td>4.0</td>\n",
       "      <td>3.997653</td>\n",
       "    </tr>\n",
       "    <tr>\n",
       "      <th>std</th>\n",
       "      <td>103.405807</td>\n",
       "      <td>68.857375</td>\n",
       "      <td>35.446514</td>\n",
       "      <td>49612.309221</td>\n",
       "      <td>0.729801</td>\n",
       "      <td>0.634204</td>\n",
       "      <td>0.0</td>\n",
       "      <td>0.048450</td>\n",
       "    </tr>\n",
       "    <tr>\n",
       "      <th>min</th>\n",
       "      <td>102.000000</td>\n",
       "      <td>1.000000</td>\n",
       "      <td>17.000000</td>\n",
       "      <td>1820.440000</td>\n",
       "      <td>1.000000</td>\n",
       "      <td>1.000000</td>\n",
       "      <td>4.0</td>\n",
       "      <td>3.000000</td>\n",
       "    </tr>\n",
       "    <tr>\n",
       "      <th>25%</th>\n",
       "      <td>658.000000</td>\n",
       "      <td>4.000000</td>\n",
       "      <td>20.000000</td>\n",
       "      <td>6422.767500</td>\n",
       "      <td>3.000000</td>\n",
       "      <td>4.000000</td>\n",
       "      <td>4.0</td>\n",
       "      <td>4.000000</td>\n",
       "    </tr>\n",
       "    <tr>\n",
       "      <th>50%</th>\n",
       "      <td>726.000000</td>\n",
       "      <td>10.000000</td>\n",
       "      <td>25.000000</td>\n",
       "      <td>9771.465000</td>\n",
       "      <td>4.000000</td>\n",
       "      <td>4.000000</td>\n",
       "      <td>4.0</td>\n",
       "      <td>4.000000</td>\n",
       "    </tr>\n",
       "    <tr>\n",
       "      <th>75%</th>\n",
       "      <td>735.750000</td>\n",
       "      <td>25.000000</td>\n",
       "      <td>35.000000</td>\n",
       "      <td>16939.505000</td>\n",
       "      <td>4.000000</td>\n",
       "      <td>4.000000</td>\n",
       "      <td>4.0</td>\n",
       "      <td>4.000000</td>\n",
       "    </tr>\n",
       "    <tr>\n",
       "      <th>max</th>\n",
       "      <td>739.000000</td>\n",
       "      <td>576.000000</td>\n",
       "      <td>394.000000</td>\n",
       "      <td>607967.250000</td>\n",
       "      <td>4.000000</td>\n",
       "      <td>4.000000</td>\n",
       "      <td>4.0</td>\n",
       "      <td>4.000000</td>\n",
       "    </tr>\n",
       "  </tbody>\n",
       "</table>\n",
       "</div>"
      ],
      "text/plain": [
       "           length     recency   frequency       monetary     l_score  \\\n",
       "count  426.000000  426.000000  426.000000     426.000000  426.000000   \n",
       "mean   676.091549   31.333333   34.967136   21250.257042    3.598592   \n",
       "std    103.405807   68.857375   35.446514   49612.309221    0.729801   \n",
       "min    102.000000    1.000000   17.000000    1820.440000    1.000000   \n",
       "25%    658.000000    4.000000   20.000000    6422.767500    3.000000   \n",
       "50%    726.000000   10.000000   25.000000    9771.465000    4.000000   \n",
       "75%    735.750000   25.000000   35.000000   16939.505000    4.000000   \n",
       "max    739.000000  576.000000  394.000000  607967.250000    4.000000   \n",
       "\n",
       "          r_score  f_score     m_score  \n",
       "count  426.000000    426.0  426.000000  \n",
       "mean     3.678404      4.0    3.997653  \n",
       "std      0.634204      0.0    0.048450  \n",
       "min      1.000000      4.0    3.000000  \n",
       "25%      4.000000      4.0    4.000000  \n",
       "50%      4.000000      4.0    4.000000  \n",
       "75%      4.000000      4.0    4.000000  \n",
       "max      4.000000      4.0    4.000000  "
      ]
     },
     "execution_count": 42,
     "metadata": {},
     "output_type": "execute_result"
    }
   ],
   "source": [
    "F_Q1 = df_customer['frequency'].quantile(0.25)\n",
    "F_Q3 = df_customer['frequency'].quantile(0.75)\n",
    "F_IQR = F_Q3 - F_Q1\n",
    "\n",
    "frequency_outliers_df = df_customer[(df_customer['frequency'] > (F_Q3 + 1.5 * F_IQR)) | (df_customer['frequency'] < (F_Q1 - 1.5 * F_IQR))].copy()\n",
    "\n",
    "frequency_outliers_df.describe()"
   ]
  },
  {
   "cell_type": "code",
   "execution_count": 43,
   "id": "96e5266f",
   "metadata": {},
   "outputs": [
    {
     "data": {
      "text/html": [
       "<div>\n",
       "<style scoped>\n",
       "    .dataframe tbody tr th:only-of-type {\n",
       "        vertical-align: middle;\n",
       "    }\n",
       "\n",
       "    .dataframe tbody tr th {\n",
       "        vertical-align: top;\n",
       "    }\n",
       "\n",
       "    .dataframe thead th {\n",
       "        text-align: right;\n",
       "    }\n",
       "</style>\n",
       "<table border=\"1\" class=\"dataframe\">\n",
       "  <thead>\n",
       "    <tr style=\"text-align: right;\">\n",
       "      <th></th>\n",
       "      <th>length</th>\n",
       "      <th>recency</th>\n",
       "      <th>frequency</th>\n",
       "      <th>monetary</th>\n",
       "      <th>l_score</th>\n",
       "      <th>r_score</th>\n",
       "      <th>f_score</th>\n",
       "      <th>m_score</th>\n",
       "    </tr>\n",
       "  </thead>\n",
       "  <tbody>\n",
       "    <tr>\n",
       "      <th>count</th>\n",
       "      <td>624.000000</td>\n",
       "      <td>624.000000</td>\n",
       "      <td>624.000000</td>\n",
       "      <td>624.000000</td>\n",
       "      <td>624.000000</td>\n",
       "      <td>624.000000</td>\n",
       "      <td>624.000000</td>\n",
       "      <td>624.0</td>\n",
       "    </tr>\n",
       "    <tr>\n",
       "      <th>mean</th>\n",
       "      <td>652.182692</td>\n",
       "      <td>53.514423</td>\n",
       "      <td>26.000000</td>\n",
       "      <td>18331.807147</td>\n",
       "      <td>3.458333</td>\n",
       "      <td>3.467949</td>\n",
       "      <td>3.870192</td>\n",
       "      <td>4.0</td>\n",
       "    </tr>\n",
       "    <tr>\n",
       "      <th>std</th>\n",
       "      <td>126.337970</td>\n",
       "      <td>105.740846</td>\n",
       "      <td>31.742847</td>\n",
       "      <td>41908.354725</td>\n",
       "      <td>0.814118</td>\n",
       "      <td>0.802643</td>\n",
       "      <td>0.447008</td>\n",
       "      <td>0.0</td>\n",
       "    </tr>\n",
       "    <tr>\n",
       "      <th>min</th>\n",
       "      <td>3.000000</td>\n",
       "      <td>1.000000</td>\n",
       "      <td>1.000000</td>\n",
       "      <td>5232.230000</td>\n",
       "      <td>1.000000</td>\n",
       "      <td>1.000000</td>\n",
       "      <td>1.000000</td>\n",
       "      <td>4.0</td>\n",
       "    </tr>\n",
       "    <tr>\n",
       "      <th>25%</th>\n",
       "      <td>628.000000</td>\n",
       "      <td>5.000000</td>\n",
       "      <td>12.000000</td>\n",
       "      <td>6602.862500</td>\n",
       "      <td>3.000000</td>\n",
       "      <td>3.000000</td>\n",
       "      <td>4.000000</td>\n",
       "      <td>4.0</td>\n",
       "    </tr>\n",
       "    <tr>\n",
       "      <th>50%</th>\n",
       "      <td>702.500000</td>\n",
       "      <td>17.000000</td>\n",
       "      <td>18.000000</td>\n",
       "      <td>9160.730000</td>\n",
       "      <td>4.000000</td>\n",
       "      <td>4.000000</td>\n",
       "      <td>4.000000</td>\n",
       "      <td>4.0</td>\n",
       "    </tr>\n",
       "    <tr>\n",
       "      <th>75%</th>\n",
       "      <td>733.000000</td>\n",
       "      <td>49.000000</td>\n",
       "      <td>29.000000</td>\n",
       "      <td>14535.792500</td>\n",
       "      <td>4.000000</td>\n",
       "      <td>4.000000</td>\n",
       "      <td>4.000000</td>\n",
       "      <td>4.0</td>\n",
       "    </tr>\n",
       "    <tr>\n",
       "      <th>max</th>\n",
       "      <td>739.000000</td>\n",
       "      <td>692.000000</td>\n",
       "      <td>394.000000</td>\n",
       "      <td>607967.250000</td>\n",
       "      <td>4.000000</td>\n",
       "      <td>4.000000</td>\n",
       "      <td>4.000000</td>\n",
       "      <td>4.0</td>\n",
       "    </tr>\n",
       "  </tbody>\n",
       "</table>\n",
       "</div>"
      ],
      "text/plain": [
       "           length     recency   frequency       monetary     l_score  \\\n",
       "count  624.000000  624.000000  624.000000     624.000000  624.000000   \n",
       "mean   652.182692   53.514423   26.000000   18331.807147    3.458333   \n",
       "std    126.337970  105.740846   31.742847   41908.354725    0.814118   \n",
       "min      3.000000    1.000000    1.000000    5232.230000    1.000000   \n",
       "25%    628.000000    5.000000   12.000000    6602.862500    3.000000   \n",
       "50%    702.500000   17.000000   18.000000    9160.730000    4.000000   \n",
       "75%    733.000000   49.000000   29.000000   14535.792500    4.000000   \n",
       "max    739.000000  692.000000  394.000000  607967.250000    4.000000   \n",
       "\n",
       "          r_score     f_score  m_score  \n",
       "count  624.000000  624.000000    624.0  \n",
       "mean     3.467949    3.870192      4.0  \n",
       "std      0.802643    0.447008      0.0  \n",
       "min      1.000000    1.000000      4.0  \n",
       "25%      3.000000    4.000000      4.0  \n",
       "50%      4.000000    4.000000      4.0  \n",
       "75%      4.000000    4.000000      4.0  \n",
       "max      4.000000    4.000000      4.0  "
      ]
     },
     "execution_count": 43,
     "metadata": {},
     "output_type": "execute_result"
    }
   ],
   "source": [
    "M_Q1 = df_customer['monetary'].quantile(0.25)\n",
    "M_Q3 = df_customer['monetary'].quantile(0.75)\n",
    "M_IQR = M_Q3 - M_Q1\n",
    "\n",
    "monetary_outliers_df = df_customer[(df_customer['monetary'] > (M_Q3 + 1.5 * M_IQR)) | (df_customer['monetary'] < (M_Q1 - 1.5 * M_IQR))].copy()\n",
    "\n",
    "monetary_outliers_df.describe()"
   ]
  },
  {
   "cell_type": "markdown",
   "id": "a4d7e3df",
   "metadata": {},
   "source": [
    "---\n",
    "\n",
    "**Outlier tidak dihapus dari dataset**. Sebaliknya, mereka dipertahankan karena berpotensi merepresentasikan segmen pelanggan bernilai tinggi atau ekstrem yang relevan secara bisnis\n",
    "\n",
    "---"
   ]
  },
  {
   "cell_type": "markdown",
   "id": "82a26e01",
   "metadata": {},
   "source": [
    "### `Labelling Segmentations` **(KMeans Clustering)**\n",
    "\n",
    "#### `K-Best`"
   ]
  },
  {
   "cell_type": "code",
   "execution_count": 44,
   "id": "00c0d05b",
   "metadata": {},
   "outputs": [
    {
     "data": {
      "image/png": "[encoded data removed]",
      "text/plain": [
       "<Figure size 1400x600 with 2 Axes>"
      ]
     },
     "metadata": {},
     "output_type": "display_data"
    }
   ],
   "source": [
    "max_k = 12\n",
    "\n",
    "inertia = []\n",
    "silhoutte_scores = []\n",
    "k_values = range(2, max_k + 1)\n",
    "\n",
    "for k in k_values:\n",
    "\n",
    "    kmeans = KMeans(n_clusters=k, random_state=13, max_iter=1000)\n",
    "\n",
    "    cluster_labels = kmeans.fit_predict(df_customer)\n",
    "\n",
    "    sil_score = silhouette_score(df_customer, cluster_labels)\n",
    "\n",
    "    silhoutte_scores.append(sil_score)\n",
    "\n",
    "    inertia.append(kmeans.inertia_)\n",
    "\n",
    "plt.figure(figsize=(14, 6))\n",
    "\n",
    "plt.subplot(1, 2, 1)\n",
    "plt.plot(k_values, inertia, marker='o')\n",
    "plt.title('KMeans Inertia for Different Values of k')\n",
    "plt.xlabel('Number of Clusters (k)')\n",
    "plt.ylabel('Inertia')\n",
    "plt.xticks(k_values)\n",
    "plt.grid(True)\n",
    "\n",
    "plt.subplot(1, 2, 2)\n",
    "plt.plot(k_values, silhoutte_scores, marker='o', color='orange')\n",
    "plt.title('Silhouette Scores for Different Values of k')\n",
    "plt.xlabel('Number of Clusters (k)')\n",
    "plt.ylabel('Silhouette Score')\n",
    "plt.xticks(k_values)\n",
    "plt.grid(True)\n",
    "\n",
    "plt.tight_layout()\n",
    "plt.show()"
   ]
  },
  {
   "cell_type": "markdown",
   "id": "afa98886",
   "metadata": {},
   "source": [
    "`K = 4` memberikan keseimbangan terbaik antara:\n",
    "\n",
    "* Inertia yang cukup rendah, menunjukkan distribusi data yang baik dalam klaster\n",
    "\n",
    "* Silhouette Score yang masih tinggi, mengindikasikan bahwa klaster masih kompak dan terpisah dengan jelas"
   ]
  },
  {
   "cell_type": "code",
   "execution_count": 45,
   "id": "962a48ea",
   "metadata": {},
   "outputs": [
    {
     "data": {
      "text/html": [
       "<div>\n",
       "<style scoped>\n",
       "    .dataframe tbody tr th:only-of-type {\n",
       "        vertical-align: middle;\n",
       "    }\n",
       "\n",
       "    .dataframe tbody tr th {\n",
       "        vertical-align: top;\n",
       "    }\n",
       "\n",
       "    .dataframe thead th {\n",
       "        text-align: right;\n",
       "    }\n",
       "</style>\n",
       "<table border=\"1\" class=\"dataframe\">\n",
       "  <thead>\n",
       "    <tr style=\"text-align: right;\">\n",
       "      <th></th>\n",
       "      <th>length</th>\n",
       "      <th>recency</th>\n",
       "      <th>frequency</th>\n",
       "      <th>monetary</th>\n",
       "      <th>l_score</th>\n",
       "      <th>r_score</th>\n",
       "      <th>f_score</th>\n",
       "      <th>m_score</th>\n",
       "      <th>lrfm_segment_clustering</th>\n",
       "    </tr>\n",
       "    <tr>\n",
       "      <th>CustomerID</th>\n",
       "      <th></th>\n",
       "      <th></th>\n",
       "      <th></th>\n",
       "      <th></th>\n",
       "      <th></th>\n",
       "      <th></th>\n",
       "      <th></th>\n",
       "      <th></th>\n",
       "      <th></th>\n",
       "    </tr>\n",
       "  </thead>\n",
       "  <tbody>\n",
       "    <tr>\n",
       "      <th>15639</th>\n",
       "      <td>605</td>\n",
       "      <td>134</td>\n",
       "      <td>3</td>\n",
       "      <td>1065.08</td>\n",
       "      <td>3</td>\n",
       "      <td>2</td>\n",
       "      <td>2</td>\n",
       "      <td>3</td>\n",
       "      <td>0</td>\n",
       "    </tr>\n",
       "    <tr>\n",
       "      <th>15339</th>\n",
       "      <td>669</td>\n",
       "      <td>66</td>\n",
       "      <td>7</td>\n",
       "      <td>1827.84</td>\n",
       "      <td>4</td>\n",
       "      <td>3</td>\n",
       "      <td>3</td>\n",
       "      <td>3</td>\n",
       "      <td>0</td>\n",
       "    </tr>\n",
       "    <tr>\n",
       "      <th>17861</th>\n",
       "      <td>730</td>\n",
       "      <td>3</td>\n",
       "      <td>18</td>\n",
       "      <td>5122.74</td>\n",
       "      <td>4</td>\n",
       "      <td>4</td>\n",
       "      <td>4</td>\n",
       "      <td>4</td>\n",
       "      <td>0</td>\n",
       "    </tr>\n",
       "    <tr>\n",
       "      <th>12365</th>\n",
       "      <td>291</td>\n",
       "      <td>291</td>\n",
       "      <td>2</td>\n",
       "      <td>641.38</td>\n",
       "      <td>1</td>\n",
       "      <td>2</td>\n",
       "      <td>2</td>\n",
       "      <td>2</td>\n",
       "      <td>0</td>\n",
       "    </tr>\n",
       "    <tr>\n",
       "      <th>14824</th>\n",
       "      <td>637</td>\n",
       "      <td>10</td>\n",
       "      <td>10</td>\n",
       "      <td>4022.91</td>\n",
       "      <td>3</td>\n",
       "      <td>4</td>\n",
       "      <td>4</td>\n",
       "      <td>4</td>\n",
       "      <td>0</td>\n",
       "    </tr>\n",
       "  </tbody>\n",
       "</table>\n",
       "</div>"
      ],
      "text/plain": [
       "            length  recency  frequency  monetary  l_score  r_score  f_score  \\\n",
       "CustomerID                                                                    \n",
       "15639          605      134          3   1065.08        3        2        2   \n",
       "15339          669       66          7   1827.84        4        3        3   \n",
       "17861          730        3         18   5122.74        4        4        4   \n",
       "12365          291      291          2    641.38        1        2        2   \n",
       "14824          637       10         10   4022.91        3        4        4   \n",
       "\n",
       "            m_score lrfm_segment_clustering  \n",
       "CustomerID                                   \n",
       "15639             3                       0  \n",
       "15339             3                       0  \n",
       "17861             4                       0  \n",
       "12365             2                       0  \n",
       "14824             4                       0  "
      ]
     },
     "execution_count": 45,
     "metadata": {},
     "output_type": "execute_result"
    }
   ],
   "source": [
    "model = KMeans(n_clusters=4, random_state=13, max_iter=1000)\n",
    "\n",
    "# fitting model\n",
    "model.fit(df_customer.loc[:, 'length':'monetary'])\n",
    "\n",
    "# menambahkan label\n",
    "df_customer['lrfm_segment_clustering'] = model.labels_.astype(str)\n",
    "df_customer.sample(5, random_state=13)"
   ]
  },
  {
   "cell_type": "code",
   "execution_count": 46,
   "id": "3da480d8",
   "metadata": {},
   "outputs": [
    {
     "data": {
      "image/png": "[encoded data removed]",
      "text/plain": [
       "<Figure size 640x480 with 2 Axes>"
      ]
     },
     "metadata": {},
     "output_type": "display_data"
    }
   ],
   "source": [
    "lrfm_heatmap = df_customer.pivot_table(index='lrfm_segment_clustering', values=['length', 'recency', 'frequency', 'monetary'], aggfunc='median')\n",
    "\n",
    "sns.heatmap(lrfm_heatmap, cmap='YlGnBu', annot=True, fmt=\".2f\")\n",
    "plt.title('LRFM Analysis Heatmap')\n",
    "plt.show()"
   ]
  },
  {
   "cell_type": "code",
   "execution_count": 47,
   "id": "0e92ec8f",
   "metadata": {},
   "outputs": [
    {
     "data": {
      "application/vnd.plotly.v1+json": {
       "config": {
        "plotlyServerURL": "https://plot.ly"
       },
       "data": [
        {
         "hovertemplate": "lrfm_segment_clustering=3<br>recency=%{x}<br>frequency=%{y}<br>monetary=%{z}<extra></extra>",
         "legendgroup": "3",
         "marker": {
          "color": "black",
          "size": 3,
          "symbol": "circle"
         },
         "mode": "markers",
         "name": "3",
         "scene": "scene",
         "showlegend": true,
         "type": "scatter3d",
         "x": {
          "bdata": "RgFPAAEAAgAXAEACAgAqAA8ABAAPABgANAABABcACQAWAEAABAADAAwAFAEBAAUALQACAAIAAQABAIsABAB4AgcAAQAKALYBCgAEAAkACAADAAEAEAALABkACwAIAAoAtgACAAkAAwAhAAoABADrAAcACwAEAAQABAACAAgAEQACAAEAdAECAAkAKwAQAAEAHgAJAAEABAABAAEAAgAEAAIAdAEEAB8ABAAxAEYAVwA=",
          "dtype": "i2"
         },
         "y": {
          "bdata": "AwAHAAoASgAJAB0AIwARACwAMwAgABEACwBOAQYASgA5ABQAIQA5ABwANwAcADoADABqAEkAPQBuABMAKwAFACwAJQAYAAgAEAARABkAUgB6ALoAFgA2ADoAEgAmAF0AAwAiABUALAAjAC8AHQADAC4AIgA0AFQAOAAjABYAbAAwACoAHQA1ACwAIwAZAEUAEgAmAD0AFQAtAEYANgAfANMAmwAYAC4ANgAPABcACQA=",
          "dtype": "i2"
         },
         "z": {
          "bdata": "w/UoXI/i8kBcj8L1ONjWQHE9CteDBdRAMzMzMwMw4UB7FK5HsaDTQJqZmZnZItdApHA9Ctf41UApXI/C5QrgQIXrUbjeNdtA16NwPXov1UA9CtejMG3dQArXo3DtB9lAPgrXo5Cw2EAAAAAAiCDrQFyPwvVY7dRArkfhelR+4UAK16NwxYP2QDMzMzPzgthAzczMzMxl10AAAAAA0JbcQAAAAABY2exAzczMzPTT6kCPwvUonDTcQJqZmZnpjNVAcT0K1yOV1UAfhetRSB3pQPYoXI/KUeFACtejcO2I60C4HoXrTX/yQHE9CteTjtlAH4XrUej55UAfhetR6JzgQArXo3B1/ONAAAAAAIDo1UDNzMzMDAHZQDMzMzMTedNAmpmZmTE170D2KFyPMvnpQClcj8LVTN9AuB6F6wU69kBSuB6FOxfbQGZmZmbm7t1AH4XrUWiS10ApXI/C9VvVQKRwPQo3AOxASOF6FG5T1EApXI/ClYDYQFyPwvUgg+NAAAAAAJB940CF61G4jo/VQPYoXI8i2dNAhetRuP5n2UBnZmZm1ufaQOF6FK7H29RA7FG4HuVL10CamZmZyb7lQOxRuB4FqPVAAAAAACAZ8kAVrkfhKqngQEjhehTODOxAPgrXoxBl1kAfhetRMMviQDMzMzOzANpA16NwPfr57kBcj8L1qAHYQAAAAACoNOVAUrgehed68EDhehSu3zngQMP1KFyfydVAH4XrUcgU00BxPQrXAxPTQKRwPQp3ZtRArkfhejTh1UBxPQrXS4jjQClcj8IV8etAcT0K14NG50AK16Nw/Q3fQJqZmZlhp+JAUrgehSPo4UApXI/C9TfUQFyPwvUkSfFAhetRuF6U60DD9ShcjwLcQFyPwvWYwdlAPgrXo9DO10ApXI/C9aHdQB+F61HIUtNApHA9CneF2UA=",
          "dtype": "f8"
         }
        },
        {
         "hovertemplate": "lrfm_segment_clustering=0<br>recency=%{x}<br>frequency=%{y}<br>monetary=%{z}<extra></extra>",
         "legendgroup": "0",
         "marker": {
          "color": "red",
          "size": 3,
          "symbol": "circle"
         },
         "mode": "markers",
         "name": "0",
         "scene": "scene",
         "showlegend": true,
         "type": "scatter3d",
         "x": {
          "bdata": "AgBLABMANgF3ASQAzADoANYAFwAhAAIAOgA0AB8BAwBuAAgAIwF6AgQAdAKdATMAPABIADcBGQALAIYBOwGCAFIAFgAFALkAHQB7AVIBnwEQAJMBUAAWAE8CSABAABMAogIkAC4AdwCeAS8BQwEyAJUAFgAyACEANQGaAUsAQwDZAJECAwBxAIIBQAAQAGAAAQCjAE4AwwAWABoACQArACQAKwBVAFAAZAACAA4AqwLOAW8BAwDcAhUAFgA6APMALAAWAJwACwARAIYAOABJACwAQgBHAF0CyAGbABMANQAKABEApwG8AAsCsgIgAB0AEQA2ABAABAALABwAFwARACMAEQKwAdsCCgBQAQUAJwA/AKYAEACBAmwCUgAVADACFwBRAWAASAISAJkB6QCGABoAHAGPAK0BQgBxAAsBYQFOABwAAQBAAE8AjwAnABMACQDyAQEAUgAJABACPAAPAB4AdAKDAFwAKwCZAR0AFgAUAB4A5AHAASQASwAvAMYApgBAAk8AZgEoAAgAwQEyABAACAA3AQUALwEIAJkBBQEhAVYAFwCFAgIAKAAJAOMAPAHJASQAIwAVAE4A9wAoAO8AAwAEAOoAEQAIACcAHQDTAD0BXABtACYA+QEzABMACgAdAB0AvgA7ABYATwB4ATwAlQFOABcANABKADkAFgECAF8AHQAWABAADwDoABQBagDUABcACwAEAIIBCgA5AAkCOwAkAloAQwAhAO8AGABzABkAgACCACIABQAWAJsAawADAE8BSwGVAAsAqAERAAsAEwAeAAsAtAEBAHECCABFAYoBOgAMAJcACgBeAkoBBQAnACoCGQArAjsAAQAEAAgAHAB0AeEBcgAaAM4AHAB9An8ARgAHALMBHQBOAqIBCABQABQARwAHAA8AJAEeAGEAZAIdAAEACQBqAAQAlwBHAAUAAwAgAFUABAAFAHMBHAALAEcAcgAKArQA6gBhATsBTQHzAXQBYwBAABUCcgKGAOcBHQICAAQAgQC9AVEA7AAZAVcAEAB1ADQAyAHKAQgAigA9AdgBBAB4AcMB7wDTAOYBPAA0AhgCEQCcAsoBFAAmAFcCQAAFAAIADwBsAWICCgDPAUEAwAB2AQEBTwE1ABMAdAJuAQoAEQLWAfUBuwCJAdIBfgHzAX8BJQCyABcCBgEtAPYBZgCUAGAAGQEGAcoBAwDWAEcASwA8AAkCAwAGAAMAUQEmAAYBIACRABsBrAE7AK0AIgADAJAABQBGAEIAHQALARYApAIfAL4BYQAnAYcATwB1AQgA0wB/AcsBtQJsAqoBNACKABoAGwEaALoAqgJ3AVQARwEaAYEBjwA6AAQA7AAtAH4BFAEJABkAWAA/AEQAgAHWAH0BGAC6AI0BHwA/AioAzQDQAZ4BpgEJAAkBrQESAEECDACMAbAAKAAXACgCAwAFAJEBlQCLAIAAcgIIABEAoQBAAFgABQCbAYsBIwA4AU4AGwIYAOECAgARAA8AGgA3ANQCgwAuAiQAIAG1AZAAEAAfAAIACQAGAAoAfwIBADIBCgCQAeQBngF7AQcACAC1AVkACgBmAXAAWwIHAAQAngGeAcYAtQHUAJwAgQHZAp4AHgDzAFYCEwABAK0BSgAkAQMAHwAXANUCFwAEAFUAeAEWAO0BxABrAD4BagAMAK4AOABEAkMBoQJ2AXQBCQABAAsANQBJAAcAEAB7ATMCBACuAUAA1wHcAgEAcgAXAB8ACwCXATQAZQE3AEoArQKKAFAASAIJAMMBVgIRASMBYwAfACAADgBAAA8AQwLUAG4CTgAnAhICGQD6AP4ASAC/AOEBDQB1ARgAUgAKAAEAwABkAgsBmwH/AYIAygEBAAQAswB+AAQA7AGeAH8B1gKhAQkAHABHABUARwCKASEAYwDqAAEAKAADALQBhQAsAHUBPAAfAM8CHQIBANsCDACKABYAFACdAu8ADQFeANkBWgAMAgUATgB3AsQBXgAXAAYBEgFWAMUAOAALABYAEABsAFUAEwBJAk0BKAAaAAoAHQAOAOQBKAGhAQYAjwEhAIEBMQBfAAkAFgA5AXoAYgI5Ai4AGwETACQAQAAbABYAkAEEABAARgIuAEEAGgBrAl8CfQEtAAgADwAMASgAUQELABMAIAKSAl8APQCIAJ4BCwBiAgoABAATAPYBigEKANsCuwGQAQ8AOwAeAF4ACgAUADkAogGSAQwBegB/AGoCTgDwAEECyAA8AAMAEQHKAFEA4gAEAA0ASgChAtQAGQCEAREABgFgAJwBcADLAF0AMwASABIAfQBcAM0BkgGKAZ0AeAEJAA4AtAEMAD4APQANAQcBAQC7ATUACwADABIAAQBuASUAHwBxAJkBgAFAABAAKQBOAHoAtwESADwASwEXAFgCWwK7AdQCtgGcACcAiAG+AGgBiQAIAAEADAGpAGgAmwCQAV8BBACuAXgAFwAHABwABADDARYAAgCxAiUAQgABAE4ASAARAAMAJABSALABJwA8ASAAXQCSAQ4AmwFSAE0AIgKeAMkABQGyAEQAIAHPAUYAQAALABAAQgA8AEcAegBQAAEBDQFAALAB2AEJABIARwAiADIAsAEBAW4BdAH5AVoAPQCfAVkAYwCNARoAsQEgABkBIAIfAEoBngGhAYMACwBLAMwApQJIAgIAuQAdAEkAwADQAUcCfwASAAEAzACrAUMCGABrAGwCgAKGANkBLAAFAAwAQACWACgAQACtAcIBbAABABMACgALABMAQwA7AvUBSgAFAAIADgAjAv8ApwFcAJsCwQF2AXICrgEXABEAGAAbABoAAwGmAIECGQASALECBwBxAh0AJwD9ADoAvgG4AAsAAgCNAmMAAQDQAT0A7AC/ALMAJgDVAckAoQEuAOgAQgDxAOkATgA6ABEAaQCOAjQAiAATATgBCAALABsB2gISABcAIAERAEcAQABJADwBAwD0AAkAAQClAgUBfwBKAEkAFQA8AFYATgA7AAEAHgAhACkADwDiAiIATwB6As0AIgC3AAIAkwEBAKoBKwBWANMBqwF5AXoCKACHAQwAmAFgABoAfwE/AUIAowJ8AUoArQEcAAYAAQIHANgAUgBUAJAAEwApAKwBrQARAPMADQDOADIAmwEXAAoAGQCZAQ8AlgE1AYYBnAAzARMCHQJAABAADwALAEEAJABsADUABQIGAJABLwABADgBLQBBABoAkwKDAR0AKAAdAlECDABZAHkCxQEYAD8BOAIoAK4AIQIQAnUAuAIfAIQBVQL9ADsApAIXAAUAZAAZACEARAAlADQAEABKAGMCgQLYAB8AEAB4AJABCgCQAQEBEQAoAC4A6AErAHIApQALAAoAzgCQAVsCVgCzAIIBPACVAAMAMwBLAIsBLQETALEBlwAbApUBmADuAQEAEgC7AMoBHgEDALcAtgF7Aj8AOwCMARkAdgEfAKYBJwBVApsAGgC/Ab4BPgEFAAgALwELAQ8BBAAgANsA9wCYAdEBGQENASAA9gAPAHUAJACEANkAfQIyACcAHQAlALQBiADbABwAmwH9ARkABQDIAIwBEgDxAEgAEQADAF8AogCeAXYBYAA2ACABfAAgAZgABAACAKMCDAAhADYAMgDbAD8ARwCNAu8B1wICAKYBQAAiAI0BUgBPAqwBZwAEAgcA+wANAOgBCgCtAW8BTAD5AYQBBACAAEIAhwIjAoQB8wG1AXUANgFDAP8AHwA0AEAAbwEGADEBHQC4ACoAKABcABYAGAAdAK4BLgGiAZEABgATACEAbgKwADoAFgClAUYCEAATAJ8AQQIZAI8B1AAGAOYBoAH9ADsAfQELAEEAGQDQAlwANACBAGAAYwI5AAkA9QGpAIkBOQBGAQEArQESAPgAgwE6AEoAHwAHAHsAAgAXAA8CeABmATYAQABWADcAhgIVAAMACwAHAL0ARwDMAHgAXQABAHoBGwAqARgAHAByAjIARgEQALcASACQASUA3QKZAbQCUACnATkAqAH7AQwAigHQATIAMgA7ALABkgFgATYAAgBdABcASwALAKkAOgBgACcBbQAIAVUCtACpACMAFwARABYAFwJCAo0CiwFPAEEAaQEDAAsAsADaAAcAAgCaAAUAogF8AU8AFQCIARYANAGDAd0BswGSAKcBBwCCARMARwAfATEAHwDPAJsBDwBJADwAoAEnAB4AGwAEABEAfAEUAEIA1QAMAB4AKwAEAA8AggEHAr8BCgDTAC4AhgDdAisACgB0AAECsAHGADUC4AEWAW4ATQA1AKIAOwKFAi8AEQCbAOEABwB6ANEB1wE9ACYCPwASAAIAKwIWAB0AHQGwAE4AIQApAAoB1QLrARsAbQAcAQkAMQERACAAFAB8AEEAagABABgAzwELAQUA+wEdAIUBCwFAAEABAwKtAgQAmwIgAG8CBQCBACkAZgB9ACEALgFtAQQAAAICAM8BAwA5AEUBjgIIAAwAuAHTAuEBJQAQAIoASgAFAJsA7wDhAjQAHwBJAAQADgAXAAQAEgH2ARQAkACtAXgBBACWAd0CVAALAAgAewA9AAIAPwGJAgIAggB/AQIAkQG4AgIALgAEAAMAdQGGAOYBLwAJAE4A6gDdACQAoQJLAOMB7wAKARQAKAAUAGIC2ACuAFcARwAUAfkBJwClAa8BdwFiAF0CCwAhADwAKQFWAAkAKQALAJsBvAGbAUMASwGrAdoBHwACAJoCAgCEAUQABQDKAGsAmwESANoAaQI8AH0BjQECABEA7wCwAl8ACwBqADUAWgCVAR8ADAADAAIAKwAEAPcAKgCxAFwAbgCzAR0AGgC2ATQAtAG4ACsAMQAWAEsAUQB1AUYBKwAeALgA6wAJAJUC3ABvABYBPgGbAQcAAgB9Ae0BsQEiAgQBQACOANcBMwAIAKcBmwBtAKwBowDXAbcBTAHiAEoAMwCuAowBYwAPAJoBCQLFAJgBAwDPAR8AFQAYAAgA1QAJAAsAAgAIAAMAlwEoAKUBEgAIABMAdQCvAZcB3wBHADMAWQAlAggAsQHzAC8AawAtAKYBQQDMAagBzwALAK0BcwCaAToC8gCjALYBEQBwAnwAFwBEABEAEAARAKEA8wDbAC0AFQClAX8AJwB5AOECBAEKABIBpQCdANcABgBuAVAAKwCFARMAIABDAhYAkgFtAIsBDQIIAEABggLDAScBuwFmAR0CuQCrAr8AbgIsADQAGgAmAPUBCQApASEACgBBAAoAQQKwAdoANQICAEEAAwCRAYoBlQAEAIwCggAiAIMBdwBrAAsARwBcADcBKwBqAVwAAQAWAIQBBAALAGMAOQABANoAEgCzARgAMgAHAJQBAAIvAQoA0gEWAPYBYwBuATIBQAEIAAEAzQA2AMgByAEBABMACQATALUAPAALAL4AeAGwAQUANwF9AZsAbgCUAEIAYgA4AvcAHQASAN4CoAEMAE8CaABKAC4ASAABARQAfgH+AAsApQASABoBMgAnAAACGwBEAM8AlgGvAK4BBwAaADMAOAE1ASsAGgBYALgAFAADAC8AEQARABgAFgAWAngBCwC8AGUAPQASAAQCIQBAAKwCAgDrARgAbAAgABQAhQElADwAGgDgAewAGQADADwABAE6AEEAEAAKADsAugAdABgAogIFAAQAlwA3AQsAEgCYABMACgA5AFQCVQCOAoYBBwBMAAQA/gGzAWAAbwA5ALMBAQAZAakBAwC0AN0C6AF0AQ0AAwCwAQYCEQApAAYAqQAyABUBEwBCAnQBqQEPACMAFgAHABQAcwILACwAhgEyAQsAkAITAXkCdgEEAEgAjAG8AZ8BqAKCAYoB8wCTAQkA9gDOAAEAuQAgADkAxAAYAHsBWwAEAOQBMwAHAQoBtgHGASQApQIzADQAGAAWADsAqgBEAJ0AyQCgAQUATQJDAE0AAQDiAggAqQASAAUACQBXABsAHQCuARQAPQAYAL0B8gAYASUC6wADAP0BEAAfAFECQwJ+AUcAvABMAhoAQAKeAWsACADRACwAHwCJAAkBaQIHAgQA2gACANYAIAALAAEADwAUAMcAawK0AQMADwAOAAoAHQAJABgAGQArAN0CmgECAAYAewGTAAoATgIZAI8CEgGdAXYBAQAvAAgAEACqAQQA5QEEACsABADFAAwAswFRAhAAcQCWAfkAHQDgAeACrAIsAFcALQAKAA8ASwCRAAUAKQE7AAgBLwAdAAgA2gERAAMA6ABtAnAAUQIRAjoAMwCUAX8AGQE3AEABkwIaAAoAJgLXAQcAHQARAF8CQAAVAAMApgABAPsBNQAzADAAPQC2AaIACQAPAEsAhwEoAG0CKQCDAVcCcgFFAiUAxQDIAEoAQAAVAG8B5QG0AAoABABGAsUAHQA1AKgCdgLzARIAEQIKAFoApwGiAQwBNQAsALUBQABYAqsBlQCVARYAOAEXADoAGABOAHcAJAA8APoBDQATADQAGgAdAAcAugADAAkABgEDAOQB0gAXAmwACQKiAQ0ArQJNABQAGwATAJ0ChAD9AE8AzwBQAf4AlACzAgoAVQDNAAgAFwCLAQoCCwAaABUAAgCeAL0BAwBKALUBAwARACQAWwBHAFUCdAAbAtUAHgCKATMA9gB+AY0BdAIgAG0ABQBuAbwBUgApASIAOQAyAqIBQwKSAZcCHgCeAQ4ASAAXANUBEwBPADwAGQAMAN0CpQH9AJMAQAAIAAsADwEKAPcAYAAPADIAHgDAAkQAIwCAAGsAJQA5ADkA1gJIAN8C4QL2ADwCsQITAMYAeAEQANQAlgJkAq4BugE0An4BJwDhAS4AqgBRAjAAigF0ANkBkwAQADMAnwDgAQwAJACMATYA6AErAPUBrQAiACcACwF7AQkADAADAAoAIQBQAB8ACABsAkgABAAAAQUAEABaAEgAeAE7AB4CqgDHAB8AEwCYAAkADgFBABIBGQAXAD8BBQAMANsBCAITARkAKQAIAEcA1QCaASYANQBOAC4AswB1AV4A3wEKAGkATgCtAO8BBwDVAKwBFgCdAgEBfAHaAjUCGgEVAAoANAFEANcAEgDPAWgAKwAEAFQATgEJABMCHwDFABIAEgA3AY4A9gAYAB0AYwIKAB4AEgASAA8AhgD2AIYAMgByAAcAFwAZABkCQgA8ADIAqgCLARIAgAAPAO8AAwAJAooB8AA0AMoBLgDiAAgABAClAPAACwCGABEApwEKAB8ASwB/AQEABAAtAGUBhAHbAhIARQB1AdQBQQEaAH4BlwFLAQkAfQFDAUgAnAKqAQQBEgBvAUIAmgAkAh0ARgAOAAIA1QIBALIBzwF4AD0AAwADALEBCwBcADsA7wFXAKQBGgBlAVUACgCgAQEA2gLhADwA8QA/AQIALwBYADMCCwCwADQAbgE/AeIAZgHqADcBJQBCAEoC7wBtAnEAkQEVAdoAKwECAB0ACgAtAEMApgFKAEEAhgDuAHoAmwEgAIECJAAQAH8AQwCVABsBqQABAmQAhwBEAWsAQACXAFIBFgDfARgAEAAHADkAWAIEACYAQgAvADICYwGsADsAOgKGAfQBmAEyABYAKwAdAAUAGgDJAJoCmwGOAjMACgACAEMAQAAzANoCIgE9ACsCQABgABIBYwLfAUsAbgDHAEAARwGlAgQAHAEsAEcAVgAzAr0CaABOATUAmAEnACAA9AFuAdAAnQA2AJIBmwGlAkIAMgJRAIIAVwABAC4ATQFuAUgAngB1AQwAJQL/AFsCHQAfAAUAlwIoAGoBwQF1AWAAGgBLADkAFQDsASkAlgKJAAgAgQCyAigAfwHPAakACQDWAA8AqgAoALoA7AEOAawAjAFIAgUAEAAKAEYBcQAiARAAAQBcAMQBlQDsAXgBvQAfACIACAHRAlQAGgCrALQCCgA5AUEAVQCpARkAsgE7AEMBJgD+AJABEwAhAA8AGwDUAfcBFwDWAAgAFgAMAAYBgwCVATcAjAH5AAIACQAIAXkBSwE5ARoAHgCyAR4AAgBqAVYCGwEGARkAoQFiAc0BXgAdAFIBFABVAAkAMwAyAEACAgBxAA4AVAJNAHwBigIoAN0CdACRARAAoQABAB4ADwKoAl0AFwCuAV8AHAAhABUAewF3AhIA1AIIAJUBEABrAVEANQAXAKwAvQB8AUsBDACcAAwAgwEtAOkAQAB/AQIAKAAhAFQAGQACACEAEwD+ABcAFgAIABkAEwDWAq0AmQGjABoCBwALAHIAAAIgAQkANgBfAgcAVAJNAAQAJQDZADwAFgEMABgAHQB/AjgCjgEMAGABFgDPATIAiQETAAMAaAAHAAwABQAgALIAbAImAJcAogBFAHkBeQAZAHgBGACxAFECMgCmAgABfgFHAi8ARwAQAOgBZQAjADUAGwCsAQsACABPADQAJAA9AFEBHAC4ADQACgAkAGICtgG2AYwBIQALADkABAArAI0AdQBoAEsAyQEFAMIBLQCCAhAA/QERAIwBWgA1AHsBhgBpANoCwACmABMAngCfAcwAUAEKAiUAWwBdAAkA8wAtABcAvgAsABkAPQGVAmoAMwCoANgBKADaACgAKQETANUCWABJAFEAEwAxADUAGAAJABkAVwJ1ACMCwgGkAQkAowF4AAQA/AAcAJMCAQALASEAsgJwAhIArAACANwBCQGMAMkAQAAjACkAHAGhAS0CCQCPAAwALAKSAOoAHAIhABgADAAkAG0ByQAPAIYBEQB8AdUAQgAqAtQAGwFzAKUBswEPABMAQgAxAMoBawIQAE4AEwCGAA0AKAADAM0BKAAxATMACgA9AEIAGQDaAHcCuwFBACAAWACbAkAAdABlAlwCogEGAEUA9QCFAPEArwHPAbgAGQAKAAsA1AEhAC4AGgD9AWYBCgAsAJABDwDgApYAAQBxAO0BTABrAC4AjwAzAAEAFwAuADIAMgEkAE8AFgBrANAAEQBAAB4CpQFMAjEAQAEsAAMA2QLFAawAOABJAHcBYwAmADoA/gDiAkYALAAyAEEAIQA7AEkAiQEwAS4AEgCBASYAbgITAA8CuwA0AAQAiQATABAAsAEpAAwACAAaABYAKQBlAAUARwIVASEAtQEPAPQBQACGApkBAgAyApQBcQE4AccAAgCwAV0APACXAVEAnQCLAeMAnQLiAf0AlgDCAAEAcQEYABEAfAEKAAgAHwIUAAQA6wGuAAEAcAKyABYCegGSARAA+AC/ABQAmgCtAHUBdQHbAsIAHgKHApAChAJDAKwBBAAVAKIB7wB7AUAAcABaADcBfQKGAIoCFQFtAfcBUwAIABEAIAAJACIADwBNAhgAJwIgAEoAqgJ2AXsBwQEUAJcCEQDDARcAhAEDADABEgDIAW8BJwBUAKUAEQBNAFsCWQAZAF0CFgADAHsAHgAMABMAeAEsABYCBAAJADcAngFYACUA4AIDAH0BcQIeANsBDADTADAAGAAWAPYACAAjACYABAADAC8AJwAvABEAiwEEAS4ADAAeACsAXABUAjYBXADIAQYAxAAwAlcADgEIAKgBQQAfABYAJgCzAXgAMgJ1ASgArgCqAjYAIQCRAN0ALQAQAJYBQgCRAa8BCgAEAdUCbQERADMCUgKiARYALQAgASkBhgH3AQMAcgIcAREAUgA4AJ4CZQArARcAOwCFAUACggFwApsAcwBrAAwAyAEIAfAAWAAyAM8BRwAqAAcAPgD5AEIAEgBVANsALQCsAY8AtwCrAAoA1AC+AI0CCAA7ADkASQA0AD0BbwEdACcAEgCXAaYBNAAgAhYABwE8AKgCewETAEIAWAD6AAMA9wAJAJ0AhgAoAQUAKwANATIAfgEJABAACgIaAUEAAgD8AOgAEQD5AawBngELAAgAMwA7AF8AEAB+AF4ApQEyAIoAPQBkAEkASABDAEAAEQAXACAALQAQACgAAwDgAu0AdwHTAukB1QFLAIgBBAADAGkBOwAXAB8ANwAZAC0AWQBZABMATwCrAFEACwHrAB4A9QElAD4BdwE5AC0AywDhAIEBVwC+AHsBLABHANwBKQBOALUBpwE5ABgACgAIACIA1AAYAMwBqgA+ADUABQEAAn8BQwB6AREACwGxAC0AmgEzABEAegGnAbYBCQBKAE8CRwC2AWEBEAB1AIgCdQHFALEA3gJkABUA1QJIAFQBBgAfAIYC3QGqANYBzgHRAXoAFgDdAQoAcgINARcA3QGuAeECfwAaALcCiwDWAK0BJgBqAJ4BEgCwAQMAhgFLAUAAeAAjANoArABIAAEAxACAAC8ABgAOADMCrAESALABHADsASgCpQElAJ0AHAFrABkASwAQAJ4ALACBAQsAIAAjARUATQESAAQAPwB3AcYAIQABAAcABQAKACAANQAMABIAEwAlAAIAEgBSAMEBIQB+AUIA1gEJAAsB9wAEAD0AjAGYAUsAWgA8AB0AQwGOAjUAGQKRAQ4BAgA5AD0A3AF0ApoAEwBfAAEACQE4AUYALgETAA0ATwIkAN4CEwA2ADkAFgAsABsA7QEtAHEAjAF4ARkAvwAuAQIABwGeAWoAOQDVAEAAHAAdAAACnAJ9AQYA0gIIAEMAAgAJAi4AIgCIAMYAxgCWAFgAdwITAi0AQABjANoAAwDaAhwAsgBKABUAFAClASIA/QFKABgANAATAbIBpQAHAFgAsAFAABkACgBMAKoCEADAAK4ATQAaAkECIQB8AbQBLwAdAlAAKQEDAAkAMgChAGgBBQB/AWwCawAZACAAFAA8AnYCKQF0ARYABQA0AB4AFQE9ABkAugCfAbQBAgC+AawAUQAEAL4AnAIWABIAEwCCAgUAbgCBAh0CAwCeAd8CNgBQAggCpQAjASICVwIKAG0AYADzAKMAKgAjAEMAGAABAI0BGwAGAN0BNgA5AmwBDwDCAKwBAwAPABsAfwBVAEcApAGbAnICqgG3AHEAdgFQAFIC+QDoAIIBRwCRAUUABAAzAEsAPQAQAAQAHgGCAQQAKQAkAEsAMwLUApQBEgDGAQ8A2wC6ACEARgC3AHICDwDsAB8ACAEEADQAIAL2AFEAEwEBAE8AHgBKAJcB4gHmAREA3wCXAbYBIAAXAB8AjgFqAAUA9gCyAOACwQGqACsACAJIAEsCOwAQAI0AEgAWAAoAcAG9ABAAHAKKAdkCOQJqARMARAAPABgAEQAcAAIApwI3ALoBIgCbAQMAbgErAEkABQAWAj0ALwCHAQEATABIAKIBAAFFANMCMgKHAPEA4wB8AQkACQCfAWoCJQCQAS4AVQATAAMACQATAD0BTgALARgAcQEPABoABgERAFsAlQEuARoAbAEuACYANACIAiAAEgI0AE8A+gE1ACoBsQCLAXECLwAdAAsAVwAFACYAEgBPAi0AHwB1AToAcgDXAD8BQQAIAK4BYQAUAMcABAAmAREBHwAwAAQBOgAhAKcBOQBEAAoAPABQAEoAZAB0AQoAtQEUAJoBigGOAXsACAAEAB0AGgE5AAEAbQFZAIkBKgKwAQsAowCnAkEAFwCuAGcAjwBjABcAwAAFAGkBCAAOAMYBZwADAAsA0QFgAH4BrgLjABAAJwAzAIkBcACdACcANQK4AAEA5ACAACgAHwDFAFsCJQBlADMCagIyACsANQC7AE4BBAAKAKEBGAAPALsBcQGRAMUBPAAjAh8AsgGSAY0AsgKKARcA1QEWAE0ABQB7AUMAlAEMAFQAHwBDAEMAuwAmAA8AyAEjAJEBwwDdAQIAAQBvAfYBQQArAisBGgAIABEA2QJ0AB0ABAAFAFIAHQDSAkgABAB8Ah0AIgEkAAkAGAAVATIAnACbAT0APQIMABUAHAJzAXQAUAAEABoABQA1AAEANwB+ARoA8wEJAOkBNABkAg0A1ABiAhYAfwHsAIsABAA5AIcAbQAeAAEAuQASAO8AswFXACcAdACaAbsA3QLjAAgAvQAEACcAcgImAH8BggELAqcBCwGLAU4ABAD/AD0ADQBYABEAHgADAAUABwDbAKUBCwDQAR4AIAGWABcAjAEBAFYAkgEuANcBBQAzAK0BJwISAB4A1QIIAB0AQQIDACkACwAeAroBHwChAS0APQC5AE8ARQJvAEAADAAkAlYAEAD2AH8BWAAeAFwCigAbAAMAIAAZAHEAnQBVAHYAAwBgAMIAHACDABwAvgHiAlQCUgAeAAoBSgA6ARUAOwB+AtYC1QIMABwAcgAcAHECEgAzAhIAJABCAiQATgAWABkAIQBtACMAewAHAOICHACCAQQAAwAyAFECQgEXAA8AAgB+ARUCEgAKAAYB0gKoAZ8AhQEhAJgCHQClAC8A9wE+AgYACACIAiABPgEDAOkAkwF3AKIAuQAyAJgArQFPAQgCBQDEARAAawAQAJYCoAEUAfcAogHvAKEBAQABAmoAFwA0AMMBeQHfAsMAGABLABIA7AEIACAAFgAfALwBHQAWACEAHAEnAHwB8wE6AHYBIQFPAAUA2gAsAMoA+QHbArIAOAA5AKcBCAA5AlACLwDjAAsAagA7ABwAGAIkABIBjwKsAR4AGABGAoMBNgClASQArwA2ADUAjAKMAYkCiQEbAP0AKAA8ANABKgLqAAQAIAAYAAcAQQA2AfUBRgI1ARMAEABgAAgBDAADACMAtwAZAA0ACwADADkBVAKBAWwANQDNACMCDwB4AK0BBABrAXUAEgAFACkAawC0AY0BlACbAf4BNADQAKgBiwACAH8AbACCAdUB4AIqAKgBIwB/AZIB5ADxADoAtgF2AYIAewE8AHQCFgAaAAkAIAAEADQB2AEIAJ0CHQDaAhEAZQAMAIcBFQAPAGkBFgKJAgsAiwGJAV8AgwFOAIsAHwAZAAIApAEuANUCnQJkAAgAeAEPABIAGAGYAZoBoQIOABcAfAAQAlYALgGAAdgBlwARAF4AnQB8AWMBLgAPAAQAVgAPALMACAAkALgCgQAzAIIBOAEYAC8BCwARADEA7wCLAQEADQCwAe4AFwDIAUkAEQApACgA2wDHAEcAGAB2AQsAsgFBAAQAEwAPAAgAFABOAKUBpAAzAZsB2wD8AScAFgBzAH4AHQIFACQAAQBNAZwBowC5ABAADAADAJUBLABQAB4AJQIqAAsAMgCCARAALgATAAgASACAACEAOQESAFgAAgCbAQIAEgL+AJACnQDcAiUA3ACYALEAKAARAgIAAQASAMAAzABtAX8ADwArAF4AFwA8ABAAngCqAQoAiwEKABAALQDbAb8AmQFYAk8AjAFlApgBeQJOAAQA5wFBAEACBQHYAoECOwABAAEA+ACBAfYBCABnAYYBTAAiAREA3QAJAAMAzgCiAEwABgEZAToAGQAdAEgAgAAfAA8ANQGqAREANgAeAAIACwBpAWgBBQA2AAEAYgIBAL4AggGzATYAGAGxAB4AGgB0AhkA/gEOASYChgErAHgB6gAYAMUAZwE8AIIAAQAUAM4ADgCJAQECXwATAA4AQgIYAEsCCAAHAHkCTAF+ATIARwAdAPMAmwIIAIUC2gAFAP0AAQDsADACBwBtAGsCdAJkADwAAgBJAOMCBABVAAwAFwDWAH0B3gESAO8AAgBOANkATgLhAngBIQApABwCBwA1ABcAOQCCAK4ALwIGADgBPAAVAFYCIQAPABIAWwLfAVEABgCqAAIAHwAkAKgBEwAfAIcCFAFXAHgAdQEBANsAQQA9AIoAFQAMABkAJQAVAQsASQCuARoAEQCNAJYCGgATAO0BBABCAAEAKwDkABAAMgACAEoABAAIATUAGABVAgoAggEsABEABwClAYoBhAEeAGYBfwCJAI4AhAAmAOwABQHdAREA/QAeACMAqQADALkAvACqAKgBCwAtAH4BQQHJABcApQHoACYAGgCTAmAAfwBHABAAiwEPAAQAVAIDAE8AdQEnADYAAgAJAAkAEwAMAIUBlwFxAMABBADeAfAAcQAPArIABQClAWcB0AEBAHgBAQATABEAFgAhAMgBBwEzAJ8AfQEPAAgADQDHADkACwACAmEA/wCDARkAlgIVAJsCnwB/AUgAJgI1AFUAmQBKABkBGwAeANMBGQCvArQAKAAWAEYCFgAlAMMBUgCIAXgBSgALAIsBJQIQAJ0CBAANAA4AdwGJASUABADiAkgAdgGWAaQBpQEzAFcCdgEFABcAKwECACEAMgDTAp8BAwAvACoAGwAqALwBWgIvAWsAKwJVAAQCUQDaAKYBDACXAbkAdQECAAYAMQFxAQMARAE7AA0AjwAeAIIBawACAM0AfgFQALkAsAKQAaoALACuAG0BMAF7AQMABAAMACAAgQAVANQAQwGiADgA4QBIACwAFwCtAFUAnwC+AB0AIwKKARUARwD3AIECdgHhAtYCCQA2ATsABAAnAnUCLQD1AVgAQAAfAhoBDAB1AYUA0gItAAsAJACGAB0AeAI0AIoABQAJAKQBoACDAAgApwG5AukAJQCTAEgAKAB6ARwCBQDHAPkAQgB1AFACqwAVAI4A1wEgACYAJgB0AXYBpgDTACQC8gA0ABkADwB0AR0AbQEkAKYAmwGpAosBkQAWADgAuQAMAHsB7QDhAIUBaQJ6ABoBfAFKAHwBJQA0AgwAeAF4AWoBBAAXAIkB6wABAXUB0wKbABwABAAgAFEAbAA0ACAC/gEkAJkAfAH1AWMARwKCAgQAewFOAUEAFgAkACAAmgAsAnYBEwAMADYAGQAEAC0AigJ9AcsAtQFnAXoCNQJHAIkBBwAgAYkBCgAXAJgBFgCtAIcBhQAGAEsAKAAhARoAnQICAboAcgB2ARcAfAEIANkALQATACQAGgCOARAASgESAWIAPQC/AaYBUQICAF0AUgA5AQwACACMAX8AJgILACUCJQAmAEoBugH+AAIAFABNAgwAcQEiAboCRAAaAAsAcAHWAJUACAAYANgBHgA9ABMAGQLzAA8AeAL4AdQAVgIdAD8AJwInARIA2gGSAZ0AdQAIAA0AjQAuAIcCMwAgAIcAhgKTAgMASwANADsCCQAtATkADwDcAkgCJQCxAHACFwCwAD0AIQA7AA8AVwAHAKQCZgEfAIEACQAFABgAzwHjAA8A+QDTAngCDwBOAMAABgFIAKUAUgCDAV8AQAIEAKwCagDTAsgAnQBHACQAKQLzATYCHQACABoARgHtABMCWQAfAB0A0wADAOMAFgBdAAUACAEDACwA2gA5AAwACQDAAFIARgEoAkgAHgADAAMC2wAuAAoASACeAa8BBwAYAJ8BewARADYBMwCDAkUCWQCEAScA0AEZAK0AKwCMABoA8wFIALIBoQKGAG4BJgBiAgMAAgAeAEICLAA6AEoABwIWAbUACAAEALABlQLdASsA",
          "dtype": "i2"
         },
         "y": {
          "bdata": "CAUDAQEKAgECBgIFCgYECgIEAgEBAQMHBAMDAwICBAIECQMFAgECAQgDAQYBBgIPAQIBBwEBBgIBBQUIAwEGBAYBFAQCAQYOCgQCAgMJCAEZBAMGASYCAgIBAQEFAgEBAQUFCAEBBAkDBwQBAQECBAgCAQUCARMFHQISAQEHDhMJAQEBAwEUAQMCCQECAwMBEgEFAQQBAQQCAQkBAgECAQQEBQIFAQIXEQMDBQYBCQIBAgECAwECByADAgEBAgIDAQUBAQEMAQIIAQICAQkBAQEBDwEgAgIFAQIICAQBAgEEGwkCBAEDBwEDBQMOAQIECg0UBgEBAgMBAQkEAQEJAQgDAQEKAwEHAgQJBgMCAgYCBwEEDAIDAwEDCwQIAiMECAEEAgMFAQgEAQEBARQCCwMBAQkDBwECAwQCCgIEBBQHBgEBAQIBBgEHAwcCAwEBBAYBBAgNARIDAhUBDAECAwECHQgEBQcDCwoFAQEBBAMCAQIBAwEBAQICARoJAQEBAwsBDQcIAQICAgEGCQEBAQIBAQEBBwEBCQ4BAgsGAgMBBAQDAgYCAwIBAQIEAQIBBwECBAMBBQMCBAEDAQICAwEBCwICEgECDAMGAwYDAgEBKQ8CChoHKAQdBAQCAQYBAgELBwQGBgEBAQECBgIEAw0IAQMDDAMCBQQUAgMCAQIEAQMCAQIEAgsBAQECBAIBARwBAQICBQIFCA0BBQ0BBAcGAQYEAQMMAwQBDAECCAgBDwQJAQIBAwICAgEGCRYDDwQCAQsEDQIBBAECDAEBAQMBAQp0BAECBggEBQEVAggBAQIKBQEhBwMBCAMBAQgDAwQDAyQEAQEDAQIBCx0LCwMBIwYCEQEDAgEJEwIFAgUJAgMDAQwDBAIEAwELAwMYCQQjAgcBBAEDAwoBAQEBBgUCAwImBAEBAgQBAQsGBBUDAQgBAQEYAwwNAQEcAQQlAwkBAgkCAwwBASUBCgESCQEBAQICBAENAQECAQcBAwYCDRAHCAURAQECBwEEGgQDAwcBAwYDCQUEAQIQAQIDAgUFAwEDAQsLAgECFQEBAQEPCgEDBAECAwEGAQIBBwEIQwQEBwoBAQ0ECQ0BCgMLBwEBBAEBBQIBBgIQAgEBAR4HBAIBAgEGBQgBBwUBAgsEAgkCAQIEAQMBAQUJAQIDJgEFEyQLHAEBAgEBAgUHBAEHAQQEAQYBAwUBAQsFBgMEBgcBAwMEAgEEEAEDBAYFAgEMAwEKEwMGAgEFEgEBEwEIBgEBAwUBAQQBAQEDAQYBAQECAQEBAQEFAQIEAgcDAQIBAQQBAQIBBgICAwIDAQwFAQsBAgEDAwEBAQQTAwIKAgMBBAMCBQIDCQEBBgYEAwYfAQIIAQEBBRYGAwQCCAIEBQkBBwEDBwIDBgIBCwMNAQ0LAwMBBgYCEAICBgUGAgUCSAECBAIIAwQFCwUEAgsCAQMLAwUXBAEbAwIBCgIGAQUEAwUGAQQFBAIHCwEEAwQGBAMBAgsDAQYFAgIMAgEGAQMjAQcCDAcDAhECBgIFAQMIAQIWAQcNAg0EAgELCAIlAwUEAQQBGgEGAQUcCwEFAQICAgMDAQQJBhIHBA4CAwICBSECBAQBAQIDAgEBDgoBBQYIAggBAgEBAQoBAQIHARMHCwgQBAUDAQIBBQQKBAECCAgGCgIFAQsGBAIJDAEBCwUDBQEjAwEBAwIBAgICAQMMBAEBBAcDAQECAQEFCRADAQICDQEBAgkHAgUBEgMJAgMBEQEIAgsEAgoGAQgCCBADAgIBAgQNBwEBAgUDDAcCAgECCQsBBwQDCRcBDwIFBgUDBgEBAhQECQgCAQECBAEDAw0EDgQGBgEBAQIDAQEEAQMJAwEDCQIBAwUDAwMDCAMIAgIBBgMGAgcMAgEDAQEBEgICAgcCAgoBAQESAQEBBAEIBQEIAQEnBAsGAQIFAgkEAQQBAwIKDxEDCAcOAQMEAREFDwoCAQEHBg4DBgEDBgEDAgIGDwECAQEBBAIUAQECAQQCAgQEBAMBBgQBAgQLAgsBAgEDAwIBBwQPAQEBAgYBBAYEAw4MAgMFAwgGAgEDEQIDAQIBIwIOAgECDAQBAgcFAQkVDBYBAggFAQYDEwYOAgMDHQUJAgELBQcBAQMCAgEFAwELAQEDBAcCAgMIAgEDAhQQAQMJAQYFAiMBAQIKEAEOAw0CAgQBAxcWAgEeAw8DAQIEAgEIAQEBBgEGCQEFCgILASABAwEBAhgBAQECARQBDQUFBQELBAEhBA0QBwIFAQECBAMBAQMEBgMJBAELBA8YBQECBAIEAgEBBwwJAgECAgcBCAEFARQHBwIFAgECCAICAwIDBgEIBQ0HAiECBAIBAQUBBhABDwEDJAYBAQkEAQoDAQQJAwECDxASAgEFCQUXAQMEEQEDCQQGDwMHAwQFBwQJBQIDFQMCAhEBAgMFAwwDBQECAQEFCQEDAggBBgQBAwEBAQIEBAEGBwkBAgEBGQQDCAcDAQYIFxAJAQUCBBsBBAMCAwMGCgILAQILAggFAQEBBQcEAgIBAwYBDwECBQEMAgQDAgESBgQUAQUBAQEDAQQDAgMCAQIDBAEBAggCARABAgYBAgEBAwECAQQCAgMBAwEDEAUNAQEBARQHEwIIAxYBBg0BAQULCQsBAwMIFwIBAwcEBhMDAQMRBAUBAwQGAQYBAgUBBQ0LBwUBAQUGAggHDAQBBQQJAQECCQ0MBAILDQwBBAMCCQICBAEHBAQEBQwCBAECBwEEAgIHCgMDBwIKBwMCCwYEEwcLBQEDBQcGCQwBAgECAgEIAQ0RAQEDEAELCxoJAQIFAgsOAScDAQsICQQEBwMJBAYDAQMBLAMaAgIFBAIBBAMBCw0BAQEHAQEBAgEICAUBCQEBFAQDDAIIAQYCAgIBAQEBBAsKAgIBAQEFBQIHAgIJAQoGCwsBBQIBBgEBBAECAQEJCgEBBQcDAg8JAQkBCwEHBQYCCQIBBwICBwEBBwMCBAcBAgwBAQMGBgEGCAUDHAEEBQwHAQMIAgUEBQ8dAQkBAQIFGQ0LBBUECAMBAQUDAQMLAQQBAwEDCAMTDwQ3AgQJGQsHAQEODAQBCgEBAgECBhkDAQcDAQMCAQMLAQIRCAIBAQEDDwECAwIBAQMCAQEDAQoBAQIKARsBCAIRAQIDAQcCAggCDQEBBAECAQcGBAkHAQMKGAINBwEDAQEHAgMJAgMCDgQBCgEBAwErBwMSBQsHAwcBBQEKAgEEEAwGBgkDAgEDAgIYAQMBDgYBAwEBAQEDBAEDAwgIDgEBDAMFBAgBEAIDBAUICwgCCQEDAgIBAwIBAQIGBQIEBQIMAwICAQQBEwEBBgYEAQEgBAIBAQIGBAIWBAwBAgYGAgEMAwIDAQIGAQoBAQIBAQYCAggHAQIBAQEFAgIEBAEBAgkGATgCAQIDAQIDCgINBQEDAQEMBRQQAgUKBgEIDggKDgEDAgkBAgIGIwIZAQQBBQkBAwIDAQUQEwQIAQQFAQUEAQMEAQgDAQMCNQoCDAEBAgECAQIGAQMDFwIKAQMBBwYCAgIJBQkDAwYFAQMMAgQIAQEBAgsFBBcCAgUXAQEFBQoCBAIBAggHBgIdBAIBAQUNAg4BAwEDBQIEAQECCQEBBQECAQEFBwIBAQEBDQMFCwMEAQUPAS4BAwUBHAECBgUKAQcDDwECBAMGAQMCAgIIBwIBFgIGBAsFBQEBCQYBAgECAQEQAQQDAgwLAQIDCAMDAxIBBQgDCQICAgQZBAMBAgQFBQMDFRgGAQIBBAIEBQMQAQMBAQEFCgUaKAEBAQEMAxcKAREBAwkBCQEBBAEMAQMCAQEBAQEMAgMBCAUBAQsCAwYBAwEBAQEHAQIBAQMBAwQBAgIKAQcDAg0qCAEEAgICDQcLAgsIAQgRAgEDBAIICwUMBAMBAQEFAgEHBQsBAgECAwgCBgIBAgQEAQEKBAEFAwEHAQIBBgoHAwMECQMEAgIBAgILAQMCAQQDAwEOAgIDBQIDAQIGBwIBCgECAgECBAEBIAQDAwMBAwEIAQEEAQMBBQETCgYHAQEFCAEGAgkFAQEJAQQCDgIEBQYBBgEBBQQSAQMBDwIBEAIQAgQCFwEMBQIKAwEGAQEGAQIBAwIUAgIaAQgMBwIBASQBAQEBAggDBwICAgEDChkOCgUGAQEFAQUIJgMBBgEDBwEDBQMBAQUBCQICAwQeEAIBCREJBQEBGAIBBAEDBAEEBBEIBAkDAhEEAwEIDQIBBAUGAwwBAwQDBQECBAIFBQICAQQBCAMPCAIBBAUCAQEEAgcBCQ0EAwMDBAoOAgIDAQEJAQMCBAEBFwQNAQEBAgQBAQYBBAQJAgECDAQFBQsFAR8CAQsEAwEBDwIDBQEKAQQBAggpAQECAQQBBAEJAxILCQEJEQQGAQcCAQICCAEDIgEDAQIGAgEHAQIDAwQBAhAFAwEGAQUCCAIIEQYDBAcDAQQNHgMFFQcIBwwCBgUCAwEKAQIGAgIBBBwBAgEDAQEHBAECAwIJAgEBCwEFAQYBAwEVBgINAREMDQUHBQEfAQMEAQQEFQECAgIEAQUIAgIOBAMDCAUBAQECAQIZAQQHAQwBAQoDAgEPCAkBAgENBQMCCQQBAQEBAQEBAQEBCAMCAgIBCQ8BAQECBAQDAQMCCgMEEgEWAgMEAwQBAQIBDQEMAQUCEgUDBwEGAgMBBxUBCB4HAggDAgcBAwcDAQcQAQMBAQoFCgIHDwQLHQUFAwsFBBsDAgEDAwEBDwEBAgYbBgEEBQMCBwMICAEIAQQGAwEBBgQBAQoBDAMBCAEBCAUDAQECBAQBAQIKAQIDBAgBBAEMCgUCAgECBgELAQQBDgcBBAMWCQUBBwQDBAEEAQEMAQMBCAYFBgEEDg8CCwMEDAIFAgQBAwUDAgEMARMEBQIDCgELBRQDCQQCKwEGAwECBUIEFAEIBgcHBAgCAQ0BCQQGAxoPBQIIGAECAQEBCQIHDAUJBgMHDQEKCQMEAQQBAQINAQkCAgUPBQMDBgIEBwkDCAEBAQYCEA4CAgMCAQEFAwEBBwMPAwEPAwEGAQECDA4BAgEBCAECAQMDAQMJAQMDCAMBAgUBAQQFDwEEBAEHAQMBAQcBAQcDBwICAgECAwINBQEBBgcCAgMMGBABBAcGCwEHBAEBAQMHBAMEAgELCAEJDQImBQEGBAUQBgQGAQIPBAMDBwQBBQIFAgICAwQBAgIHBAUDBQEEAwQDFwUOAQECAwkXAgEBAgMOAQwBBAUCBQMJAQUIAQMBAgEKAgMBBwMBAgwDAwIFAQYFBQERBAMCAgMDAgIDCw0BHgEDAwMEAwIPBwMFCwQCBAcEAQsDAgEBAQECBQECAwIBAgEHAQMGFwIICQECCwEBAgEBAQYGBAoBAQQEBgMCHAICAgEEAQsFAwEDAQEDCgEBAgEEAgUBASISBwIhCAYRAiYBCAIBBgEEBQICBRQKAwIDAgEBAQEBAgUCAwEEBAIBHAgBBQQBAQENAwICAgECGQIHAQYJAQMBAgEFBAYEAQQCBREBBwIBBwIGBgEEBA8EAQIDAgIBAQQDAQcBEAIIDR4EBgEHBAEBAQECAg0DFAMUAQICBgIMAwMHBQECEAEEAgQCBAUBAgQBAgcZGgQCAwQBDhYJDSADAgMOBQ4DARYEAQ4HBAQVAwEEAQMOBQIBAgEBDg4HESoCDgIFAQEBBwcCAQMBAQMCDQICDwkECQoDAwgQAgUCAwImAQUBAQQFAQYPBQEPAwEFAwIBBAIBAwQEBgIJAgIECiQCBA0LAgEBAQcDBQEFAQIEAQUGAgYECwQCDAMCAQMCBAEBAwICAgMBCgcDBQQDAgEDAQMEAQYGDAELAQYBCAEDEwQEAQMDBgMLBwIDBQECBQgDAQEDFBEHCQEBCAIPAwELBAIQGAEDASADAQUDGwcDFwMJBgMCAQkDCAEJBQEhBQUHBgoDBQEUBgECAQEIAwEBAgEHAQIDAQECAQIDAQQDCQMBCwkXCwsCBgIBDQIJAwUCAhMHBAQCCAcBAQEDAQMDAR0GCwIGAgMDBQMJAwcBBgcEBQQBAQIBAgYFCAwFBQYHEwoEAQEFAQEBAwkBCwYNAwIBAy8OAg0BBAEKBgECAQcGBgkDHAYBBAENEwsBAgcLCQMBAgcBAQECAQoBCAMCAQYIBwEBAQIBAQQDAQEJBQEBBQIMAwoBBgcBBAQCAgQNCQEBBgEEAQEHARMFBREBCgQHBgIDAQMCAgMIAQQDAQEGCwMCBgIDAgINBQcPAQkDAQEBAwEEBAEKCQMBAQEDAQ0DDQYBAQISAhUFBgMBAQMMDQISGQIDAQgMBCAEAQwFBQICAQIBAgMCAQMEBQICBgEBCwEBAgUCCwECAQQBAgEBAgIBAQYFAQgCAxULCQgBAhECAwEBBQYCAgUBAQEVCwIDAgYDAREpAQMBAQYGBQwMAwICAQUEAQUBAwIBBBEDBQQGAgoaAQkFBwwBBAQBBQIFAgYFBwMbDwIBDgEEBhwHAwQETgEBAwgCAwEHAgsBAgMCAQEOAwMIARYCAw0BAwoFBRACBgEWAQMSBgMLAwINAQUEAQkCBwEFAQUBBAEPAQICAikNBwIKAQIOAgIQAwIHAwcCAQMRCwEEAgEBAgICAQIEAgQCAQEBAgkRAwEBAwQCAQIDAgQCEgUBAggIAhIDAgkGAQIPAQUFBAMDDAQIAgwDAQEFAQMCAQMGAQMBAwYCBAIJAQwEBQUCBAEBCQQHAgMBAgkBAQEFCgMBASkCBwQFKwUBBgcBAQcSAwgBCwQCDQUBAQECDgQGAQEBBAsFHBIOAQYEAQsBAQYCBwQIAQEBCgIHBwkDAQICBgYFAhQMAwUDARAMBAEJBQECDgICEQQBBQkCCgEFBg0CCgIHAwULAwEMCQEBAhQEDAEDBRsBAQIOAQYEAgsIBAUBAgEEBQIYAQIPCgEFBwMLBwEFARQGCAIGGgMCDRIGAgsBBwIEAQEDCQEBBA0DOAwFBgEBBAUEAgIHEQUEAwIJAQIDAQMDAgIDAQMCBAICFAECAQICBwgBFAkDCgEDAgEDBBQCLwcFAgEGBgEMAQEFAgEEAQYEBQMBAQECAwEIDQEBAQIBBAECHggGBQMGAQQeAQQSBAwFAw4BBw0FARIGAQMBAwEDAQIHFAEGARkHAgEDARIBAQkEAQIDAQEBDQEBBQEBAQYOAQECAwMCCgEDCAEFAQMMDQ4DAQMHAQcBAQQBAQMCAQEHBAQBEwYBAQIBA2QEBAIdCgIEFAEBAQEGGAECBAQEAQEBBQEBBQ4BBgMBAQsDAwgDAwEGBAEBAgQBCAECAQIBAQcEBAEBAgUCBgIBAQECAQEBAwULDwEEAiYCAxIBAQIDAgIHAQMBDgIDAwMCHAYCCx0DAQEKAQYBDAIUARIEBQIDAQEDBAERAQEBARIIDQUGCwEBAQUBAQEGAQMmAgEEAQEBDQEdAQECBgMBBAEEAQEDAQEBAgoFAgEGAQICAhILAgIBBwMGAQEFAwIBAgEDBgEBAQEBAxABCQk0BQIBAQkLCAYFAQIBAQEBBgMFAgEDBgEEAREBAQEDBAMCAQEBAQcFAgEEBQEEBBEGBgEaARoaAgIcCRwEAQEDDAUBBgEVCAECFAMDAgEBBwEBAgEMBgcXAgMDAQIBAQYBAwIJBAECBgUCAQICAhYBAQIH",
          "dtype": "i1"
         },
         "z": {
          "bdata": "7FG4HoXttUCZmZmZmemZQHsUrkdhvaxAZmZmZmZmckB7FK5H4c5yQEjhehSuE6RAXI/C9ShseUCamZmZmd2QQHsUrkfhnI1ASOF6FK7ttUDXo3A9agfRQKRwPQpXX6pAUrgehQtrwUBI4XoULhKsQAAAAAAANHxAFK5H4TqBskAAAAAAAECBQGZmZmZm4JJA16NwPQoLhECkcD0K10N/QM3MzMzM3GJAmZmZmZmtjECamZmZmZyXQB+F61E4za5A9ihcj8ImqkBcj8L1KLCSQDQzMzMz/YxAPQrXo3DapEAAAAAAAJh3QGZmZmZm8ndAcT0K16OEqUC4HoXrURm1QHsUrkfh+JZAZ2ZmZqb4wEAK16NwPQuXQArXo3A9cplAuR6F61GUekCamZmZmRGaQGZmZmZmpoRArkfhehT+YUAfhetROHquQLgehetRZZZAPgrXo3CNf0CkcD0KV6ilQAEAAAAAWG1AZ2ZmZuZ8okBSuB6F6+GQQOxRuB5Fx7FAPQrXo3AbjUDNzMzMzE2hQHE9CtejbpZAMzMzMzPJnEAAAAAAAKhpQDMzMzMzU1FAmpmZmZnDkUB7FK5H4ZqNQMP1KFyPuZVAj8L1KFz2uEAVrkfheoyXQNejcD2KKa5ASOF6FK4tiEBmZmZmZq51QI/C9SjcyaJAmpmZmZk7i0DhehSuR8OIQFK4HoXrUWlAXI/C9eiBt0B7FK5H4VifQFyPwvUocHhAhetRuB7DgkDNzMzMzFSLQM3MzMzMWbJA4XoUrsf6oUD2KFyPQu+pQHE9CtejNZtApHA9CtfEkkBmZmZmZqqNQPYoXI/CGrtAXI/C9ehDu0DNzMzMzAxrQI/C9Sj8j8RAuB6F61EHsUAfhetRuD2RQKRwPQr3MstAXY/C9SjQekAzMzMz8wTGQDMzMzOzRaNAH4XrUbgYkkCamZmZmRmHQJqZmZmZcXNAUrgehesBYkApXI/C9dR2QFK4HoXr6q9ASOF6FK6vd0AVrkfhelKPQKRwPQrX93pAMzMzMzPXdkCamZmZ2a2wQJqZmZmZgYVAPQrXo/CqyECF61G4Hsl1QLgehetReoVAuB6F6/ES0EAzMzMzc0G2QK5H4XoUKqRAuB6F69H3o0ApXI/C9XmXQPYoXI/C5XhAZmZmZmaKckDXo3A9CpeDQOtRuB6FzYxAhetRuB7DkkBmZmZmZuiNQOtRuB6FUYVAmpmZmZmZYEAUrkfhek2pQK5H4XoU/adAZmZmZmZ+akApXI/CBRbQQOtRuB4FT6xAMzMzM5MkxkDD9Shcj6aQQK5H4Xq0H8hAUrgehesPgUAzMzMzM5N9QJqZmZnZ4rJAuB6F67HbxUBcj8L1KPmvQDMzMzMzv7VAzczMzMwghkAK16NwPaqMQMzMzMzM1HFAcT0K16Nyk0B7FK5H4a5yQLgehetRHsFAZ2ZmZmaGekBI4XoUrvmCQKRwPQrX+3lAFa5H4XoLmUBmZmZmZlZxQOxRuB6FC0tAAAAAAIBst0A0MzMzM9t1QOxRuB6FW3ZAKVyPwjW3tUDD9Shcj6WfQArXo3C9Z6dAAAAAAAAAjEBmZmZmZoiFQJqZmZmZmYhAAAAAAABgUkAK16NwPZCXQLgehetR5HhAAAAAAADQY0DsUbgeBWKxQNejcD0KGKhAKVyPwvVAYUC4HoXrUXKBQNejcD0K95hAMzMzMzNrcUAK16NwPeGhQEjhehSuJaJAw/UoXI/DnEC4HoXrUeSDQOtRuB6FVKJAPQrXo3ANgUDXo3A9CpdjQM3MzMxMXq9ASOF6FA4hw0CkcD0K152LQHE9CtejUpJArkfhehRshkBSuB6F67WZQEjhehSux3NA7FG4HoVqqkDNzMzMzKybQOJ6FK5HnXNAw/UoXI8fk0A9CtejcKmOQM3MzMzMYoZA2KNwPeqcyECF61G4HomCQJqZmZmZA4RAAAAAAGDZxUApXI/CBb3SQD0K16NwSYpArkfhehQefkAAAAAAAEKKQDMzMzMzy3NAhetRuB4DikAAAAAAAOyPQOF6FK5HuXJAzMzMzMzMUECF61G4HkWYQHE9CtejxolAAAAAAAAAZUCF61G4Ht1zQAAAAADACLBAAAAAAAAIeEBI4XoUrt2CQFyPwvUIR9JAj8L1KFzfcEBI4XoUrm2AQNejcD0K+J1AMzMzMzPbbUBSuB6F60qxQEjhehSup2tAZmZmZmYueUA9CtejcD1iQGZmZmZmmnJASOF6FO5ZyEAAAAAAAABKQHsUrkdhoahAexSuR+E8gECPwvUoXIOMQOF6FK5HYYZAZ2ZmZmbOZkDC9Shcj8aBQD0K16NwHaBAAAAAAADXmUBnZmZm5nSvQB+F61G4JnhAMzMzMzMXjkAfhetRuHZmQJqZmZmZcZxAhetRuB7ZyUDNzMzMTJyhQGZmZmZmgJxApHA9ClcdoEAAAAAAAABaQArXo3A9doZAXI/C9aj+sEB7FK5HoT7CQJqZmZmZoJFAuB6F61ENo0CZmZmZmeF3QJDC9SgcGrNAuB6F61GQcUC4HoXrUSR8QNejcD2K1KhApHA9ChdgsEB7FK5H4aqfQJqZmZlZS7FArkfhehTqgUCkcD0K1yNjQJmZmZmZKYNA9ihcj8KFbUDNzMzMzJORQNejcD0KYJhAcT0K16P8eUBSuB6F62anQFyPwvUoTptA4XoUrkelkkC5HoXrUeCEQLgehesRl7hAmpmZmZm5c0CuR+F6FLy0QJmZmZmZPY9AFK5H4Xo4dkBSuB6F6ylhQPYoXI/CJqtAcT0K16NdlEAzMzMzM0NkQBWuR+H6yalA16NwPQrJgUBI4XoUrjmyQBSuR+F6QrdAw/UoXA/lr0BI4XoUruOGQHsUrkfhuJJA7FG4HoUbkEBxPQrXI9WpQNejcD0KV4ZAXI/C9SgktEAAAAAAAIB2QB+F61E4TqRAwvUoXE/Ov0DhehSuR/uEQBSuR+F6wZBAcT0K16PAjkDNzMzMzDxiQK5H4XoUSoxAUrgehWupvkApXI/C9bGdQJqZmZmZHqlAexSuR+ELlUDNzMzMLCLNQAAAAAAAPJBAzczMzExhoECvR+F6FE5uQAAAAAAAnHdACtejcD3Yi0AUrkfhOiKwQKRwPQrXj4BANDMzMzNrbkCuR+F61Fu2QB+F61G4TJZAZmZmZmbAg0DsUbgehWtSQDMzMzMzY2xAAAAAAABAZEDsUbgeBea4QM3MzMzMLGdA16NwPQostUCamZmZmTlwQEjhehSugZNArkfhehTCfEBxPQrXI2bDQML1KFwPCKRArkfhepTYqkApXI/C9XykQM3MzMzMcHlArkfhehTQkUBmZmZmZtKcQAAAAAAA7opAMzMzM7P9oUCamZmZmXF2QFyPwvUouI1AFK5H4Xq2iECkcD0KFzXGQPYoXI9Cb6BAw/UoXI/0o0ApXI/C9chhQHE9CtejC51AwvUoXM8Js0A9CtejcKSRQFyPwvUo8HRAmpmZmZlRkEDNzMzMzLxbQK5H4XoUHJZAZmZmZmb9mUCuR+F6FDGVQOF6FK5H34ZAH4XrUbish0AAAAAAANxxQHsUrkfhsIFACtejcP2tsUC4HoXr0ZChQAAAAAAAIGlACtejcD0UjECPwvUoXDObQM3MzMwMtcVAj8L1KFzbgkCamZmZGYKyQFyPwvUo+I9AMzMzMzP0kkBcj8L1qAG5QGZmZmZm1IhASOF6FG4AyUD2KFyPwh1xQFK4HoXrG45AcT0K16NPkEAAAAAAAEhpQJqZmZmZ54FAhetRuN6CvEBcj8L1KGasQNejcD0KnY5Aw/UoXI8YhkDXo3A9ChqgQIXrUbgezaFAMzMzMzPVrEDhehSuhymzQI/C9Shc8YxAXI/C9SgQekAAAAAAAPqFQLkehetRSGtACtejcL3dokAzMzMzM92CQML1KFyPjIVAAAAAAAAAYkAAAAAAAP2sQDMzMzMzK3FAXI/C9aiypECamZmZmbl6QArXo3A9gm1ArkfhehSEkkA9CtejcP+AQM3MzMzMnoZAmpmZmZnRb0BSuB6FaxXCQI/C9Shc8bpArkfhehQ+cUC4HoXrUcRwQBSuR+H6f7BAFK5H4XqFp0CuR+F6VKPBQITrUbgeBVxAmpmZmRl5vkAfhetRWEfDQArXo3C9CrJAzczMzMzcc0CamZmZmQ+HQK5H4XoUmppA4XoUrkdxiUDsUbgehXeaQLgehetRTpRAcT0K1yPOwUDD9Shcj66NQK9H4XoUFmVAZmZmZmbekUBmZmZm5lypQJqZmZmZSWxA9ihcj8KDh0AAAAAAABBfQM3MzMzM7FRAFK5H4Xo8mEAAAAAAAIA7QJqZmZmZO4BAH4XrUbgWmEDrUbgeRUK6QGZmZmZmJnRAUrgeheuViEAVrkfheiyuQHA9Ctej951AAAAAAABDmEAzMzMzM0OMQAAAAAAA5IRAPQrXo3D5iEBmZmZmZg54QDMzMzMzK2xAzczMzMwWgUB7FK5H4TCOQK5H4XoUWIZAcT0K16OKikDhehSuR+OKQEjhehSu53NAAAAAAADwdUB7FK5H4bCFQKRwPQp3n8BAMzMzMzNra0AAAAAAAER/QMP1KFyPPotApHA9Ctc8oUAUrkfhes6PQLgehetRcHRAzczMzMw7k0BSuB6F6yWkQDMzMzMzS29AzczMzMyQikCQwvUoXKGVQFK4HoXrt4BAMzMzMzPvi0AVrkfherRsQDMzMzMzV5lAexSuR+F6VUBI4XoUrvuKQDQzMzMzQ3xApHA9CtfXgUC5HoXrUXiSQFyPwvUo5IBA16NwPQoDpUCamZmZmZlrQNejcD0Kp41AAAAAAIBluUBSuB6F69F4QNejcD0KNYBAAAAAAIAXp0AAAAAAACx3QEjhehSu1Y9AzczMzMwUeEBxPQrXo566QPYoXI/CMXxAFK5H4Xrwd0CuR+F6FBZ6QEjhehSux3JAw/UoXE+bt0C4HoXr0a25QOF6FK5Hg4VAw/UoXA+DqkAK16NwHaXDQD0K16Pwk69A4XoUrgdgvUApXI/C9fedQFyPwvXoqLlAzczMzMxEhEA9CtejcCF2QJmZmZmZYZlAAAAAAAAAakCF61G4HiWoQAAAAAAAoHRAMzMzMzN3cUDNzMzMzHhzQAAAAAAAh65A16NwPQpkp0BSuB6F6z+EQI/C9SjcB6FAAAAAAADQrEA9CtejcD1mQM3MzMzM+IFAXI/C9Si8S0AAAAAAABBRQML1KFyPgo9AmZmZmRnRpUCF61G4HrlyQD0K16Pw9qlAZmZmZmYRkUDXo3A9it++QIXrUbgejqFAHoXrUbgadUDNzMzMzDOaQFyPwvUoQIdA4XoUrsfGrEAzMzMzM62fQI/C9ShcS4tAKVyPwvUzlUCuR+F6lE+tQHE9Ctej9aZAUrgeheu3ikD2KFyPwumBQNejcD0KAYRAAAAAAACgckBcj8L1KNyWQPYoXI/C+4VAzczMzMxQc0B7FK5H4VySQJqZmZmZiZVAzczMzMzMa0BSuB6F6yF2QJDC9ShcF3hAw/UoXI9chkAAAAAAAESKQK5H4XoUdnBAFK5H4XqEZ0AzMzMzM6tjQM3MzMzMTHdAAAAAAAASgECQwvUoXG9zQGZmZmZm5nZA4XoUrkdFdUD2KFyPoj3RQPYoXI/CVWFACtejcD0MikDhehSuR9l/QI/C9Shc049AhetRuJ7PpkDD9Shcj85/QAAAAAAAwJtAexSuR2E+qECamZmZmZa2QHsUrkfhQZpAMzMzMzP5mUCQwvUo3Cy6QI/C9Shc/2tAAAAAAABbkkDrUbgeBS6yQDMzMzMzB7FAAAAAAMBkxUD2KFyPwtyUQD4K16NwgX5ArkfhehRWeUApXI/C9a6IQM3MzMzMSqNAcD0K16PKhkCkcD0K1zGYQFK4HoXrqWhAcT0K1+PQsEBmZmZmZnZdQM3MzMzM/HlACtejcD2KmkCF61G4HlyaQM3MzMzMtGZAj8L1KNyTsECamZmZmZ+QQB+F61E4M6hAKVyPwvWIXECF61G4Hu2LQKRwPQrXl3dAMzMzMzN1jUAAAAAAAEB+QK5H4XoU5IJAexSuR+EgjEAzMzMzM0d0QIXrUbge0J1AXI/C9agBokBnZmZmZknOQAAAAAAAzJxAcT0K16PsqEBcj8L1KK+VQBWuR+F6bolAZmZmZmZOZEBcj8L1KJWyQIXrUbgeT4BAj8L1KHwBwUBSuB6F69uAQGZmZmZm3mJA4XoUrkeolEBI4XoUrn9qQArXo3A9pnBASOF6FC4jrEDhehSuRwlgQOF6FK5HH4hA9ihcj8IFZEBSuB6F69KwQGZmZmZm/mBAzczMzMycXkB7FK5H4dOXQFK4HoVLLc9AH4XrUbilkUDNzMzMzBh4QDMzMzMzj3lASOF6FC5ooED2KFyPwqioQNejcD0KLYBAcT0K16ONo0CamZmZmS2AQHE9Ctfjus9A61G4HoVDd0CF61G4nnGlQOJ6FK5HoX5AAAAAAABgWEDsUbgehV2TQEjhehSuU6VApHA9CteAlEDD9Shcj7qAQAAAAADgd8pAAAAAAADcjUDD9Shcj+aHQGdmZmZmVldA61G4HoWuk0CQwvUoXHOOQArXo3A9ampAAAAAAAA4dkC4HoXr0X2gQHE9CtejwIxArkfhehR+fEAAAAAAACKQQK5H4XoU4nlAmpmZmZmhYkDNzMzMbMHGQD0K16NwPY9AFK5H4XpkVEAAAAAAAOhlQNejcD0KIYNAAAAAAABAbUBSuB6F66F0QGdmZmZmRllAXI/C9ag5p0D2KFyP4qjIQK5H4XoU9rRAUrgehWu6uUCF61G4Hq+IQAAAAAAAgGlApHA9CtcDw0CamZmZmeiSQEjhehSuV4NACtejcD0Xs0BmZmZmZiZJQIXrUbgejJNAKVyPwvVegUAK16NwPTZ0QLgehetRFJtAzczMzMzt0EDC9Shcj6qEQDMzMzMzHZ5AexSuR+Esk0DXo3A9iraqQJqZmZkZN6ZAmpmZmZmRa0A9CtejcNWMQM3MzMzMUJVAmpmZmZkxc0BnZmZm5pWuQEjhehSuY4xApHA9CteVj0BSuB6F6yeFQNejcD0K+YhAw/UoXI8zmECPwvUoXCOAQGZmZmbm9bJAj8L1KFyfiEAAAAAAAKqNQHsUrkdBE8FAUrgehWvor0ApXI/C9QCWQOxRuB4lDMhAmpmZmZl5Y0ApXI/C9a2oQJqZmZmZ6V9AH4XrUTgiokCPwvUoXC9qQB+F61G4kIZAZ2ZmZmb2cECkcD0KV/6hQBSuR+F6OHNA7FG4HoUTb0BI4XoUrq91QM3MzMzMjGdAKVyPwvVCmkDD9Shcj32TQM3MzMzMbH1AXI/C9SjIf0AAAAAAAIB1QD0K16OQ6cJAmpmZmZl9h0DXo3A9CidgQM3MzMzMJGZA4XoUrkchekBcj8L1KESVQHsUrkfhvIxAzczMzMzsYECkcD0KV/GnQHsUrkfhMnpASOF6FK6LcUAAAAAAwKe8QHsUrkfhtnhAmZmZmZmZXkDD9ShcjwKjQOJ6FK5HdXtACtejcD2ac0DsUbgehYNtQFK4HoWLi8tAcT0K16MjokDD9Shcj7igQAvXo3A9AqNAmZmZmZmZUkA0MzMzMzt6QFyPwvWoJMpA61G4HoXraUAzMzMzM7uFQClcj8J12MZAhetRuB4thkBmZmZmZrSaQAAAAAAAAFJASOF6FK7bgkC4HoXrEYW0QK5H4XoUKpFAhetRuB64kUA+Ctej8BqnQK9H4XoUHnRAmpmZmZmZNEDsUbge1RHSQFyPwvUoTG1AMzMzM7NntUAK16NwPVJ/QIXrUbiep6RAuB6F69HeokDNzMzMzNxgQJmZmZmZmT5ASOF6FK67cUCF61G4HtOMQAAAAAAArH9AMzMzM3OuskAK16NwPdJjQAAAAACAAK9AH4XrUbgycEAAAAAAAHhwQAAAAAAAKG1AAAAAAAAAUEDXo3A9iuOpQDMzMzMzU1NAZ2ZmZmYOaUApXI/CdVajQGZmZmbmVqpAXI/C9ShiuEBmZmZmZhq+QClcj8L17JZACtejcH0FwEAfhetRuP6SQK5H4XqU5b1APQrXo3Axc0CamZmZmVF5QDMzMzMz62BArkfhehQ+lkCF61G4Hp1sQGdmZmZmRoZA7FG4HmXUwEDXo3A9CuGZQOtRuB6FH3xAFa5H4XoppED2KFyPwsSgQOxRuB6FY35Aj8L1KFxjmUAfhetRuFibQFyPwvUoyphAj8L1KFw3tkB7FK5H4WiXQGZmZmZmd5ZAMzMzMzPzVkCuR+F6FO59QIXrUbi+HcJAZmZmZmamMUAzMzMzM0N3QHE9CtejrJZAPQrXo3Chi0CamZmZmZSRQArXo3A9TZ1AcT0K16NAikBwPQrXowBdQMP1KFyPRn1AZmZmZmZmUUAzMzMzs56kQIXrUbhegcJAmpmZmZn7iUA9CtejcM1+QJqZmZmZAYBAH4XrUVhWy0AVrkfheuKBQGdmZmZmhlVA16NwPQp7dkDsUbgehUteQEjhehQufLtAXI/C9SiVmkCamZmZmdlRQMP1KFyPn5hAKVyPwvWIdkBnZmZmZqZcQHsUrkfhSnBA4XoUrkfVgUCuR+F6FJZkQFyPwvUo/aNAuB6F61F4XUAUrkfheox9QFyPwvUojGVAmpmZmZnvp0Bdj8L1KFB3QHsUrkehYbNAXI/C9TgM0EAfhetRuDCLQD4K16NwYpNAMzMzMzOxmEAAAAAAgLCkQOJ6FK5HNY5AZmZmZmbmpUBcj8L1qFzAQHsUrkfhvoBApHA9Ctf9nkB7FK5HwZ7AQEjhehSuF3ZAcT0K16NSpUBxPQrXo6CIQNejcD0KF65AKVyPwnWAqUBmZmZmZmZUQKRwPQrX23RApHA9CtfThEBRuB6F61FPQB+F61G4DlNAkML1KFzglEDhehSuR3uKQAAAAAAAIFZAKlyPwvVIjkBmZmZm5tegQFyPwvUIws9Aj8L1KFyHc0AzMzMzMxtwQAAAAAAAYHZAZmZmZmYeZEDD9Shcz9O4QGZmZmZmNpVApHA9CtdhkkAzMzMzM092QOF6FK5HHJBAzczMzMxGh0AAAAAAABiEQNejcD0KdY9A9ihcj8LqmECuR+F6FCWbQIXrUbge5VxAMzMzMzPbhUCPwvUoXOyTQJDC9Shcb15A9ihcj8LpjkCPwvUo3HaqQFK4HoXrUX9AexSuR+EafUAfhetRuCOZQHE9CtejAHBA9ihcj8KVb0DNzMzMzPR4QLgehevRj6ZAFa5H4Xq0SUBI4XoUrkOMQAAAAAAAAAAAAAAAAAC4YkAfhetRuCyQQOxRuB6FVJZAKVyPwvVsgUDNzMzMzICNQM3MzMzMwoFA7FG4HiX3wEAVrkfhepSGQLgehetRd6BA4XoUrsfdt0B7FK5HIQ/DQHsUrkdhHalAMzMzM/NTwUAAAAAAAHCSQFyPwvUoLGtAKVyPwvVIcUCPwvUoXF9hQJqZmZmZjXZAhetRuB41bkCkcD0K1yeeQGZmZmZmWoBAZmZmZmZvlkAAAAAAADhhQPYoXI9CJaJAmpmZmZntdUD2KFyPwoSUQPYoXI/CVXdArkfhehQmaUBI4XoULkmqQOF6FK5H94ZAH4XrUbhsiEB7FK5H4fyMQDMzMzMzP3NAXI/C9SgUakDhehSux+WpQK5H4XoUFI9A9ihcj8KjkkCF61G4HmaaQHsUrkfhN5FArkfhehTEiECF61G4nhCxQAAAAAAAgHZAzczMzMwKk0DXo3A9ChaUQB+F61G4UINAZmZmZmbmY0Bcj8L1KNxOQClcj8L1B5NAUrgehWtVrUAzMzMzM9NKQD0K16NwFXFAFa5H4XoZmkAVrkfheqmaQM3MzMzMFJhAw/UoXI+0gkAAAAAAADBfQHE9Ctcj0apA7FG4HoU/iEBcj8L1KGRzQFyPwvXIw8lApHA9ChdWuUCuR+F6FAaEQDMzMzMzaKFASOF6FK4XgUCQwvUoXO9oQM3MzMzMnohAj8L1KLyIxEBmZmZmZhqFQFyPwvUonHFAw/UoXO8iw0BSuB6F63GUQB+F61H4+LNAj8L1KFySpUBmZmZmZmZwQGZmZmZm7nVAUrgeheu9j0AAAAAAwHe4QClcj8L12IhA16NwPQqdmEBxPQrXo/GiQClcj8L14IpAzczMzMw+iEB7FK5H4RZ2QD0K16Nw36NAAAAAAABYeEBmZmZmZrZyQPYoXI/CVXVAuB6F61E4bUAK16NwPepuQClcj8L1mI5A16NwPQpfd0BH4XoUrt94QArXo3A9PIdAmpmZmZkVhUDsUbgehWOHQPYoXI/C9a1AFK5H4Xpwe0AK16NwPU2QQJqZmZmZRphAAAAAAACqlkC4HoXrERK1QD0K16Nw75pAHoXrUbjeYEAK16NwvWKhQBWuR+F6FExANDMzMzPjf0AAAAAAAIaRQBWuR+F6RINAKVyPwvWWl0C4HoXrUfOhQArXo3A9qndAPgrXozCjvUDNzMzMzGx6QFK4HoXrAJxArkfhehTej0DsUbgehUOYQOF6FK5H14FAMzMzMzMzT0C4HoXrkfi/QLgehetRrpVAFa5H4XoUc0AVrkfhOvG5QMP1KFyPtIBASOF6FK4bikCuR+F6FK5nQJqZmZmZhpJASOF6FK7viEBxPQrXowCBQGZmZmZm5k1AKVyPwvXIVkDNzMzMzK2RQM3MzMxMzLlAUrgehetwkkApXI/C9UOVQArXo3C976hAH4XrUbjyhEBmZmZmZjZxQOF6FK5HbXNA7FG4HoX8l0AAAAAAALBsQEjhehSuj29ACtejcD27kkCPwvUoXMeBQGZmZmZmiaFAUrgeheszoUCamZmZmbFqQJmZmZmZdX5A16NwPQrXekDhehSuR3yjQI/C9ShcBYlAZ2ZmZmZmjUApXI/C9RWaQM3MzMzM5MdAUrgeheuha0AzMzMzM/tjQIXrUbgeB7BAmpmZmZmEpEApXI/C9SBrQFyPwvUo5oFA9ihcj0KXqkDhehSux5W/QArXo3A9dI9ASOF6FK63fkBmZmZmZnaPQJqZmZmZO4VAFK5H4XroqUCamZmZmUl7QML1KFyPkoRAPgrXo3ALmkDhehSuB1yxQBSuR+F6nGhAhetRuB6gqkAAAAAAAEBHQHsUrkfh1I5AAAAAAAA9lEAzMzMzM4eGQFK4HoXrPXpAcT0K16MAlEA+CtejcL2DQMzMzMzMPG5A4XoUrsdTrkDD9Shcj6SRQMP1KFxvDMJArkfhehQ+ckDXo3A9ChiwQClcj8I1CbxAZmZmZmbOhkDrUbgehW2IQKRwPQrXe2tAj8L1KNyzpkB7FK5H4ZqbQNejcD0Kh2JA9ihcj6Jbx0BwPQrXoyGSQK5H4XoU7mZAMzMzMzMrsEBmZmZmZgeSQOF6FK5HEahAKVyPwvUYjUDNzMzMzKqPQKRwPQrX7pBArkfhenQTykCamZmZmZlUQAAAAAAAoGRAXI/C9SjHo0BSuB6F64GCQOtRuB6Fw6RAuB6F61G+hECF61G4Hl+WQHsUrkfh8Z9ApHA9ClckpkDD9Shcj0+hQClcj8L1mopAw/UoXI+eg0BI4XoUrqGtQD0K16NwAXVAexSuR+GKYUD2KFyPwpmGQD4K16NwjqdAzczMzMxhkUApXI/C9XaKQDMzMzNzH85AuB6F61EYfEAAAAAAAEhjQMP1KFyP1rFAj8L1KFzXk0CuR+F6FCp/QF2PwvUoxHNA9ihcj0L+tEBxPQrXo2qEQLgehetRoZRArkfhehR2dEBxPQrXo9WRQDMzMzMz6ZZA9ihcj0JspkAAAAAAAGSIQMP1KFyPxZ1AexSuR+F+ckCkcD0KV1WsQM3MzMzMnJlAUrgehWtAo0DNzMzMzPBxQHsUrkfhLpFAPQrXo3C/sUBcj8L1KKxxQM3MzMzMcoVAH4XrUbjEiUA0MzMzM3+JQOF6FK5Hx5NA16NwPQpVmkCkcD0K16CgQIXrUbge9YNAj8L1KFxzdUBmZmZmZiW2QJqZmZmZFpFANDMzMzNzX0C4HoXrkdyzQD4K16NwQYVACtejcD2mg0AAAAAAAHiSQArXo3C9S7JAXI/C9Sg8c0BH4XoUri95QK5H4XoUKptAUrgehetJakBxPQrXo9hwQGZmZmbmKL5AAAAAAABgVkCuR+F6lPCqQM3MzMzMboZAw/UoXA83qEA+CtejcIWYQIXrUbgew4NAAAAAAACKiECkcD0KV0yvQD4K16NwfpZAAAAAAADoiUAK16NwPWp3QMP1KFyPEJFAKVyPwvXwZUBSuB6F6zWMQGZmZmZmbo9AXI/C9SjYdUBmZmZmZoZuQFK4HoXrQrtAZmZmZmYugECF61G4HpmZQIXrUbj+jMFACtejcD0aaUDsUbgehbCnQBSuR+F66IJAAAAAAADwjkCkcD0K18tlQHsUrkfhcpxAexSuR+GcskAK16NwPUyIQM3MzMxM19BAzczMzMzseUAVrkfherCaQFyPwvUo6JBAMzMzMzMbaEAK16NwPe6LQEjhehSu721A16NwPYrCsUBnZmZmZrOUQI/C9ShcZYxAAAAAAABUekDC9Shcj+CGQIXrUbjej8ZAw/UoXI84q0CF61G4HnViQPYoXI/CxJdAAAAAAADwWkAVrkfheohxQPYoXI/CNW5AhetRuB4clkAzMzMzM4d4QLgehetRZIVAKVyPwvVwYEAAAAAAACaaQGZmZmbmXaNAKVyPwvWCkUDNzMzMzLS4QBWuR+F6F6BAHoXrUbj+bkA+CtejsJO1QMP1KFyPqoBA9ihcj8KRiUC4HoXrUciFQI/C9Shcy3hAH4XrUbisiEA+Ctej0NvDQI/C9ShcM4BAw/UoXI+EkkBI4XoUrgSQQHsUrkfhimRAKVyPwvVshkCPwvUoXFWAQHA9CtejiHFACtejcD23kEBmZmZmZoZtQDMzMzMz62RA9ihcj8L/oEDD9ShcD++pQLgehetRkolAZ2ZmZmY/kEBI4XoULmqiQOF6FK6HgLhAmpmZmZkBckAAAAAAAPuTQHsUrkfhKmZArkfhehT2bED2KFyPwhVcQDMzMzMzu2pAmpmZmZmXhEAUrkfhegqkQOF6FK5H4XxAXI/C9SjUckC4HoXrURiGQM3MzMzMi6FACtejcD1ic0BI4XoUbh3KQIXrUbgev59ApHA9Ctf8p0DNzMzMTICsQB+F61F40bNAuB6F61Fup0ApXI/C9aiNQAAAAAAAVIlAKVyPwvWoXkCuR+F6FAmVQAAAAAAAUHlA9ihcj8LDj0D2KFyPwhWAQNejcD2K2aBA7FG4HoWApEAzMzMzM4NvQAAAAAAAZHRAj8L1KFz/p0DhehSuR3ybQOxRuB6FO5pAmpmZmZmMqUAzMzMzM3tqQDMzMzOzFaRAZmZmZmYGY0AAAAAAAKS4QB+F61E4oqFAMzMzMzOMkEAK16NwPeJ3QAAAAACAibdAexSuR+Ees0A9CtejcKlzQKRwPQrXU3RAH4XrUTiUoUDXo3A9Cv6fQHA9CtejfJpAmZmZmZn5X0C4HoXrURBzQB+F61EYj8lAzczMzMzYeUAzMzMzM9t1QGZmZmZmXmhAH4XrUbg+ekAfhetRuM54QPYoXI/CFW5AhutRuB5tfkDNzMzMzHxuQOtRuB6FYYFAMzMzMzMTbUBcj8L1KJRxQFyPwvUITsZAcT0K16PeiUAAAAAAAMBNQJqZmZmZKXBApHA9CtengkB7FK5H4V6oQHE9CtejkHlAUrgehWs0x0AAAAAAAHh3QAAAAAAArpNAAAAAAACIZUApXI/C9ZhqQM3MzMzMVKhA4XoUrkcHn0ApXI/CdaWlQJqZmZmZkZ9AmZmZmZnpYkAVrkfhehh9QDMzMzMz4YdAUrgehWtTpEAAAAAAACBkQPYoXI/C5WBAKVyPwvWYekCF61G4HgiiQLgehetRVZ9Aj8L1KFy5g0AfhetRuEuqQK5H4XoUjnJAAAAAAMCYvUC4HoXrUdh/QAvXo3A94ZtAj8L1KFzzh0CuR+F6FDqHQDMzMzMzK2RA7FG4HqWRwEApXI/C9UhhQDMzMzMzW5tAzczMzMwoc0AAAAAAgP6lQDMzMzMz/4hAuB6F61Esh0ApXI/CNeq1QM3MzMzM5JJAuB6F61GgakAK16NwPfKeQHA9Ctej3pBAMzMzMzPgkEA+Ctej8DOmQKRwPQrXpYZAzczMzMyEh0AfhetRuBSDQPYoXI/CvX5AFa5H4XpwfkByPQrXoy26QI/C9Sh8HcNAUrgehWucpUCZmZmZmTl1QHsUrkfhjntAMzMzMzNDckApXI/C9e2YQD4K16Nw44RACtejcL1yqEBmZmZmZvaUQD0K16NwEZJAexSuR+FKiECuR+F6FBZmQMzMzMzMLG9AMzMzM7O4oUCQwvUoXCSsQAAAAAAAhHJAUrgehevamEBxPQrXI12gQM3MzMzM8HtAMzMzM7PioEAAAAAAwPvBQJqZmZmZcWhAhetRuF5VwkDiehSuR5uEQML1KFyPTpVASOF6FK6AnkApXI/C9VCjQD4K16NwYbRA7FG4HoXopkCF61G4Hg12QDMzMzMzy2dA9ihcj8Jfi0BSuB6Fa6i2QClcj8L1iohAH4XrUTghtkAK16NwPVCoQHE9Ctej2HJAAAAAAACQdUBxPQrXo2aQQKRwPQrXf4NAKVyPwvWRkUBcj8L1KCRkQMP1KFyP/oZAcT0K16NWiEB7FK5H4QacQI/C9ShcGJhAKVyPwnW8pkBxPQrXo4x+QHsUrkfhPapAAAAAAAAak0AAAAAAAAAOQB6F61G47m1AzczMzMzMdUAAAAAAALCXQDMzMzMz/3dAAAAAAAAAWEBSuB6F64FfQGZmZmZmIopAMzMzMzMbckDNzMzMzG2SQHE9Ctcj56VACtejcD3wmUDNzMzMzEx0QHE9Ctej65RA16NwPQoRqUDNzMzMzOSMQK5H4XoUBnBAZmZmZma2gEBxPQrXo06bQJqZmZmZPYVA16NwPQpMlkAAAAAAADSHQAAAAAAAUH5APgrXo/CmokBxPQrXo6KhQArXo3A9QbpAH4XrUbg6f0BI4XoUro90QKRwPQrXo05AMzMzM7OkpEAzMzMzM32EQFK4HoXrCpZAAAAAAADAg0BnZmZm5paqQOxRuB6F5alAexSuR+Hyb0AAAAAAALBnQM3MzMzMwHlASOF6FK4vakAAAAAAAIBZQDQzMzMzm2NArkfhepRvu0DrUbgehS2DQHsUrkfh6oVA16NwPQpDdECuR+F6FB2RQClcj8L1YoNApHA9CtfzcED2KFyPwqCeQGdmZmZmfmFAMzMzMzNbhEAAAAAAAEBVQFyPwvXo7rVAAAAAAAD8c0BSuB6F65l2QEjhehSuj3NAXI/C9ShvlEDsUbgehWtzQAAAAAAADqpAmpmZmZkaq0BSuB6F6+2YQClcj8J1/rFANDMzMzNrZ0DD9ShcjwiRQBSuR+H67sdAKVyPwvU9lECF61G4HtiRQK5H4XoUSI9APQrXo3AFa0B7FK5H4R6AQJqZmZmZd5NAXI/C9SgUcUBI4XoULvijQDMzMzMzXpNANDMzMzOzhEApXI/C9Vh/QD4K16NwNWJAuB6F61G6j0CuR+F6FPGoQIXrUbieqr9ArkfhehRQtkCamZmZ2a2+QMP1KFyPvIxASOF6FK47kEDNzMzMTAKgQIXrUbhezrJAzczMzMysXkB7FK5H4Rp8QIXrUbgeUqNAAAAAAAC4eEBcj8L1qCexQOxRuB6FnJJAhetRuJ6LuUBSuB6F64GdQM3MzMzMrH9AUrgehetxbkDNzMzMzNh1QJqZmZkZ8qBAUrgehescn0D2KFyPwt6mQBWuR+F6/IpAmZmZmZnOk0DNzMzMzKiJQClcj8L1pIFApHA9ClcKr0DNzMzMzEh4QHsUrkfhIpJAMzMzMzNzhUC4HoXrUUh4QI/C9ShcKplAcT0K16MLtkBnZmZmZq5kQArXo3A9ynRAZmZmZmaKc0AAAAAAAABFQJqZmZmZGWFAmpmZmRmDokCamZmZmelxQNejcD1KebBAzczMzMw8X0Bcj8L1KBxFQJqZmZmZk4NANDMzMzOzUUA9CtejcMaTQHE9CtejAHFAkML1KFzzkkAfhetRuJKTQB+F61G4uptAmpmZmZnVhkCamZmZmQmLQK5H4XoU8nVAZ2ZmZma7nEAAAAAAADKFQDQzMzMz+2tArkfhehQihkCF61G4Hgl9QDMzMzMzTKtAPQrXo3AVdUDhehSuh4C0QGZmZmZmNnNAuR6F61EGg0DNzMzMzNCMQFK4HoXr5LdA4XoUrkddjUA9CtejcMmKQArXo3A96lFApHA9CtdjmECF61G4HjmKQGdmZmYmucVAAAAAAAAAdEDhehSuR9FuQPYoXI/CDWlAmpmZmZkjikBSuB6F61CdQGZmZmZmplZArkfhehQmgUBxPQrXo/aiQHsUrkfhuoZAmpmZmZkThUD2KFyPwgvJQEjhehSu8LlAH4XrUbh+e0CPwvUoXAmBQMP1KFyPtI9AAAAAAACkfEDhehSuhzuyQB+F61G40JBA16NwPQrHbEDNzMzMzGqAQM3MzMzMrHZACtejcL2Hp0BmZmZmZm57QEjhehSugY5A9ihcj8JteEA0MzMzM1NeQArXo3A96l5Aj8L1KLwWykBmZmZmZnSKQLgeheuRO7JAAAAAAADIZ0AzMzMzM4twQPYoXI/CLYVACtejcH3GtEA9CtejcKGSQBWuR+F6PoBA4noUrkeZaEApXI/CdbCqQI/C9Shc/4hACtejcD2ydECkcD0Kl12xQDMzMzNzxLtAMzMzMzMBoEDhehSuh4jDQI/C9ShcB3RAUrgehevZhEDNzMzMTI2yQArXo3A9qJ9AzczMzMx0c0D2KFyPwr+KQAAAAAAAcGtAKVyPwrV3ukDhehSuRxKiQOxRuB4FW65ArkfhehT+i0ApXI/C9eR3QJqZmZmZtYFAFa5H4bqEwkCQwvUoXPmfQKRwPQoXsrFApHA9CteNgECF61G4Hi1qQDMzMzNzcrhAPQrXo3B1pkCkcD0KVymhQB+F61G43lNAcT0K16PQf0BxPQrXoy+RQGZmZmZm0ntAhetRuB6dfEDNzMzMzIx0QOF6FK5H8pBApHA9CtfYnECF61G4HgmLQK5H4Xq0RcZAAAAAAAC4bEBnZmZmZvJ2QD0K16NwNpZA16NwPQqEk0C4HoXrUdKaQDMzMzMzwYhAw/UoXI9AgkBSuB6F6y2EQM3MzMzMs69AexSuR+FIhkAUrkfhejRaQAAAAABATsRAw/UoXI86fUDsUbgeJSPAQOtRuB5F8rJAXI/C9ShcW0DC9Shcj16EQD0K16NwUaZAMzMzMzOVg0CamZmZmSeKQPYoXI/C+6dAFa5H4Xq0cEApXI/C9bHIQIXrUbgerWFASOF6FK7/ekAAAAAAAARzQAAAAACAZKhAcD0K14MYxkBI4XoUrrdiQOF6FK4Hn7BAj8L1KFw9h0BxPQrXg9vJQHsUrkfhUodAKVyPwvUMfkBmZmZmZuKBQD0K16NwHVdApHA9CtfDl0AzMzMzMwrAQFK4HoUraMBA16NwPQpTfUAzMzMzM/NmQOxRuB4FlcJAPgrXo3CrjECkcD0K1wiqQFyPwvUo2ItAmpmZmZkRY0AzMzMzM2t3QBWuR+F64ZdAUrgehevBbEDNzMzMzGh0QOF6FK5He5ZAmpmZmZlteEDhehSuR+FiQMzMzMzMbGtAFK5H4Xobm0CuR+F6FJ5eQHA9CtejOINAH4XrUbhmmkCamZmZmXF3QB+F61G4bpFAAAAAAIDztED2KFyPwtV5QNejcD0K/ZVAAAAAAADQYkCPwvUo/LTDQJqZmZmZ+UNAKVyPwvX6iUAAAAAAACBkQBWuR+F6FFNA16NwPQqdwkDNzMzMDCy8QJqZmZmZrXtA7FG4HoXfdECamZmZmZkHQPUoXI/CbXpAMzMzMzNrYkAVrkfhOoK2QM3MzMzMXGhApHA9Cvd0w0CF61G4HkGVQHA9CtejAohArkfhetRQt0CZmZmZmdlqQM3MzMxMDbNApHA9CtdTkEBmZmZmZgZiQJqZmZn5XclAzczMzMymhUCkcD0Kl6O2QJDC9SictLtAj8L1KFxQlUCQwvUoXHWDQHE9CtejcpVAAAAAAACAVkAzMzMzM6d8QKRwPQrX62ZAzczMzEy4pUAfhetRuKZ2QHsUrkfhQntA4noUrkc5ekCPwvUo3GilQKRwPQrXUZJAuR6F61GwnUCuR+F6FPSLQEjhehSuPqRASOF6FK5qnUCkcD0K13tnQML1KFwPBKxAhetRuB55jEDNzMzMrLnFQClcj8L11cJACtejcD2LmEAzMzMzM8t0QNijcD0Ks45AMzMzMzP7kEBmZmZmZjiNQNejcD0KmYxAMzMzMzO5jkAzMzMzM/NcQJmZmZmZmT5AzczMzAyHvEBmZmZmJnXCQGZmZmZmPKRAcT0K16MkfUBSuB6F6+l7QIXrUbgelYRAmpmZmZk7hUCQwvUoXPmeQM3MzMzMLG1AKVyPwnUeuUAAAAAAALBdQArXo3A9Vo9Aw/UoXI+6f0DhehSux+6+QI/C9Si8csBA9ihcj8LtqUD2KFyPwhVyQD4K16NwtqNArkfhehR/mUDC9Shcj6JeQJqZmZmZDXBAKVyPwvVBlEAzMzMzMyd3QD4K16Nwg4NAcT0K16OqgkBxPQrXoyx/QOxRuB6FK3lAAAAAAABQgkAfhetRuM5gQK5H4XoU671ArkfhehSgjEBI4XoUrmqhQB+F61G4U5lAcT0K16NyhkAAAAAAQK+4QM3MzMzMaHNAXI/C9Sg2hUAK16NwPSZxQArXo3A9TnxAzczMzMy0aEDsUbgehTqYQAAAAAAA4F5AH4XrUbgMoEBxPQrXY7a2QJqZmZmZ+VNAj8L1KNy8skCkcD0K11tyQPYoXI/C6JJAw/UoXD8q0kAzMzMzM2+kQLgehetR+HRAzczMzMxgeEBSuB6F64aYQM3MzMzMDpFAzczMzMx0dkBcj8L1KKaSQK5H4XoUfopAcT0K16PYdECkcD0K15aQQGZmZmZm3KJA16NwPQqEkkCamZmZmbljQGZmZmZmuIFA7FG4HkWBs0DsUbgeBb22QArXo3B9HrFA4XoUrkccoUDNzMzMzKCSQNejcD0KY49AXI/C9aiwqkCuR+F6FMygQOF6FK7HsapAkML1KFwvZUBxPQrXo86DQAAAAAAArJdACtejcH11uUCPwvUoXFmFQNejcD0K+Y5AmpmZmZmnnUCuR+F6FNSfQMP1KFwPdadAKVyPwrXguEAzMzMzM+eGQK5H4XoURKRAZ2ZmZmaejkAVrkfhek6TQHE9CtcjAKBA16NwPYqwpkBI4XoUrjuIQArXo3D9bbJAw/UoXI9Cm0CF61G4HsGDQEjhehSuI3tAUrgehSunsEApXI/C9X2TQDQzMzMz23RAzczMzMyIcUDNzMzMDAe9QB6F61G45nZAzczMzMx1mkAK16NwPQiXQOF6FK5HJYhAzczMzMwjkEApXI/Cdfm1QDMzMzMzwJ1AZ2ZmZmZ/pkCkcD0K1+91QGdmZmZmtnZACtejcD3IgkDXo3A9CkWPQBWuR+H6U6NAzczMzIw4t0AAAAAAAABeQArXo3A9SolAzczMzMwtkkApXI/CdXSkQHsUrkfhLnRAPgrXo3C1l0BmZmZmZnWVQEjhehSuR0RAKVyPwvWwl0CamZmZmS12QHsUrkfhPnFAZ2ZmZmbKfkBcj8L1KGRrQBSuR+F6xoxA9ihcj8J/gUCamZmZmQlwQOtRuB6FlZJAj8L1KFxtoEBxPQrX88TQQMP1KFyPumlA7FG4HoX7Z0AAAAAAACBgQM3MzMzMpG5AXI/C9agEvkDrUbgehaODQJqZmZmZTpRApHA9CteoqUAUrkfhelvAQFyPwvUoFGZAmpmZmZmpekCuR+F6FHqMQMP1KFyPpLFAmpmZmRngvkCamZmZOfHBQJDC9Sjch6lAPQrXo3B1d0C4HoXr0XWiQGdmZmZmhnxAuB6F61FllECF61G4vlHMQJqZmZmZmUVAH4XrUbggn0A0MzMzMzeHQNejcD0KX3FA16NwPQr0mkCkcD0K1wudQM3MzMzMnqhASOF6FC7As0CuR+F6FOyRQIXrUbieia1AmpmZmZnBfkCamZmZmSOAQK5H4XqUJKhAmpmZmZm5bEBxPQrXo/uoQI/C9ShcaZVA4noUrkfJf0BxPQrXo8BjQJqZmZmZ7X5AAAAAAAALlUCF61G4HlShQJqZmZmZoX1AFa5H4XpwgkB7FK5H4eyFQJDC9Shcr25ApHA9CtdnjUBSuB6F63KdQM3MzMzM0HtAw/UoXM9Jw0Bcj8L1KBRpQML1KFyP6nxAPgrXo3DBnUAzMzMzM/N5QBSuR+F6zbBAXI/C9ShEfUBxPQrXozuZQM3MzMzMAI1AXI/C9Shig0BmZmZmZtZgQI/C9SjcVbFA7FG4HoWzjEBxPQrXowORQGdmZmZmC6pAHoXrUbg+W0AAAAAAgBeiQGZmZmZmplRAhetRuB6ZeUAAAAAAALBgQArXo3A9YI5AAAAAAACASUCkcD0K19uQQAAAAAAAiHdApHA9CtdzZECamZmZmbOPQKRwPQrX6YVAcT0K16M4bEApXI/C9QB5QD0K16NwgYxAj8L1KNx4oEAehetRuNZqQGZmZmZmJmRA2KNwPQpvbEAzMzMzswqtQD0K16Nw1YNAAAAAAAAAYUD2KFyPwhbCQAAAAAAAYGNArkfhehRSfUCF61G4Hl+SQAAAAAAAIFlAcT0K16PgikAzMzMzMyNTQAAAAAAAAFtAKVyPwvWzkUAfhetRuO5qQGZmZmZmSINAAAAAAABoYEBxPQrXo9OTQB+F61G4uoNAmpmZmZlrk0D2KFyPwn6TQAAAAAAAQE1A7FG4HoVDaUDNzMzMzMxhQArXo3A9qptAAAAAAAAtukDXo3A9CmydQBWuR+E6+LhAMzMzMzPzYEBmZmZmZqZwQM3MzMzM/FBAMzMzMzNzV0DD9ShcD+a/QClcj8J1ZqBAhetRuB5TpEC4HoXrUR6GQLgehetRgqBAexSuR+ERm0BI4XoULnm6QJqZmZmZ2XFA16NwPQpinUAfhetROKamQAAAAAAAYGhAAAAAAACYY0ApXI/Cdb2gQOxRuB7FDbBASOF6FC5YrUCamZmZmaakQAAAAAAAnJBA9ihcj8JIlkCF61G4Hrl6QFyPwvWovqJAzczMzOybx0DsUbgehaN+QJqZmZmZ4YJAAAAAAABFnkBxPQrXo7OTQK5H4XoUP5lACtejcL1Ko0D2KFyPwg/EQHoUrkfhpIxA4XoUrkchdECF61G4HquEQOxRuB4F18ZArkfhehS+k0C4HoXrUXOTQArXo3A9IoBAmpmZmZkTk0BmZmZmZmykQOxRuB4Fn6FAmpmZmZkZckAzMzMzM3OVQHsUrkfhmlZANDMzMzP7cEAfhetRuPaNQM3MzMzMfGBA7FG4HoVxwkB7FK5Hobm5QD4K16OwA7JAH4XrUTi3tEA9CtejcIeiQOF6FK5HgWBAzczMzMy0a0AK16NwPWWTQFK4HoXrvppAmpmZmZl1d0DNzMzMTF2jQJqZmZmZUZFACtejcL3IqUDsUbgehb+EQOxRuB6F+11AZmZmZmaKjkBI4XoUrqGDQM3MzMzM7KdAKVyPwvVoXEA9CtejcK1tQArXo3C9/7RAAAAAAAAWkUCamZmZmSC6QOxRuB4FvKFAwvUoXI+UiEAAAAAAAMBbQPYoXI9Cpa5AmpmZmRn7sUAVrkfh+lmhQEjhehSuh2lAuB6F69EQoEC4HoXrUUCGQDMzMzMzD3lAPQrXo3BooUB8FK5H4UptQLgehetR+JNAmpmZmZn8kUBmZmZmZvZqQGZmZmZmxp5AcT0K16Pyk0A9CtejcEyUQK5H4XoUTpRAFa5H4foOokBcj8L16AWxQJqZmZmZEXBAUrgeheu7kEAAAAAAALhkQAAAAAAA8GVAPQrXo3C2lkCF61G4HqGQQB+F61G4m5hAexSuR+Hlk0CuR+F6FEJ9QHE9CtejB55AMzMzMzP2s0CPwvUoXBd5QJqZmZmZ2WVAXI/C9ai4pEAVrkfhesiFQNejcD2KZq5APgrXo/C1oECamZmZmU12QB+F61G4Zm9ApHA9CldNo0DD9Shcj5WrQK5H4XoUCoVAuB6F63Fux0CkcD0KV7WpQI/C9SjcqKlAUrgehes1i0CamZmZmelaQArXo3A9eo9ACtejcD2LlEB7FK5H4R2TQK5H4XoUoIhArkfhehS2sUDrUbgehUqtQD0K16NwfWRAMzMzMzOndECkcD0K18tlQHsUrkfhwmlAmpmZmZnpcEBnZmZmZu5oQBWuR+F6eptAexSuR+EibkBSuB6Fa+umQLgehetRGMBAZmZmZmZmcEDrUbgehcN2QLgehetRYINAZmZmZmY1uEA9CtejcIV3QJDC9ShcJq5ACtejcL0Uq0Bcj8L1aGi4QEjhehSugbdAmpmZmZl5ZUAAAAAAAGiDQJDC9Shca5VApHA9CtfLgEBI4XoUrqatQI/C9Shch6NAAAAAAADQWUD2KFyP4hrNQPYoXI9C+6ZAAAAAAADUdUAK16NwPUy0QK5H4XoUT69AFK5H4fqGpEBnZmZmZqSMQArXo3A9JZVAuB6F61GAi0B7FK5H4eZ/QFyPwvUoxpxArkfhehSaokD2KFyPQheiQIXrUbge+YlA16NwPQqjiEAAAAAAAHyEQGZmZmZm5lJArkfhetS2t0DXo3A9CuOQQGdmZmYmQ7pA7FG4HoU7hUAK16NwPVukQD4K16NwJq5AAAAAAAD4r0A+CtejcOmXQJqZmZmZvYxApHA9Cte3gkAAAAAAAC6DQM3MzMzMNGRA4XoUrkfbtUCkcD0K13qkQGdmZmZm9mFAj8L1KFzLfEA0MzMzM7NRQGZmZmZmUZVAXI/C9SgUZUCkcD0K12NaQDQzMzMzsy1AzczMzMwce0DXo3A9CodcQD0K16Nw0ptAcT0K16NPm0CuR+F6FN2RQOxRuB6Fq21Aw/UoXI8EmUAUrkfheuxgQAAAAAAA4FNACtejcD19p0DD9Shcj5yWQEjhehSu04FA61G4HgUArUBxPQrXo9aDQGZmZmbm6KBA16NwPQqvbECuR+F6FDOhQHE9CtejAHhAcT0K16OofUCQwvUoXAmLQB+F61G4vmpA61G4HoWraUAAAAAAAKCEQOtRuB6F+2FArkfhehQ6jUB7FK5H4TGqQM3MzMzMOJdAmpmZmZlZOEBwPQrXo+KCQJqZmZmZbYtAFa5H4XoUU0CuR+F6FHJyQK5H4XoUvo1ACtejcD1+gEDYo3A9Cs9nQOF6FK5H+ZRAKVyPwvUslEAVrkfhesx5QHE9CtcjcadA4noUrkcJdEBcj8L1KBegQMP1KFyPcIlAexSuR+GRsUBSuB6F6yK1QAAAAAAA7HxAAAAAAAA4n0CuR+F6FPiNQGZmZmZmKnVA9ihcj8Kmn0CkcD0K16NcQGdmZmZmjnVAUrgehetcoEDXo3A9CudqQM3MzMzMDoNA61G4HoWrWkCamZmZmbl7QMP1KFyPXrNAhetRuB6mrEA9CtejcJ1bQEjhehSuB1hAw/UoXI8/mkA9CtejcI+hQIXrUbgeZ4tA9ihcj8I/gECPwvUo3MKxQB+F61E4dK1AAAAAAABAT0AVrkfhesifQOxRuB6Fi1xAKVyPwnXYqkDsUbgehdtuQOxRuB4FTa5AMzMzMzN1iUAVrkfhetOWQM3MzMzM5G5Aj8L1KNzDo0CkcD0K19txQM3MzMzM/FpA61G4HoXalUCamZmZmal+QLgehetR3oNAzczMzEw/pUAAAAAAAGhoQLgehetR6FtAj8L1KNxXqUAAAAAAANCCQM3MzMzMnZFAw/UoXI9kkUAfhetROJSqQIXrUbgetWVAmpmZmZmrkEDsUbgeZVLAQIXrUbgeHWdACtejcD02eUD2KFyPwiWUQDQzMzMzWYtACtejcD2rl0BSuB6F61FiQDMzMzMz8pZA16NwPcoLskBxPQrXo66LQArXo3A96JVAhetRuJ78vUAzMzMzMzNcQHE9Ctej0ohAXI/C9aiEoECPwvUoXESbQD0K16NwNZJAUrgeheuJbkDhehSuR1CZQM3MzMzMn6VA61G4HoWTZ0DXo3A9CouTQM3MzMzM9IVA7FG4HoVYqEAK16Nw/c6xQLgehevRULpAH4XrUbjic0DhehSuR96bQAAAAAAAYGZA16NwPQpreEBmZmZmZmZhQML1KFyPSKFA16NwPapHwUBcj8L1KPidQDMzMzMzYaZA4noUrkfAlEAfhetR+Ca1QFK4HoXrUYxAmpmZmZlCnECamZmZmauBQDMzMzMzU1RAPQrXo3BNbEAfhetRuPeYQBSuR+F6voRA4XoUrkfxXEApXI/C9QCAQIXrUbieV6BAAAAAAACUdUCPwvUoXG6UQAAAAAAAMF9AehSuR+E+fUDD9Shcj9JnQNejcD0KW4xACtejcD1Un0C4HoXrUcB3QLgehesRjbVAj8L1KHycz0D2KFyPwkWQQK5H4XqU4MdA4XoUrkcReUCkcD0KV8SrQJqZmZmZd5xAAAAAAAC2x0DD9ShcD0GwQI/C9Shcpp1AzczMzMwegkA9CtejcD1JQFyPwvUoWq5AhetRuJ4XpEAAAAAAAIyCQDMzMzMzg3RAcT0K16OgqEBmZmZmZmJzQFK4HoXrAVxAzczMzMycX0AK16NwPVp4QK5H4XoULItAUrgehes5mEBnZmZmRnrDQOxRuB6Fu6RAAAAAAABIekA9Ctej8D+mQHsUrkfhZ5lAzczMzMxMVkAfhetRuP57QIXrUbgeGXpAzczMzMxkcUDsUbgehcNvQBWuR+E6jLlA4XoUrkf9dkA0MzMzMxNoQArXo3A9rc5A4XoUrkdrrEApXI/C9ZSCQLgehetRaGFAmpmZmZmRYUBmZmZmZi5uQOtRuB6FAZZAmpmZmZn4rEApXI/C9ThzQHsUrkfh1oZAZmZmZmYieEB7FK5H4fp7QDQzMzMzA2lAzczMzMw0c0B7FK5H4R58QJqZmZmZWVNAPQrXo3C9VkBnZmZmZgZbQOF6FK5HEZJAFK5H4Xq0aEDXo3A9CoCjQK5H4XoU+nJAzczMzMzMGEAzMzMzM4+DQJqZmZmZh55AZ2ZmZmZuYEAfhetR2EPFQClcj8L1xHJAFK5H4XqihkBmZmZmZiJ1QLgehevRU75AFK5H4XokaEBSuB6F63uXQGZmZmZmbIpAuB6F61EUdkDD9Shcj0KRQHsUrkfh9nJAuB6F61E6gECkcD0KV2qlQK5H4XoUdoVA16NwPQrSo0AAAAAAAFBlQJqZmZmZOWdAFK5H4XoLkUAfhetRuA5kQAAAAAAAVIhAmpmZmZn9cEAfhetRuO+uQHE9CtejSZJAw/UoXI9ifUDXo3A9CuuTQM3MzMzMGZRAZ2ZmZma2Y0B7FK5H4RZ0QLkehevRba9ArkfhehQKs0AzMzMzMxN4QBWuR+G6N8NAj8L1KFxzmkBcj8L1KKRoQHsUrkfh/5lA16NwPQordEAzMzMzM7NXQLgehetRPKFAAAAAAACQckDMzMzMzJxZQHE9CtejCKtAkML1KFwtiEAK16NwPZqMQI/C9Shcq3ZAAAAAAAD7u0B7FK5HYRGmQJmZmZmZeWpAAAAAAMAJukAAAAAAAMBiQGZmZmZmVntAzczMzMwTlUApXI/C9WhzQJqZmZm5yc5A16NwPQoInEDiehSuR+uJQBWuR+H69bdAFK5H4XqDlUCPwvUoXNawQM3MzMxMeLlA61G4HoV9lEAzMzMzs1SsQAAAAAAAmGZAw/UoXI+mmkAK16NwPUplQFK4HoXrkpVAmZmZmZlJikBcj8L1KKxwQNejcD0KN2BAhetRuB4Qp0D2KFyPAliwQBSuR+F6yqVAzczMzMy7nEB7FK5H4auTQM3MzMzMhIlA16NwPQqxikDsUbgehQtdQM3MzMzMXKZAMzMzMzMLcEAAAAAAAFB7QOF6FK5H+a9AUrgeheshZ0DsUbgehRGGQM3MzMzM7G9AzczMzExYrEAfhetRuMyHQGZmZmZmJl5ASOF6FK4DmEDNzMzMzMx2QAAAAAAAGJ1AMzMzMzMTd0DNzMzMzPxgQAAAAAAAiolAUrgehetKkUA0MzMzM0tpQD4K16NwRpxACtejcD1Tl0CkcD0K11igQK5H4XoUiahA61G4HgVXq0DsUbgehaOVQNajcD0K1ytAzczMzEzjoUCQwvUoXPOPQPYoXI9C9aVAw/UoXI+imUDD9Shcj82eQFyPwvUoHFFA16NwPcoVuEBmZmZmZt53QB+F61G48pVAmpmZmZkle0C4HoXrUeacQPYoXI9C0q9AAAAAAABNnEBmZmZm5sWnQAAAAAAAj5FAw/UoXM9Dt0CamZmZmXV2QEjhehSuHJlA4XoUrkeQlEBSuB6F612KQM3MzMzMaIdArkfhehQYjUBmZmZmZnZ2QDMzMzMzQ3NAhutRuB79a0DsUbgehSWKQHsUrkehfrRAH4XrUbimk0BxPQrXoxaQQAAAAAAAqJtAAAAAAABfq0Bcj8L1qEOmQEjhehQOIshA7FG4HoVXmUCPwvUo3CSiQFK4HoXrm4BAMzMzMzPDZkAUrkfhelSHQEjhehSu51pAKVyPwlUcw0DNzMzMzGxmQJqZmZmZOVlAXI/C9ShnkECuR+F6FAORQAAAAAAAGIBAMzMzMzMzd0DXo3A9CntzQMP1KFzfLNFAXI/C9Siuj0DXo3A9Cnd/QHE9CtejeGRAAAAAAAC0lEBxPQrXo9R0QOtRuB6F741Aj8L1KFy7hUBxPQrXo6hrQJqZmZmJBtBAw/UoXI/udkApXI/C9bioQB+F61G4xmlAAAAAAAC4gkCQwvUoXG+RQD4K16Nw+p5ApHA9CtePf0CkcD0K11GMQJqZmZlZN7NA4XoUrkdykUAK16NwPSJiQM3MzMzMiZRAKVyPwvWYXEAK16NwPYZ9QHsUrkfhPohArUfhehTuP0B7FK5HYW6oQI/C9Shcd3tA9ihcj8LVYkAfhetRuE53QClcj8L1uG1AZ2ZmZmbmZkBxPQrXo92TQAAAAAAAjHJAMzMzMzO3gUBmZmZmZseaQDMzMzMzJaBAZmZmZmZmdUAfhetRuBZzQB+F61G4qnNAAAAAAABQakBxPQrXoxBCQEjhehSuAY5AkML1KFwnbUBwPQrXo6R7QMzMzMzMRIhAcT0K16MIiECQwvUoXC9gQLgehetRqH5A61G4HoXbbEDhehSuR9GyQGZmZmZmj5BA4XoUrkd5k0DsUbge5YPLQIXrUbgeyYlAhetRuB6dY0AAAAAAAIB2QIXrUbget5NA16NwPQpPc0CamZmZmQl6QI/C9ShctYpAMzMzMzOlmUAfhetRuEJwQNejcD0KeqJAZmZmZmayg0CF61G4HmVfQEjhehSu+4JAAAAAAACgcEA9CtejcG1pQPYoXI/Cs6VAj8L1KFyIkkCkcD0KV8XHQOxRuB4F169AH4XrUbioj0A9CtejcJaQQDMzMzMz96hApHA9CtcWkkCamZmZmdF2QHE9Ctej755Aj8L1KFydqEAzMzMzU+rKQClcj8J1H6RAMzMzM7M8wECQwvUoXJdvQM3MzMzMGH1Aj8L1KFzDeEA9CtejcHeUQPYoXI/C9R1AuB6F61FgckAzMzMzM7dzQJmZmZmZc6ZA16NwPaqZz0DhehSuR/2GQNejcD1Kgr5AUrgehet5dUAzMzMzM7t9QHwUrkfhSl5A16NwPcphsEC4HoXrUb6uQClcj8L1+GpAuB6F61HOhUCamZmZmeFyQMP1KFyPgIFAAAAAAADgXkBSuB6F62+pQMP1KFwPpKpApHA9Cld7q0A9CtejcPFyQArXo3A9M6RAzMzMzMwsd0BxPQrXo5mTQB+F61G4/alAH4XrUbjsi0D2KFyPwimuQAAAAAAAT5JAhetRuB5WkUAAAAAAAFqKQArXo3A9WJZAcD0K16NwZ0CkcD0KV6qlQLgehetReZhACtejcD0oiEApXI/C9Z6WQFyPwvUo+KJAZ2ZmZoZP0UDNzMzMTEutQAAAAAAAEoFAFa5H4Xp7nkBnZmZmZlZXQM3MzMzMDFZAmpmZmZkpjkBxPQrXo7h1QClcj8L1UGtA16NwPQovc0DhehSuRyCSQEjhehSu6aJAhetRuB7Vd0A+CtejcFqQQEjhehSuQ4hAzczMzGzNy0AAAAAAAMBUQOF6FK5Hi6hAFa5H4Xpsa0DNzMzMzGKMQEjhehSup3lAZmZmZmadpkD2KFyPwheXQPYoXI/Cx4BAexSuR+H6hUD2KFyPwg2QQLgehevRLahArkfhehQ6lkDNzMzMzGKNQAAAAAAAHZJAzczMzMy4jkBnZmZmZoeXQArXo3C9VaVAzczMzMwsakBcj8L1qDKsQArXo3A9kKpAzczMzMyegEAAAAAAACOVQD4K16Pwa6NAmpmZmZmZbkBmZmZmZqZwQIXrUbgebXZA7FG4HoWbfEDsUbgexX+xQFK4HoUrMLJAhetRuB4tfEDNzMzMvJPQQKRwPQrXF3xAAAAAAAA8hkAfhetRuN6bQEjhehQuzLpA9ihcj8KhdEBSuB6F6xFUQD4K16Nwj45AmpmZmZk7nEBcj8L1KPGYQHsUrkfhGnNAzczMzMwalEAzMzMzM7uJQLgehetRaH9AH4XrUbheZkB7FK5HYVepQHsUrkfhsZVApHA9Ctd3pEDXo3A9Cp2BQOF6FK4nwMdAUrgeheuqkkBxPQrXo7yUQAAAAAAAfINAcT0K16PUckA+CtejcEqYQNejcD2KlMFAUrgehWsooECuR+F61I+0QAAAAAAAlHRAcT0K16OxlUDrUbgehf93QFK4HoXrC45AH4XrUTi8pEBcj8L1KPCCQFyPwvUoaoJAexSuR+H6XUBmZmZmZo5zQOxRuB6FB3NApHA9CtcpoEAAAAAAAHyOQIXrUbge5WRASOF6FK7umUCkcD0K16NaQPYoXI/CyYFAmpmZmZlJVEAAAAAAACaUQDMzMzMzYJlAZmZmZmZal0CPwvUoXBd+QBSuR+F6BGxA7FG4HoUPjkA9CtejcKeNQAAAAAAAQERAUrgeheslvUA+CtejcEOMQFK4HoXrdZJAAAAAAIAyp0A9CtejcP+DQJqZmZmZj4VAUrgehetpc0DNzMzMzOyVQEjhehQumrJAexSuR+Fmc0AfhetRGB3RQOtRuB6FE4pAZmZmZmZggkDD9Shcj/WeQIXrUbgeNX9AUrgehQs/yEAAAAAAACquQAAAAAAAxHNA16NwPQpWnUDNzMzMzNqBQGZmZmZmQahAzczMzMyagEA0MzMzMz6cQArXo3B9cbdASOF6FC4wsUDhehSuR8lzQFK4HoXraYRAzMzMzMxEekCQwvUoXF+FQFyPwvUoVI5AkML1KFxfZkD2KFyPwmCSQFK4HoXr9ZNAKVyPwvUIakCamZmZmYV0QPYoXI/C9ZlAj8L1KNzsokA9CtejcGF+QKRwPQrXo3pAXI/C9UhtxkCamZmZmWuFQKRwPQrXy5tAZ2ZmZuZCo0C4HoXr0VGqQM3MzMzMJ5ZAexSuR+E6i0BnZmZmZpZ5QIXrUbgeTWNAFa5H4fpwo0DrUbgeRcy1QAAAAAAAEGRAmpmZmZnZekC4HoXrUUhvQBSuR+F6IINANDMzMzOzTUCamZmZmWlmQFK4HoVrtqZAzczMzMwQdEDhehSuRxGWQClcj8L1v5BAH4XrUbhkiEAUrkfh+muxQLgehetR1KdAcT0K16PgckAL16NwPfqMQHE9CtejgIxAcT0K1yPxsUAzMzMzM2OIQBSuR+F6gI5AH4XrUbiXnUAAAAAAABnCQAAAAAAAAE5AuB6F69FuoEBI4XoULg6gQGZmZmZmAZFApHA9CtcirUDNzMzMzExlQDMzMzMzb4VAexSuR+HagkDrUbgehXmSQArXo3Ad8sFAAAAAAACQl0CF61G4Hi16QLgehetRkGNAMzMzMzODikDhehSuRwKqQEjhehSuoYpAPQrXo3DVmkA0MzMzMw+OQD4K16NwJZNASOF6FG6mwEAAAAAAAFqyQClcj8L1SqBAH4XrUbiebEDD9Shcj2SGQIXrUbgeOYNACtejcD1MhEBwPQrXo4h8QML1KFyPAn9AXI/C9SiymEDrUbgehWN5QFyPwvXIr8BAPQrXo3DJdUDD9Shcj4piQAAAAAAAwDhAexSuR+G6V0CamZmZmRFuQArXo3A9wIpAKVyPwnUnrkCPwvUoXOSYQHE9CtcjgMRA4XoUrkcLy0CuR+F6FJ5mQAAAAAAA8G5AMzMzMzMrbUBH4XoUridrQHE9CtdDFcRA7FG4HoUPhEDD9Shcr3nCQNejcD2KN79A16NwPQoHf0A+CtejcLO9QAAAAAAAQHNAH4XrUbggk0DNzMzMzC6MQGZmZmZmZldAKVyPwnU5q0CamZmZmalpQOxRuB6FZ3NAFa5H4XoIiEDD9Shcj4qZQHsUrkdh5KZAAAAAAAAASkApXI/C9VKJQAAAAAAA1IFAAAAAAACgZEAAAAAAADhgQFK4HoXriXNAAAAAAACQaUCuR+F6FLJwQBWuR+G6NbpAPQrXo3C7lUCamZmZmSl7QNijcD0Kh2FA16NwPQrEmECuR+F6FJKaQAAAAAAAGGpAj8L1KFzPWkBcj8L1qFCnQEjhehSuV4ZA4XoUrkf/h0AK16NwvZm5QArXo3A9EpBAH4XrUbj6dUDXo3A9Cr9lQAAAAAAAEG5AuB6F61FQd0B7FK5H4bZxQI/C9Shcj5xAAAAAAABgWkA+CtejcMWiQD0K16NwYXlAAAAAAADIdkDsUbgehZ+BQHE9CtejAHdAKVyPwvWggkCamZmZmemUQOF6FK5HwWNAKVyPwvWcfUAAAAAAALqEQK5H4XqUNK1AzczMzMy8XEBmZmZm5s+oQGZmZmZmxnFAzczMzMxQcUDsUbgehQGrQNejcD0aotBAMzMzMzOrZkB7FK5H4b56QMP1KFyPiIVA16NwPQrXgkB7FK5H4WCPQOxRuB6FiYxAexSuR6G8sUBcj8L1KKqiQHsUrkchtLNAUrgeheuVhkD2KFyPQmu4QOxRuB4FNq1ANDMzMzOzTUBI4XoULk63QOF6FK7HuqpAhetRuB41c0B6FK5H4XpOQD4K16NwRZNAAAAAAADvkkAAAAAAANBuQKRwPQrXDbNAhutRuB4uq0DiehSuR4qdQGdmZmbG0spAXI/C9Sivn0BxPQrXo3CNQArXo3A9onhAZmZmZmZKfUDhehSuR5FhQJqZmZmZW6VAcT0K16MCk0BSuB6F6x1yQArXo3A9v6ZAH4XrUbjai0DNzMzMzKa0QM3MzMzM3FpA16NwPQrjiEAAAAAAAIBXQOxRuB6FeJRAXI/C9Sh+iUAzMzMzM1mUQGdmZmZmHmtAXI/C9SianEBcj8L1KFxlQClcj8L1EHBAH4XrUbiehEApXI/C9X6OQPYoXI/CgZBAexSuR+GycEAAAAAAAGhgQB+F61G4TbJA7FG4HoU7lUApXI/C9dBnQB+F61G4jrpANDMzMzM3iEAVrkfheuaBQLgehevR3LFAzczMzMzEfkCF61G4HkV8QOxRuB6F+2BAAAAAAAA4h0BI4XoUrrqtQHsUrkfhT5lACtejcD2ucEAK16NwPa6CQOF6FK5HIJ5A4XoUrkdnpEDD9ShcjyyXQAAAAAAA1odAmpmZmZnVeEAAAAAAANaNQEjhehSuJ2NAXI/C9SgMdEBmZmZmZqqAQIXrUbge+aNA4XoUrkepYkC4HoXrUYKRQDMzMzMzl3hAwvUoXI+SY0AzMzMzM9STQHsUrkfh+ndApHA9CteYk0AAAAAAAJCCQMP1KFzPGLRA16NwPQoplkAAAAAAAMhxQDMzMzMzb3lArkfhehTOfkAUrkfheqaIQFyPwvUodI5APQrXo3DdekAfhetRuCZtQD4K16NwHJxAFK5H4XqxlUDXo3A9CjtzQAAAAAAAIENA16NwPYqOoEAK16NwPaJtQNajcD0KJ3dAwvUoXI9aaUC4HoXrURhrQDMzMzMz23pAZmZmZmYIh0ApXI/C9YhfQGZmZmZmY5BAMzMzM1OwyEDXo3A9Cl2YQNejcD0KZ4BAUrgehetZlkAAAAAAAFKLQPUoXI/CtU9ACtejcD2SlEApXI/C9Th3QAAAAAAA+J9AMzMzMzNjZED1KFyPwmF8QClcj8L1Q6FAZmZmZmYGd0BSuB6F6y6fQM3MzMzMbGJAAAAAAACHuECPwvUoXCWfQOF6FK5HgMxAzczMzMymikAAAAAAADCyQPYoXI+Ci7ZAAAAAAACAWUAK16NwPepsQB+F61G4/npAH4XrUTjnokAzMzMzMzNrQEjhehQuOKhAR+F6FK6bhEAVrkfh+tqwQJqZmZmZha1AAAAAAADQbkAVrkfhekRiQLgehesxz8BAMzMzMzMzZEAK16NwPa6RQAAAAAAAKHlAj8L1KLxUy0BmZmZmZrJwQJqZmZmZfXpAUrgehes1rECF61G4HuCfQPYoXI/CxX5AXI/C9ShCj0C4HoXrUdBkQAAAAAAAQG9ApHA9CtdpjEDhehSuR7l0QM3MzMyMxrlAUrgehet5ZUDXo3A9CjdPQBSuR+F6sHBAPQrXozBosED2KFyPwol1QAAAAAAAeHVAPQrXo7DCu0A9CtejcO14QMP1KFz/89BAMzMzMzN7gkDNzMzMzD6UQK5H4XoUjmJAcT0K16PHtUDD9Shcj6psQDMzMzPz97NAexSuR+FWnED2KFyPwiufQM3MzMzMd61Aw/UoXI88iUAAAAAAAEhkQBWuR+F665BAPQrXo3AxcEB7FK5H4bpbQMzMzMzMPKpASOF6FK7TgEB7FK5H4cp8QLkehetRSFVAmpmZmZmzjEB7FK5H4VpuQFyPwvXo1L9AzczMzMzAekBnZmZmZtyQQLgehesRycNAexSuR+HCY0BSuB6Fa1GiQJqZmZmZVaFAuB6F61G4mkBxPQrXo5BvQEjhehSuU3tAZmZmZmYma0AUrkfh+qLHQLgehetRfHFAZ2ZmZmaafUBcj8L1KMRqQDMzMzMz25BAcT0K16MwY0DC9ShcjzmeQNijcD0KC4VAAAAAAABmpkCQwvUoXK9RQIXrUbgepWVApHA9Ctd7bEC4HoXrUUBnQLgehetRsodAMzMzM7MErEDsUbgehS/CQPYoXI9Cp69ApHA9ClfJr0AfhetRuNySQM3MzMzMupdAmpmZmZkZPkCQwvUoXGWNQEjhehSu33hAZmZmZmbGX0AAAAAAAFqUQPYoXI/ClJVApHA9CpdyvkDiehSuR1eFQNejcD0K91pAAAAAAAD2k0DNzMzMzHR8QGZmZmZmzJFAuR6F61HIl0DNzMzMzByCQBSuR+F62HxAZmZmZmZil0DNzMzMzDxrQOF6FK5HSXhAmpmZmZn5aEC4HoXrUYabQJqZmZmZWXZArkfhehR0qEApXI/C9ZqBQFyPwvUoIIFACtejcD2Ik0CkcD0K14GSQM3MzMwMLs1AhetRuJ4ZqUAfhetRuB5WQBSuR+F6DGtAMzMzMzMHnkAK16Nw/Qi0QOF6FK5HhJpAUrgeheulm0BI4XoUrqdyQD4K16NwHVxAkML1KNwcp0DNzMzMzGRoQOtRuB6FO3lAH4XrUbiWqED2KFyPwjlyQGdmZmZm5IlAzczMzMxGiEBnZmZmZgZ1QD0K16NwWZ5AhetRuB40lEBcj8L1qIq+QJqZmZkZCqNA16NwPQphgkDNzMzMzCqpQK5H4XoUrpBAMzMzMzO3gUD2KFyPQhS2QM3MzMzMgaFAmpmZmZkll0CPwvUoXKWCQIXrUbieqqlAKVyPwnUAsUAzMzMzM1WBQGZmZmZmFllAuB6F61GSlkAfhetRuOyIQGZmZmZmsqFAuB6F61GkkEAAAAAAwM20QFO4HoXrcVpAAAAAAADAhEBmZmZmZlqJQOF6FK5HQZBAexSuR+F0jkAAAAAAACBlQM3MzMzMioRAMzMzM7P0oEDXo3A9Ck+BQArXo3A9rJNA9ihcj8IJlkDrUbgehWuLQArXo3A91IxAj8L1KFyFgUAAAAAAAGSHQAAAAAAAAD5ACtejcD3LokBSuB6F66OAQGZmZmbm76VAzczMzMz/kkBI4XoUrrtxQBSuR+F6RGFAhetRuB6Yk0AK16NwPV6vQFK4HoXru4NAhetRuB7VckAVrkfhehRTQB+F61G4YoVAMzMzMzNTdED2KFyPQsKkQGdmZmZmpkZA16NwPcoOuUAVrkfhOiS7QLgehetR8IBA7FG4HoXXqkDsUbgehRiUQMP1KFyPl51A9ihcj8JFiECuR+F6lJuxQGZmZmZmW6dApHA9Ctfjc0C4HoXrUWSAQGZmZmZmvmVAPgrXo3D9S0AAAAAAAIBWQDMzMzMzYqdACtejcD3SZ0AK16NwPUiAQLgehetR+G1AZmZmZmbagUDhehSuR+FnQAAAAAAAwEJA4XoUrqcPxUBcj8L1KKyRQHE9Ctcjha5AAAAAAADYbkCamZmZmRlHQGZmZmZmWnNAPQrXo3DFhUDD9ShcjxiYQBWuR+F6NFtAAAAAAABwakBSuB6F69OtQDMzMzMz42FACtejcD2SkEBxPQrXo4yNQB+F61G4GrFAmpmZmZl9dED2KFyPwueLQAAAAAAARHpAuR6F69Egq0C4HoXrUZaPQBWuR+F6hohAXI/C9SiQhEC4HoXr0dCnQAAAAAAA+IJAcT0K16NcckBSuB6Fy+PDQHE9CtejKIdA4XoUrkexf0CamZmZGYq0QDMzMzMznY1AmpmZmZltc0AAAAAAAPR5QMP1KFyPHnRASOF6FO5nwkDNzMzMzASBQJqZmZmZEWhAuB6F61H6mkAzMzMzM1NfQOF6FK5HSJpAmpmZmZlJZECamZmZma6hQHsUrkfhenRAexSuR+FenEAVrkfhetSSQFyPwvWIB8pAUrgehesRfEBcj8L1KFxjQKRwPQrXE2pApHA9CtebY0BI4XoUroOIQGZmZmZmZkFAj8L1KFwakUBcj8L1KJxoQB+F61E4BaRAr0fhehQ2g0A+CtejMI26QPYoXI/CkZVA16NwPYpvsEDNzMzMzMxTQB+F61E4u6dAhetRuB5pt0BI4XoUrqeAQB+F61G4+KZAAAAAAACoaUA+CtejcPeJQFK4HoUrLstAmpmZmZnhYUAAAAAAAD6CQEjhehSu+5BArkfhepSGsUCuR+F6FCp3QBSuR+F6+IlAhetRuD5jzkAzMzMzMxd0QLgehetRdI9ArkfhehSOcUAVrkfhemyHQClcj8L1gJRAAAAAAADQYkCkcD0K1zNuQD0K16NwiptAMzMzMzM/c0CG61G4HgVfQBWuR+F6tH1Aj8L1KFyXdUAzMzMzM1yvQJqZmZmZyW5AcD0K16OCikBI4XoU7lG3QFyPwvVoocBAZmZmZmagjUDC9Shcj7prQNejcD0KqJ5AMzMzMzOba0BI4XoUrjCsQB+F61G4Lo1AcT0K1yO/okAAAAAAAEiIQBWuR+F6755ArkfhetQ3tEBcj8L1KAqmQOF6FK5HrpdAXI/C9ShBlkC4HoXrUWqTQM3MzMzMn5BAH4XrUbg2fEBxPQrXoyaeQD0K16PwPLBAcT0K18Pdw0BxPQrXo4SIQK5H4XoUZpxAuB6F66Hk0UD2KFyPwumTQK5H4XoUbqdA16NwPQplrkAfhetReFG0QHA9CtejX5RAexSuR+GUpEAzMzMzM2mgQMzMzMzMBGJAzczMzMx+pUAAAAAAAEh1QK5H4XqUva5Aj8L1KFzfaUBI4XoUrteBQArXo3A9wJxApHA9Clc2rkDsUbgehdeLQOxRuB6Fp4BA9ihcj8LVo0AK16NwvYmtQOF6FK5HU5FAhetRuB7hg0AAAAAAAACCQK5H4XoUDolAuB6F61EmikCamZmZmRlUQOF6FK5HUa1AH4XrUbjQjUCkcD0K1ythQK5H4XoUSIhAKVyPwvVhkEApXI/C9Th2QLgehevRbKVAZmZmZmYmgUDOzMzMzLxdQEfhehSuV2BAFa5H4XoqsUBxPQrXo8BaQMP1KFyPtIlArkfhehR+YUB7FK5H4XuQQB+F61G4bltAXI/C9SgUcEAzMzMzM7NbQMP1KFzPz7VAexSuR+FykECkcD0K19OBQHE9Ctcj2a5Aj8L1KFxne0BSuB6F64+jQKRwPQoXELFArkfhehTUpkAAAAAAADR2QOxRuB6F66BApHA9CteRoUApXI/C9dBsQClcj8I1oMFAUrgeheuhV0Bcj8L1KJxzQHsUrkfh9IpAzMzMzMyMQEA9CtejcN2IQB6F61G4nnNAexSuR2EKxkCuR+F6FO5bQML1KFyPpJZAFK5H4XrUfkC4HoXrUax0QJqZmZmZCZJAFa5H4Xp0hUAL16NwPVZ/QFK4HoXrX5dASOF6FK7HeEABAAAAAEhrQOF6FK5HQ55AFa5H4XpzkECamZmZmQyQQMP1KFyP0npAXI/C9SgjnEAzMzMzM72AQFyPwvUoZIBAZmZmZmYGYEAVrkfhehRzQHE9CtejRHpAPQrXo3BlZkCamZmZmcFrQI/C9Sic2rVAAAAAAAAgXEAzMzMzMyOMQPYoXI/C+YVAuB6F61EgYkBSuB6F63XBQPYoXI/ClWRAXI/C9SisXECuR+F6lNmjQJqZmZmZO45Aw/UoXI/kh0CuR+F6FP5nQDMzMzOz7aRAj8L1KFyZmkDNzMzMzMqQQDQzMzMzMxlASOF6FK6/aUCPwvUoXNN6QKRwPQpXxqpA16NwPQqFgUDXo3A9CjeCQHsUrkfhdIxAuB6F61HMgUCuR+F6FKKIQAAAAAAAGIdA7FG4HoUrbUAUrkfherRZQM3MzMzM5GlArkfhehTOYEApXI/C9dheQBSuR+F6WHJAAAAAAACQgkCuR+F6FKp6QM3MzMzM/G1ACtejcL1/o0CkcD0K102RQLgehetRHaFA9ihcj8INekBxPQrXo6xxQDMzMzMzK2JAFK5H4Xr2hkC4HoXrsarBQGZmZmZm5kFAAAAAAABQeUDXo3A9Chd1QHA9Ctej9HBAFK5H4XrooEBcj8L1KNqJQI/C9ShcAKJAKVyPwvWwmkCQwvUoXJSXQOxRuB6Fy3ZAKVyPwrUMvECPwvUoXKmPQMP1KFyPNIlAwvUoXA+QrEAAAAAAANhnQEjhehQu6cBAzczMzMxMg0AzMzMzM9GMQKRwPQrXz35AUrgehesbgkAzMzMzM695QHA9CtejNHxA4XoUrkd9ckBcj8L1KGx9QJDC9ShcD3FAFa5H4Xp1p0AVrkfheqh6QDMzMzOzt6dAzczMzMwgekAzMzMzM5yRQMP1KFyPyo9AexSuR+EJt0CuR+F6FEmcQOxRuB6F445AzczMzEzkqkBcj8L1KDB3QPYoXI/CNptAUrgehet6kECkcD0K13GpQOxRuB6Fk3RASOF6FK7BuUD2KFyP4kDCQFyPwvUoSHRAcD0K16PtrkBcj8L1yBnBQMP1KFyPGKVAH4XrUbgmdkDsUbgehUiaQB+F61G4EIhA9ihcj8IBdkAzMzMzMyafQJqZmZmZ0WJAzczMzMyMi0AfhetROLqlQB+F61G4yJJA7FG4HoXBhUCamZmZmUeaQIXrUbh+LcBAZmZmZmZmNECamZmZ2TTIQIXrUbgeO4JA7FG4HoULZUBI4XoULte1QBWuR+H6faBAPQrXo3AIo0AfhetRuLJ1QOF6FK5HBqhAexSuRyEItUBI4XoUrgWPQArXo3A98JpA9ihcj4LZtkCuR+F6lFunQHsUrkfhnpFAhetRuB4LhkDhehSuR7SjQLgehetRKZhA16NwPQrRhUAAAAAAoPrQQK5H4XoUmIpAAAAAAACigEAK16NwPWCDQDMzMzMzXYZAMzMzMzNDfkDC9Shcj3p7QHsUrkfhgm1AH4XrUbgAoEDNzMzMzIxUQKRwPQrXs3RA7FG4HoUngUDNzMzMzMmeQHE9CtcjIMVA9ihcj8IFjUCPwvUoXDdrQEjhehSu+aNAj8L1KFyVl0AVrkfhenx9QGZmZmZmhnxAzczMzMzhokDNzMzMzLyoQArXo3A9sqFAkML1KFwCnUA+CtejcE11QJDC9Sjc1apAKVyPwvV4bUBSuB6F68yQQB+F61G4n51AMzMzMzPLckCuR+F6FI5nQClcj8L1oHZASOF6FK5lrED2KFyPwn+gQJqZmZmZ2WBAzczMzMzGhEAzMzMzsx2uQJqZmZmZWU9APgrXo3AeqUCamZmZme+AQJqZmZmZaVZAZmZmZuZepkCF61G4HvV0QAAAAAAAwFtACtejcD2dokAUrkfheseXQK5H4XqUhqpA7FG4HoW7XkAzMzMzM5t8QDMzMzMzoYpAMzMzMzPTkEBxPQrXY+GwQJmZmZmZmV5AMzMzMzNTbkA+CtejcAeHQClcj8J1daFAzczMzMz4oUCkcD0K1692QAAAAAAAIJVAFa5H4XrUgkBI4XoULmyxQAAAAAAAsFpApHA9CtdeokB7FK5H4UJ7QMP1KFwPT6JAFa5H4fphpkBI4XoUri+bQB+F61G4dZZA16NwPQr3cECF61G4Hr1pQClcj8L1sHNA9ihcj8LPmEAAAAAAAAAxQIXrUbge36xAzczMzMzwe0B7FK5H4cOYQJmZmZmZIWdAZmZmZmZUsUDNzMzMzJSYQIXrUbgeNYJAuB6F61E6qUDD9Shcj8icQClcj8K1L7hAH4XrUTi1pUB7FK5HYaSiQLgehetRGFtAuR6F61EIqUA+CtejcGOhQKRwPQrXW41ArkfhehRtnECkcD0K15OBQEfhehSud2hAXI/C9SgsZEABAAAAAPhgQOF6FK5HHqRACtejcD0mg0AzMzMzM3OEQMP1KFzP2rBACtejcD3jmkDsUbgeBdanQI/C9ShcFJdAH4XrUbhKj0AUrkfhejxzQClcj8L1sZtAmpmZmZnYsUDNzMzMzGTMQBSuR+F6ColAmpmZmRmyrUAzMzMzM9CVQKRwPQrX245AKVyPwrVyw0CZmZmZmcGEQEjhehSuwqBAmpmZmZmbiUBmZmZmZpaNQGZmZmZmdnlAzczMzMxyjECamZmZmVyRQGdmZmZmVphA7FG4HoXfjUAfhetRuLqAQK5H4XrULrNAZmZmZmbmZUA+CtejcJW6QHE9CtejXItAUrgehWuLokBSuB6F6yl4QOxRuB6FY3pAcT0K1+MZsUBcj8L1KJScQArXo3B9DbRAMzMzMzPniEBI4XoULkq4QOxRuB6FhYRAw/UoXI+ig0C4HoXrUcuSQPYoXI/CBZBAj8L1KFz/yEAzMzMzM7NCQFyPwvUoQ6ZApHA9CteziUCamZmZmflTQOF6FK5HPXtAFa5H4XqolUCPwvUovLXEQHsUrkfhe5xAAAAAAADGukDNzMzMzExSQDMzMzMzcp1A4XoUrkftlUAAAAAAgI2hQPYoXI/CsZxAexSuR2EJoECF61G4no6hQM3MzMzMJINAw/UoXI/6akDD9Shc77zPQHE9CtejGHNAMzMzM9N5w0AK16NwPdeQQFyPwvUoG5JA9ihcj8IlhEBI4XoUjpnBQD4K16Nw/7pAcT0K16P+kECPwvUoXO9qQJqZmZkZR6VA9ihcjwKkzkDNzMzMzPR1QD0K16Nws4NAmZmZmZlJc0AAAAAAADR0QDMzMzMzU1dApHA9CteCn0Bcj8L1KBiQQAAAAAAAdo1AMzMzMzMAtkAK16NwPYCgQBWuR+H6i6NAXI/C9ShqkUBSuB6F64GNQM3MzMzMlZxAcT0K16MzpECuR+F6FKZ4QGZmZmbmqqpA4XoUrscysECPwvUoXAqRQKRwPQrXNpRAAAAAAADgY0AAAAAAANmfQDMzMzMzS25APgrXo3CXjEAAAAAAAARzQB+F61H4V7FAZmZmZmZmREDrUbgeBUShQBWuR+F6EZNAZ2ZmZmY5kUBcj8L1KEKZQLkehevRZqZAkML1KFwBhUB7FK5H4QyQQBWuR+F61otAUrgehetSpkAK16NwPfCAQHsUrkfh2JBAPQrXo/AxpUCkcD0K17aeQHsUrkfh0nRApHA9Ctfun0AzMzMzMwN7QM3MzMzMFGFAFK5H4XrUT0DNzMzMzFCXQJqZmZmZDa1A9ihcj0LTsEAzMzMz8wy9QJqZmZmZkXlA9ihcj8ImpEDXo3A9CsWVQAAAAAAA2olApHA9CtejXECuR+F6FB5jQOF6FK5HIJxA16NwPQq7iEBSuB6F6wlgQD4K16NwcXJAZmZmZiZ/vECF61G4HsmOQM3MzMyM9bJAH4XrUbh/mECamZmZmXlHQPYoXI9CU8dA16NwPQqfdkDNzMzMzC2QQM3MzMzMjZBAMzMzMzOZh0Bcj8L1KPB1QArXo3A9LIpA7FG4HsUCu0DNzMzMzHebQIXrUbgeVWdAMzMzMzPdhEDD9Shcj2yGQClcj8L11JFA16NwPQrSqkBnZmZmZm54QHA9CtejAHVAMzMzMzNfhkC4HoXr0aqgQOJ6FK7HiqRArkfhehSWZ0CPwvUoXHeRQK5H4XoUSbZAmpmZmZnBbUDXo3A9CsCqQLgehetRBpNAuB6F69EzsUCuR+F6FBeQQM3MzMzMHGZAMzMzMzOPdEAL16NwPX6OQDMzMzMzO2BAUrgehesJYUCamZmZmSqgQNejcD0Kl5NAmpmZmVnFsUA0MzMzM4NfQDMzMzMzwpRASOF6FK6GlEBmZmZmZt5yQM3MzMzM9pBAzczMzMw0aEDsUbgehbSVQIXrUbge1VpA16NwPQonbUDsUbgeRfi+QMP1KFyP2ndA61G4HoWTdkDhehSuR6OSQEjhehSuq5JAAAAAAAAAtEDD9ShcjxSGQOF6FK5HwXxArkfhehRCg0DNzMzMzGRlQGdmZmZmInFAmpmZmZlNl0CPwvUoXCt5QFyPwvXocLZA7FG4HgUhoUBmZmZmZoJ0QGdmZmZmRnlACtejcP38tUBnZmZmZuSCQAAAAAAAbHRAw/UoXI8adkB7FK5H4cp6QAAAAAAAG6xACtejcP3askBSuB6Fq/DEQOF6FK5HbXNA4XoUrkeNmkBxPQrXo9KDQM3MzMzM1p9AcT0K16Npn0BI4XoUrldxQDMzMzMzhKVAexSuR2F7q0CamZmZmeFiQJmZmZmZ2WpAzczMzMx8W0BxPQrXo8iXQK5H4XqU9K1Aw/UoXI8mdEDC9Shcj3iFQI/C9ShcU4pAKVyPwvW6kkC4HoXrURBsQLgehevRaqtAexSuR+EYnEAAAAAAAMBKQOF6FK7Hm6FAwvUoXA/jqUDXo3A9Cud+QBWuR+G6h8NA16NwPQqmkUCamZmZmQV6QFK4HoXr/XlAKVyPwvUii0DNzMzMTM+mQAAAAACAE6VAw/UoXA9xq0DhehSuRwWMQOxRuB6Fl41A2KNwPQpXW0C4HoXrURiGQGZmZmZm1qlA61G4HoX0l0DNzMzMzCaVQEjhehSuAYRAhetRuJ7RpEAK16NwPaKUQGZmZmZmpmNAPQrXo3DClECkcD0K11dzQM3MzMzMkptAAAAAAAAAWkCuR+F6FNiOQFK4HoXrcZRAMzMzMzOvdkDNzMzMzNqgQI/C9Shc0ptAMzMzMzMrcECamZmZmRF2QEjhehSuLqdAzczMzMw7lUCkcD0K1wmQQI/C9ShcOpFAZmZmZma0jECamZmZmUFnQOF6FK5HmJVAAAAAAAA4fUBxPQrXozKRQGZmZmZm2IdAXI/C9ai5tUCPwvUoXE2YQJqZmZmZnqtAmpmZmZk5YUC4HoXrUfhfQDMzMzMzp5pAw/UoXI8OhEB7FK5H4a6oQGZmZmamdLpAZmZmZmb2f0AAAAAAADBmQM3MzMzMoHpAAAAAAADoZEA9CtejcEWBQM3MzMxMC6ZA9ihcj8L9bEAAAAAAgDu2QArXo3A9SmBA61G4HoVxjECkcD0K1zmEQKRwPQrXh4BASOF6FK59gUDsUbgehXuGQClcj8L1LadAmpmZmZnZQUD2KFyPwjeRQEjhehSuAZdAAAAAAADAUkBcj8L1KHKAQFK4HoXroXVAKVyPwvWwe0AzMzMzM+tyQI/C9Shcr51AUrgeheshbkAK16NwPaKEQM3MzMzMyHFA9ihcj8J3kUAUrkfhehaEQGZmZmZm9nFAuB6F61EIeEAUrkfhemulQML1KFyPnI9APQrXo3CVdEAAAAAAANRyQM3MzMzM8ohANDMzMzNrc0A+Ctej8CGuQB+F61G4KZBA9ihcj8IbjEBI4XoUrkdkQFyPwvUokaxApHA9CtfVgkCF61G4HjmIQFK4HoXr/XZA7FG4HoUdhkBSuB6F64aXQDMzMzMzqY9AH4XrUbjCdEAfhetRuHZvQGZmZmZm5iBAuB6F65EMsUDD9ShcT7C6QOxRuB6FC2pApHA9CldTtkDC9Shcj/JRQPYoXI/CdYlAexSuR+EemUAAAAAAAABhQJqZmZmZOZZAH4XrUbiKlEC4HoXrUQCHQJqZmZkZ861AuB6F61FqpkBcj8L1KJyIQEjhehSux4lAMzMzMzM1o0BSuB6F65eSQM3MzMzMrIhA4XoUrkdtfUAAAAAAAD6dQGZmZmZmAoFAmpmZmZnldUDsUbgeBeCwQAAAAAAAsHRA4XoUrkfNckC4HoXrUQqIQK5H4XoUVnxApHA9CteTa0AzMzMzM2thQM3MzMzMRHlAj8L1KFztoUDsUbgehctgQM3MzMzMLGpAzczMzMwsf0AzMzMzM/tyQIbrUbgerWlAcT0K16O4l0ApXI/C9Rh4QEjhehQuqKBACtejcD3UiUDhehSuR2OFQNejcD2KNaJA4XoUrkcnukCuR+F6FD5ZQEjhehSuJKRA4noUrkdfikDrUbgehUyTQAAAAAAAqHBASOF6FK48rECuR+F6FEZ+QM3MzMzMTIhANDMzMzOTVkC4HoXrURhjQJqZmZmZGW9AMzMzMzO7dkAAAAAAAGigQK5H4XoUbJxAH4XrUbhUi0Bcj8L1KPGoQMzMzMzMbFlAZmZmZmZWZEApXI/C9fqNQK5H4XoUYoFApHA9Ctdco0DXo3A9Ct+RQPYoXI/CFXtA16NwPSpGx0AK16NwPUJzQEjhehSuaYZA9ihcj8Lhk0CF61G4Ho1uQAAAAAAAcJ9AzMzMzMwsSEBcj8L1qPShQLgehetRGsFACtejcD0ekUAzMzMzM9+DQB+F61G4TI9A9ihcj8IngUCamZmZmVk3QFK4HoXr+XhA7FG4HgUorUBnZmZmZlZsQBSuR+F6gHpAhetRuB4VcECPwvUoXENyQDQzMzMzi3dAw/UoXI+OhUAfhetReOa1QD0K16Nw7VtAZmZmZmYmPkAK16Nwfb3JQKRwPQqXZMJACtejcD16oUC5HoXrUbB9QD0K16MAQdBAPQrXo3AzpkAfhetRuO6dQK5H4XqUTL9AmpmZmZmdcUBI4XoUbgfLQGdmZmZmJmdA9ihcj8LQp0BSuB6F6/F/QOtRuB6F+2tA9ihcj8JGsUAzMzMzM/NVQGZmZmZmKIhA4XoUrkc1g0DNzMzMzAyLQDQzMzMz549AUrgeheu8lkDD9ShcTwq9QArXo3C9mLBAzczMzMyMj0B7FK5H4byEQLgehetREJRAKVyPwvXmgEAAAAAAANB2QDMzMzMzk2NAzczMzMxwckD2KFyPwnVaQFK4HoXrmXNAMzMzMzObgECkcD0KV7eoQD0K16NwWXVAhetRuB7blkDNzMzMzCRsQIXrUbgeRZVAexSuR+Eig0AzMzMzM++CQAAAAAAAsGpAXI/C9eh/vkDC9Shcj7yQQHsUrkfhomZAhetRuB4hnEDXo3A9Ch2CQMP1KFyPglZAmZmZmZkhYkCamZmZmZllQLgehevR0qBAAAAAAABihUBxPQrXo9qHQOxRuB6FJ35AMzMzMzMHe0A9CtejcD1OQMP1KFyPWnZAH4XrUXgqtkB7FK5H4SKUQI/C9SjcZLVACtejcD3qUkDsUbgeheSbQI/C9SjcWqlAH4XrUbhUg0Bcj8L1KG+SQAAAAAAAOHJAH4XrUbhGf0AzMzMzM/tiQEjhehQur6RAhetRuB76nUAfhetRuHubQKRwPQrXa4lAzczMzMwsbEBSuB6F67mPQML1KFyPVIlAuB6F61GRmUCamZmZGT2xQM3MzMzMLHRAMzMzMzMcokBI4XoUrht6QDQzMzMzs1pArkfhehSSnUBmZmZmZmZ5QDMzMzMzhqZAPQrXo3BanEAAAAAAAJB9QK5H4XoUtK1AexSuR+EJkkDD9ShcD/2iQFK4HoXrT5tAzczMzMxsZkAAAAAAAFSBQM3MzMzM1ZBAexSuR+HYjEAK16NwPQ6KQBSuR+F6DGRAZmZmZmY2hUAzMzMzM++AQGZmZmZmBoVA4noUrkcpc0A9CtejcPCdQGZmZmZmBmFAXI/C9Zgj0UBxPQrXo/KSQHsUrkfhvZpAuB6F65GIuUAVrkfhSnDQQFyPwvUowoxAw/UoXI9wiUCPwvUoXI9DQDMzMzMzXp1A16NwPQrVjkCamZmZmXlkQAAAAAAAoGRAzczMzMxMW0DMzMzMzOxgQK5H4XoUPmxA16NwPQrRgUCPwvUoXPOKQBWuR+F6e5VAZ2ZmZiZPv0CuR+F6FHGaQArXo3C9Rb9Aw/UoXI+aZ0AAAAAAALBzQHsUrkfhBoNAzczMzMxzokApXI/C9YSLQBSuR+H6S6hAFK5H4XrIiECamZmZmauJQI/C9ShcB55AAAAAAAAQkEAAAAAAAAR0QKRwPQrXQ3RAH4XrUbjKs0Bcj8L1KLRjQD0K16Nwd5NAmZmZmZlpekAUrkfhehB2QFyPwvUoFGVAzMzMzMySm0DXo3A9CoySQDQzMzMzk1hAzczMzMz8Z0A0MzMzM4+EQAAAAAAAMFxAAAAAAAA4n0DNzMzMzBSPQHsUrkeB18FAcT0K14NVw0C4HoXrUVuRQOF6FK5HvYVAzczMzMyagEB7FK5H4fyAQNejcD0KhYRAFa5H4bq/wUA9CtejsLy4QClcj8L1aKZACtejcD2nsEAfhetRmGPMQDMzMzMzq5dAXI/C9SiMg0CQwvUoXMugQBWuR+E6SrtAw/UoXA9/rECamZmZmQqvQArXo3A9nIhA7FG4HoVHckCkcD0Kl4nBQOxRuB6FVpRAMzMzMzNrYkAK16NwPUOdQB+F61G4BaBASOF6FK51lkDhehSuR2mQQFK4HoXrR7xAexSuR+E4h0CamZmZmcFlQHE9CtcjDbFAexSuR+E6cECuR+F6FFSEQI/C9ShcZbhAuB6F61HqpkCZmZmZmRmKQAAAAAAAAA5APQrXo3CTiEBSuB6F65ltQFK4HoXroWVAHoXrUThJpkD2KFyPApWwQI/C9ShcLJRA4XoUrgfYu0CamZmZmaTRQBSuR+F6IIpAXI/C9ahDrECuR+F6FCOxQD0K16Nwf4NAexSuR+GSm0AAAAAAAPB5QD4K16Nw/WtAXI/C9SippkAVrkfheoGUQEjhehSu53BAPgrXo3AVd0C4HoXrUa6IQAAAAAAAgGxAUrgehevJc0AfhetRuIOVQJmZmZmZJY5AZ2ZmZubSpUAAAAAAAGx8QGZmZmZm5pFAzczMzMyJv0AUrkfherCaQAAAAAAA15FA7FG4HoUwnkAzMzMzM/+uQJmZmZkZF61ApHA9CtdTekDNzMzMzOmYQBWuR+H6xadAZmZmZmZEg0DXo3A9Cm+UQK5H4XoUvm5AZmZmZmbsgkAAAAAAADKNQOF6FK7HUcRAMzMzMzN/eEA+CtejcPOLQArXo3A9roBA61G4HoXrSUAfhetRuC2QQDMzMzMzeZ5AMzMzMzMzVEAVrkfheiaYQEjhehSuea9ASOF6FK57g0B7FK5H4XpuQK5H4XqUTKBA4XoUrsd4o0BSuB6F6xlzQOF6FK5HiJxASOF6FK6FikAVrkfhemR+QClcj8L1xZJAUrgehetOmUB7FK5H4TSCQM3MzMzMxHRAUrgehevHgEApXI/C9eiQQFK4HoXrC4lA9ihcj8KXoEAfhetRuAZyQLgehetR2ppAuR6F61FQikDD9ShcjxiBQAAAAAAAsKJAUrgehetzmkB7FK5H4WbIQOxRuB6Fr3lAKVyPwvUQekDNzMzMzOmlQHE9CtcjK6pAexSuR+HSZkD2KFyPwhl/QGZmZmZmVlxAFK5H4XqsZkBI4XoULqihQFK4HoXrcYVAw/UoXI+LnEAzMzMzM1t1QHsUrkfhMnhAAAAAAABgXEDD9ShcjwqAQAAAAAAA3pJAMzMzMzPzVkD2KFyPwhl6QOxRuB6FqaJASOF6FK4XjEBxPQrXowmYQClcj8L1cohAKVyPwvXFqEA9CtejcB6SQDMzMzMze2FAhetRuB5Mr0D2KFyPwsCTQB+F61G4MoNAXI/C9Si8b0DhehSuR1OKQIXrUbgeN4NAFK5H4XoOlkAUrkfheiRfQMP1KFyPxnRAMzMzMzNndUCG61G4Hh1iQKRwPQrXA5ZAZmZmZmaGdECkcD0K12d2QM3MzMzMDHZA4XoUrkc8skBxPQrXozGeQBSuR+F6KplAH4XrUbiUjUBxPQrXo7KEQFyPwvUoNI9AAAAAAACUeUBmZmZmZl5gQEfhehSu92lAkML1KFwvU0AK16NwPZZ4QI/C9Shcy4lAwvUoXI8ifEBI4XoUrtqlQOxRuB6F9JJAhetRuP56zEAVrkfhehxrQHsUrkehb7BAuB6F61EAYUD2KFyPwq2KQJqZmZmZmSpAPQrXo3DDnEAAAAAAAAB7QClcj8L1CIZASOF6FC65okBI4XoUrseQQFK4HoXrNYZAAAAAAADAYED2KFyPwqWEQGZmZmZmUntAzczMzMzFo0DD9Shcj9ZxQArXo3C9C6BAmpmZmZmNh0C4HoXrUQh5QOF6FK5HkpRAFa5H4Xp4kUDNzMzMzPxZQBSuR+F6HHJAXI/C9Si8j0CuR+F6FOSaQOF6FK5HVYtAuB6F61GIaUDsUbgehauaQIXrUbgemZBAhetRuF79s0AzMzMzs3+zQDMzMzMzgZZAmpmZmZmvmkB7FK5H4ZJvQArXo3A9sndACtejcD2Yl0AAAAAAAOhvQMP1KFxPgLFAwvUoXI9+ekAfhetRuA5qQB+F61G4HJhAmpmZmZmNkUC4HoXrUQedQEjhehQuBqlAuB6F69Hus0AzMzMzMzd2QB+F61G46ntAcT0K16MYg0BI4XoUbhLKQAAAAAAAdopAmpmZmZlpX0BmZmZmZjWWQGZmZmZm+IBAKVyPwnXmr0DD9Shcjz2UQM3MzMzMyHdAFa5H4bpQtECPwvUoXIt7QDMzMzMzsqhAFa5H4fp9oEDNzMzMzLiAQI/C9ShcOYFAMzMzMzNDaUAVrkfhOn27QAAAAAAAEHxAXI/C9agbuUAAAAAAAIBAQI/C9ShcAp5AKVyPwvVNlEDXo3A9CldZQEjhehSuoMBAXI/C9SgYk0BI4XoUrtmNQFyPwvUoJotArkfhehQZlEAK16NwvZCtQAAAAAAA95NACtejcD32iEDNzMzMzMw0QHsUrkfhwbdAcT0K16N1lECkcD0K10tzQArXo3A9CnpA7FG4HoXxiEBnZmZmZlZdQEjhehSuvp9AFK5H4XrUiEDhehSuR2FvQDQzMzMzo1tAMzMzMzP7aUCuR+F6FCZpQD0K16Pw1aBAuB6F61Hwc0B7FK5H4XZ7QOF6FK5HU4RAmpmZmZnZUUCPwvUoXFN2QAAAAAAAkohAAAAAAADAX0AAAAAAANh2QClcj8L18IxAcD0K16Nwb0AAAAAAAAB/QNejcD0KB4hAFK5H4XpXpkC5HoXrUQWXQClcj8L1AHhAPQrXo3D8rEAAAAAAAPnEQK5H4XqUVcVAzczMzIwOs0DNzMzMzM+jQB+F61G46ndAAAAAAAC1kUAAAAAAAIB1QBWuR+F65o9AMzMzMzNVtUDMzMzMzHueQB+F61E4l6BAAAAAAADwhUAAAAAAACB5QIXrUbgeTX5AzczMzMxkeUDNzMzMzPC5QJqZmZkZF6RA4XoUrkfxiUC4HoXrUfKiQHsUrkfhModA4XoUrkeRmUBmZmZmZoCRQNejcD0KV1RAUrgehetBbkDsUbgehWtoQJqZmZmZ/YRAw/UoXI8CeEBxPQrXo1KCQOxRuB6Ft5xAMzMzMzPdgEB7FK5HgXvLQGZmZmZm36FAZmZmZmYxr0ApXI/C9TyNQHsUrkfheJJAAAAAAABAcEA9CtejcAGJQGZmZmZm9ldAwvUoXI+al0CPwvUoXB9qQHE9CtejiJRAuB6F61HnmECamZmZmbKgQKRwPQrXW2JAMzMzM7OrpUAzMzMzM1unQFyPwvUo05RASOF6FK4PlEAfhetRuCyDQM3MzMzMHGZA4XoUrkfNk0CPwvUoXDmHQClcj8L1i55AAAAAAAD0fECF61G4HlmaQOtRuB6FUZBAmpmZmRlxpEBmZmZmJl3HQD4K16Nw3YlA4XoUrkfInUApXI/CdeKhQI/C9ShcL6BACtejcN1Vw0Bcj8L1qCexQIXrUbgeU4ZAAAAAAADceUBI4XoUrid/QLgehetRMZVAmpmZmZnxbUA0MzMzMxNgQKRwPQrXa3JAw/UoXI9vkkA9CtejsNm1QEjhehSuR21AFa5H4TpwtEB7FK5H4eCSQMP1KFwPbaxAzczMzMzaikBmZmZmZlZoQHsUrkfhimxAcT0K16NofEDXo3A9is7BQOF6FK5HorZAH4XrUbi6e0BSuB6Fa6OtQM3MzMzMoHFAj8L1KFyYlkCamZmZmWFpQClcj8J1g6FAAAAAAABrk0AAAAAAACBzQDMzMzMzo3dANDMzMzOzXUAK16NwPeyNQOxRuB6FG45A4XoUrgd8skCuR+F6lKOvQFK4HoUrP7RAKVyPwjW9vkBcj8L1KASgQClcj8L1sGtA16NwPQocn0BmZmZmZg5gQI/C9ShcfKhAZ2ZmZmZcvkCPwvUoXMq1QFyPwvUofG1ANDMzMzMjeUAAAAAAgBikQI/C9ShcXq1AzczMzMzxlEDC9Shcj3iCQI/C9ShcMYJAUrgehetdjkCamZmZGZajQAAAAAAAgDlAzczMzMyEekAUrkfheqB9QArXo3A9zoRASOF6FK6zfkCPwvUoXF/PQGZmZmZm3mVApHA9Ctc9lEAzMzMzM+t/QOF6FK5HyX1APQrXo3ClaUBI4XoULiWiQClcj8L1RIlAFa5H4fqSpUAUrkfhelx4QMzMzMzMDF1AcT0K16OgY0DhehSuR/eCQI/C9ShcN3NApHA9Cterc0AAAAAAANSBQI/C9ShciY5ACtejcD2uckCamZmZmTVwQFyPwvUoAJ9AhutRuB4MkkB7FK5H4aJjQJqZmZmZ2T9ACtejcL0Wo0AzMzMzM+OTQNejcD0qj8xAzczMzMzog0BxPQrXo4ieQPYoXI/C9WxA7FG4HoWnkUDsUbgeRUGxQIXrUbgeFX1AcT0K16OSh0AAAAAAAA+UQHsUrkfh4IxAw/UoXI/EjkC4HoXr0WGoQArXo3A95LZAZmZmZubDqEC4HoXrUThfQDQzMzMz42FAmpmZmZl+lUDOzMzMzPxsQAAAAAAAgp9AKVyPwvW4akA9CtejcJV0QEjhehSu44tAKVyPwvV+gkBmZmZm5h+0QAAAAAAA8J5ASOF6FC5noECuR+F6lNnDQK5H4XoUwIpApHA9CtfNmkAK16NwPd6FQDMzMzOzRqNA4XoUrkcJnEB7FK5H4cppQHsUrkfhGItAMzMzMzMDeUBSuB6F6xKSQPYoXI/CVWZAPQrXo3AJeEDC9Shcj+SNQDMzMzMzba1AMzMzMzPzTUD2KFyPwo6WQML1KFyPMoxAAAAAAADgXUCPwvUoXEt7QNejcD0KjZdAw/UoXI+VoUBSuB6F6xV9QM3MzMzMFHRAhetRuJ4mqkCG61G4Hs1oQB+F61G4rmxAAAAAAAAAYkCPwvUoXDt9QEjhehTu8LFA16NwPQrtjUApXI/C9ZaaQGZmZmYm2rJAhetRuB51U0D2KFyPwuOhQAAAAAAAZIlApHA9CteXgUBmZmZmZg52QK5H4XoUqI9A7FG4HoX3kkCkcD0K1yNiQI/C9ShcS3ZAXI/C9Shok0DNzMzMzBRkQHsUrkfhx7VACtejcP1ctUDNzMzMzDqPQEjhehSuh2lA61G4HoXzckBmZmZmZtZcQM3MzMzMHINAPQrXo3BlbkDNzMzMTJ2vQOF6FK5H04hAzczMzEwvtEAVrkfherSQQM3MzMzMRGdAMzMzMzNDUEAAAAAAAEBrQEjhehSuYLBArkfhehQycEAAAAAAwIGxQFyPwvUolI5A16NwPQoUmUAK16NwPXSKQNejcD0KN1lAzczMzMxkYEApXI/C9SCMQIXrUbgemJ9Aj8L1KFyoqEBcj8L1KOxzQDMzMzOTWMNA16NwPQodvEC4HoXrUVh6QHsUrkfhhoFAFa5H4Xq8YkDrUbgehcOdQD0K16Nw/Z1AcT0K16NQj0DNzMzMDGC+QM3MzMzMlZJAMzMzMzNTYEDhehSuR3ClQMP1KFyPkqZAXI/C9SiInECuR+F6FDp3QPYoXI/CdUNA16NwPQqjcUDD9ShcjwqBQFK4HoXrAVFAuB6F61EIeEA+CtejcGOJQPYoXI/CHXZAuB6F61FIZkBI4XoUrmt9QD0K16Nw6YhAexSuR+Euf0CPwvUoXBdoQM3MzMzMFHpAj8L1KFyFnUDNzMzMzDxeQK5H4XoUzmxACtejcD2LpUC5HoXrUbhPQD0K16NweXFAMzMzMzOXgUCkcD0K1y2AQFK4HoXr2XNAwvUoXI8Xm0B7FK5H4ZaAQDMzMzMz44JAFK5H4XpMakD2KFyPQsmgQKRwPQrXo2FA16NwPQoLgkDhehSuR6FcQArXo3A9xn9AZ2ZmZmalkECkcD0K1/NwQML1KFyPemdA1qNwPQq3XUDMzMzMzO6IQLgehetRR6JAH4XrUbiOZ0BSuB6Fa8ilQD0K16NwxXpASOF6FK63eEApXI/C9Q+wQKRwPQrXfqNA4XoUrscgoED2KFyPwnWXQGdmZmZmNoFAAAAAAAAQb0ApXI/CdXKtQHA9CtejPH1AmpmZmZlngUCuR+F6FCJ1QClcj8L1eGBAFa5H4XrsjUBxPQrXo8CPQArXo3A9mnhAexSuR+GmdEDsUbgehb6RQOF6FK5HQW9AAAAAAADgW0BSuB6F666gQM3MzMwsrMJA4noUrsc/r0D2KFyPwp+xQD4K16NwqXRAZmZmZmYEkECF61G4Ht2rQGZmZmZmIoRASOF6FK4xokDhehSuBwWzQM3MzMxMysJAzczMzMwcX0BI4XoUrlCkQClcj8L1iGRAmpmZmZkZPUDD9Shcj5CmQB+F61G4NJtAH4XrUbjUjECPwvUoXHaYQD0K16Nw+qFAwvUoXI8Mg0AzMzMzMx90QDMzMzMzC2NAzczMzMwsWkA+CtejcGOPQM3MzMzMfHpAZmZmZmbmZUBcj8L1KDKKQAAAAAAA5H5AMzMzMzPZg0AAAAAAAMB/QEjhehSuR1RAFa5H4Xqvn0CPwvUonK/HQPYoXI/CpXZAuB6F61GHnUBcj8L1KC6TQPYoXI/Cr5NA9ihcj8JBfUBSuB6F6wyZQJqZmZnZw7RAH4XrUbiebEC4HoXr0UejQAAAAAAAoopAj8L1KFw5nUBSuB6F6xCfQAAAAAAAIEJAAAAAAABUqUCF61G4HoOoQPYoXI/C0XFA9ihcj8KTjUAK16NwPUJ4QGZmZmZmEItAj8L1KFzHcUDrUbgehT2TQLgehetRPotAH4XrUbjkj0B7FK5H4WaNQJqZmZn538ZACtejcH0QwEApXI/C9SCRQJqZmZmZ8WRA4XoUrkcUpkCZmZmZmZmOQHsUrkfh4ntAZmZmZma0hEDD9ShcjxmxQAAAAAAAPpJAexSuR+G4hkBmZmZmZqSEQArXo3A9WnxA7FG4HpXb0UBmZmZmZuYlQMP1KFyPSnlAAAAAAAAohEAK16NwPTKMQKRwPQrXX3NAzczMzMy4f0D2KFyPwlFwQNejcD2K+aVAexSuR+GAiEBxPQrXIwelQJqZmZmZqWJAzczMzMzMf0AUrkfhepSDQGZmZmZm0ndAo3A9Ctd7aUAAAAAAAGBYQM3MzMyMM8FAH4XrUbhEk0DXo3A9CmuEQM3MzMwMRbJAZmZmZma2XEBI4XoULsWzQIXrUbgeCXlAcT0K16MdkEDNzMzMDCmzQDMzMzMzR4FAPgrXo3DBc0D2KFyPgnG+QHsUrkfh+pJA7FG4HoVFlkDsUbgehUGxQIXrUbgegYFA16NwPQqToUDXo3A9Cqd+QJqZmZkJ19BA9ihcj8KFZEAVrkfhevCEQOxRuB6FZLlAH4XrUbitkEAK16NwPUaQQOxRuB6FFaxAzczMzMx7kUCPwvUoXLmHQB+F61H4Yb9AMzMzMzMzWUCkcD0K1zWVQI/C9Shc+YZAzczMzMw0eUDD9Shcj12bQEjhehSuz4FAcT0K16OLokCamZmZmbV0QBSuR+F6sIBAH4XrUbhSd0CuR+F6FDuWQKRwPQrXW3RA4XoUrkc5dECamZmZmVVyQAAAAACA+LFAUrgeheuxgEAzMzMzM6qiQJqZmZmZOV5ACtejcD3sgECamZmZuTjMQJqZmZlZMrNAmpmZmZnlmkDrUbgehWt+QPYoXI/CL5hAZmZmZmZ2YEBI4XoUriWTQML1KFzPYLdAcT0K16OMgEBmZmZmZoqEQHE9CtejR6FASOF6FK6rh0DsUbgehR2FQLgehevR+6NA7FG4HoVHj0CuR+F6lN2jQArXo3A92odAZmZmZmamWUCamZmZmVloQAAAAADAp7NACtejcL3ppUAzMzMzM/9yQM3MzMzMJI1AAAAAAAD4gkAAAAAAAFyQQKRwPQrXS2hA9ihcj8KdfkAzMzMzM+GRQDMzMzMz45NAXY/C9ShUeEAK16NwPTCMQI/C9ShcnpNA7FG4HoVRiECkcD0K132CQArXo3A9MmpAUrgehevNeECamZmZmRFkQAAAAAAACHVACtejcD2Kd0AAAAAAAH2lQLgehesRXbdASOF6FK6JkUAL16NwPTpZQJmZmZmZWUtA9ihcj8I1iUDD9ShcjxOWQAAAAAAA9HFA7FG4HoUDcUDD9Shcj/WUQAAAAAAAyJFAmpmZmZkJckDNzMzMzIiFQEjhehSud4FAw/UoXC+owkApXI/C9QajQDMzMzMz43JAcT0K16PsgkB7FK5HodyxQHE9Ctcj47dAFK5H4XoUgEC5HoXr0Vu1QDMzMzMzG5JAcT0K16P2gECkcD0K10WZQGZmZmZm7I1ArkfhehQ+Y0AfhetRuJZ0QFK4HoWrrrNAFK5H4XoWgUAK16NwPfiTQKRwPQrXupBAUrgehetlhECF61G4HtmAQJqZmZmZJ5JA16NwPQpGsEApXI/C9VqNQAAAAAAAWaxAAAAAAABhk0BmZmZm5nuoQOF6FK5Hy5NA9ihcj8JVUEBmZmZmZmZBQLgehetRE5pAzczMzMyMZEDhehSuR812QClcj8L17otAexSuR+GaWEDhehSuR+6SQGdmZmZm2phAPQrXo3AdX0AzMzMzM1t1QDMzMzMzA15A7FG4HoUFjkBcj8L1KKKWQM3MzMzMvoZArkfhehTahkDsUbgehZtiQOF6FK5H56NAPQrXo3Atc0CuR+F6lBqoQDMzMzMzW61AzczMzMyBnkApXI/C9YaQQB+F61G4ynJASOF6FK77gUAfhetRuDJwQKRwPQrX82RAMzMzMzOfnUAfhetRuJKGQOxRuB6FiZFArkfhehSGeEBcj8L1KGB8QMP1KFyPemBASOF6FK4pjEDhehSuB+y0QHE9Ctej7HdACtejcD2CdUAAAAAAAABZQJqZmZmZm5pArkfhehSYhkCamZmZmcl3QM3MzMzMNGdAZmZmZmZ2ZUCuR+F6dKvBQAAAAAAAzHVAuB6F61FdkEAK16NwPYqHQFyPwvUoCoFAZmZmZhY/0kDNzMzMzKqWQGZmZmZm/mBAUrgehWu9tECamZmZGVOgQM3MzMzM7GRAhetRuB61ZkCamZmZGfemQPYoXI+CbMtA16NwPQr1lkCkcD0KV7GlQJqZmZmZiWJAmpmZmdmFv0ApXI/C9VqjQHE9CtejTHhAzczMzIwps0BI4XoULjirQEjhehSun3lAZmZmZmYGSkA+CtejcDVkQEjhehSuV3pAexSuR2EXvUBSuB6F6wWcQD4K16NwcY1AAAAAAAAYZEA0MzMzM9NVQClcj8L13HRAFK5H4Xoof0CPwvUoXJmdQClcj8L10ZdAhetRuF5SwECPwvUo3BK1QGdmZmYmz7FAhetRuB5heECamZmZmemGQDMzMzMzk5BA4XoUrke1eEAVrkfhetKvQK5H4XoUPmtAXI/C9ShcVEAK16NwPc6oQKRwPQrXqJFApHA9ClefokDsUbgehYKYQGZmZmYmm7dAAAAAAADAb0D2KFyPwoVyQAAAAAAA8FJA16NwPQovo0CZmZmZmXl/QFK4HoXrM49A4XoUrscSoEA+Ctej8HOiQLgehetRxpNAKVyPwvXYcUAVrkfhehiBQDMzMzMzU4pAj8L1KFw5g0B7FK5H4cGoQClcj8L1gZxAAAAAAADqgECamZmZmYy3QNejcD3KNbBAwvUoXI+6dEAK16NwvVChQMP1KFyPq5hAw/UoXI/CZEAfhetRuDO2QOxRuB4F8rJACtejcD3ekkAzMzMzM2NdQClcj8L1iKxA9ihcj8IqmkAAAAAAAIBfQI/C9Shcm4JArkfhepT1rUDsUbgehXd2QB+F61G4znlAexSuRyEmtEBSuB6F6ziSQM3MzMzMmIFAMzMzMzP/n0BmZmZmZt2uQAAAAAAAvHVAmpmZmVn+t0BmZmZmZrZpQHsUrkfhf6JApHA9Clf8tUDhehSux2qwQJqZmZmZnYpASOF6FK6bpUCuR+F6FL6CQB+F61E486tAMzMzMzMXf0CamZmZmdmGQOF6FK7HaLFArkfhehSYiUCF61G4Hu1tQFK4HoUrN7dA4XoUrucswEB7FK5H4Qp7QDMzMzMzA3NA4XoUrkfRc0CamZmZGRi9QGdmZmZmYIhAmpmZmZk/p0DXo3A9Cg9pQHsUrkfhf5pAXI/C9ShIm0DD9ShcT+u9QDMzMzMzL3VAZmZmZmZeY0AAAAAAAKB7QB+F61H4F7pAMzMzMzMfekCuR+F6FJCoQI/C9ShcG5FA7FG4HoWpi0DNzMzMzEegQGdmZmZmCoNAPgrXo3C/i0CuR+F6FPiEQAAAAAAAWHJAmpmZmZkReEDhehSuR1eAQI/C9ShcuJJAUrgehevBlUCZmZmZmZl+QI/C9Sh8Ks9AH4XrUbiOd0B7FK5H4XJ7QArXo3A97rRAUrgeheuPpUCQwvUoXDNzQI/C9ShcTrFAzszMzMxkqkAAAAAAACSQQClcj8L1vKpACtejcD0QkUAAAAAAAJGQQPYoXI/CjrBAZ2ZmZmZqe0DD9Shcj0u+QClcj8L1s5pA4XoUrsdMo0DsUbgehaGFQOF6FK5HiZZAuB6F6yHG0EDXo3A9Cpd3QEjhehSuB2VAw/UoXI9XsECkcD0Kl+q9QGZmZmZmrnpAZmZmZmZGWUApXI/C9WSgQGZmZmZmpmxA4XoUrkeypEAfhetRuMKCQD4K16NwQYxAmpmZmZnZUUBmZmZmZmJ2QB+F61G4CJBAKVyPwvXtm0DrUbgehbtjQClcj8L1KFRAKVyPwvVoeEDhehSuh+GxQJqZmZmZ7YZAAAAAACBdwkAK16NwfY+zQHE9Ctej85NAPQrXo3C3jEAK16NwPUaGQAAAAAAAOGBAmpmZmZmJVUD2KFyPwjWZQGZmZmZmeIBA9ihcj8K5ckDNzMzMzNB5QB+F61E4WqtAexSuR+GYu0CuR+F6FN2RQMP1KFyPNnhAuB6F61EMeED2KFyPwi+CQJqZmZkZAKpAMzMzMzMzTEApXI/C9Sh1QHsUrkfhzoRAZ2ZmZma2aEDD9Shcj5SEQMP1KFyPDnZAcT0K16OAZ0Bcj8L1KDiFQMP1KFyPvndA16NwPQo3XECuR+F6FDZ5QKRwPQrXa3FAPgrXo/BSpEDNzMzMzGORQGZmZmZm0nhAhetRuB6QpUBmZmZmZoZaQM3MzMzMIHdAcT0K16MwdECamZmZmWliQKRwPQrXp3VAKVyPwvVHlUBI4XoUrtKeQHsUrkfh4mZAcT0K1+PFuEDXo3A9CrySQHA9Ctej8ohAmpmZmZm6s0CF61G4HhVnQEjhehSuE3hACtejcD34jEC4HoXrURCBQIXrUbgeVXtACtejcD1qcEDsUbge5cjFQClcj8L1bHdACtejcH3BwkDC9ShcjzeSQOtRuB6FnptA4XoUrkdFmUBI4XoUrn+CQBSuR+F6FFxAzczMzMw+iUD2KFyPwkVgQOtRuB6F1LlAUrgehevxZkBSuB6F6+l0QAAAAAAAGaFAAAAAAADkfkBmZmZmZqZyQEjhehSu34ZAexSuR+HSYECamZmZGZmiQI/C9ShcNJJACtejcL2UskAzMzMzM+t4QDQzMzMzs0FApHA9CtdrY0D2KFyPwmV1QPYoXI/C04ZACtejcD3qdUA+CtejcI1bQOxRuB6F5ZhAZ2ZmZuZCukDNzMzMzCx1QNejcD0KN2dA16NwPQrrekCamZmZmTV0QEfhehSux0lA7FG4HoWxgkBmZmZmZsSfQK5H4XoUNmBAzczMzMyFrEDXo3A9Cp+QQI/C9ShcbZhASOF6FK65hED2KFyPwiCZQJqZmZmZu5BA16NwPQofekCF61G4HiiWQDMzMzPT/shAH4XrUbiGYkC4HoXrUbyPQArXo3C9ArRAj8L1KFz8k0AzMzMzsy22QMP1KFyP4oxAzczMzMy7kUDNzMzMzBOZQM3MzMzMVG1AcT0K16MwkEDNzMzMTEioQFyPwvUoBZFApHA9Ctd7bUB7FK5H4XO5QEjhehSuW4VAMzMzMzPjZEDXo3A9CsCqQOxRuB6Fs21AuB6F61ERlkBwPQrXo1BmQJDC9Shcx4lANDMzMzOrYECPwvUoXJdzQM3MzMzMHo9AhetRuJ7Yp0CuR+F6FMZnQOxRuB6FIZlAZmZmZmbWW0D2KFyPwnGcQClcj8L1NohAH4XrUbiugkDrUbgehXtpQDMzMzMzg25AAAAAAAAQXED2KFyPwiqjQAAAAAAAgFhAhetRuB4FcEAAAAAAADKkQHsUrkfhsnJAmpmZmZl5Y0DMzMzMzAxcQOF6FK5HQXBAzMzMzMwMa0A+CtejcNF3QD0K16Nw9WdA16NwPQqfokBmZmZmZkZQQFyPwvUoPHJAXI/C9SgOlkCamZmZmZFgQDMzMzMzW3BASOF6FK7jdkAAAAAAAHh3QHsUrkdhKKtAexSuR+EGdUBcj8L1KERuQI/C9Shc70VAFK5H4XpUdUAK16NwPcZ4QOF6FK5HwZxAmpmZmZnUokDNzMzMzExlQAAAAAAAEH9AZ2ZmZmahq0DD9Shcj4J+QClcj8L1LZBAAAAAAABgckCkcD0K11N1QDMzMzMzFKhAH4XrUTizsECuR+F6FNOqQOF6FK5HzpRAXI/C9SisXECamZmZmWSQQFK4HoXrWYVAPQrXo3BdeEAfhetROM2wQOF6FK5HOWFAKVyPwvXIWECF61G4HmWWQAEAAAAAYFNACtejcD3aUkCamZmZmYV2QML1KFyPsmJA9ihcj8IVZkAqXI/C9Wh2QArXo3A9Y5ZAuR6F61GQmUB7FK5H4ZyJQArXo3A9GmRAzczMzMy/rkAzMzMzM6+NQAAAAAAAgClA7FG4HoXrW0DXo3A9Cm+OQAAAAAAAmGFAw/UoXI/iYECuR+F6FGenQI/C9Shce4VArkfhehRchEBI4XoUruuGQHE9CtdjMrxASOF6FK7ZnkBwPQrXo1R2QLgehetRwItAFa5H4fpzokAfhetRuDSCQK5H4XoUPmRA4XoUrkcBYUBxPQrXoxB1QArXo3A9CJ1ArkfhehRxu0DXo3A9ChOGQOtRuB6FdphA16NwPQrXlkBI4XoUrq2HQHsUrkfhHZBApHA9CtfjbUD2KFyPwkVhQB+F61G4dmVArkfhehSdkkCamZmZmdeDQM3MzMzMzDRAhetRuB4/j0BxPQrXo5h+QML1KFyPmmxAPgrXo3CEl0DNzMzMzAh0QFyPwvUoxG9ArkfhehRmbUAK16NwvQyiQEjhehSu935A4XoUrkclfkBI4XoUrsKdQFK4HoXr+YNAMzMzMzPXhkAAAAAAABBfQB+F61G4io1APQrXo3A9b0D2KFyPwml2QNejcD0KL2VA16NwPQo3b0B7FK5H4S6PQArXo3A9imtA9ihcj8LRoECamZmZmdllQArXo3A9eIBAMzMzMzPTXEDhehSuR2lnQD0K16NwzWRAUrgehesBXkCkcD0K16GeQAAAAAAAgIVApHA9CtefckCamZmZmTlDQJDC9Shcz2dAUrgehethbEBcj8L1KM+ZQBSuR+F6XHhAexSuR+FmkkBxPQrXIzSgQKRwPQrX01xAmpmZmZkBaEC4HoXrURx7QMzMzMzM1GxAmZmZmZnhfEAAAAAAAGBSQK5H4XoUflhAmpmZmZnNiEApXI/C9fKTQML1KFyPbphAPQrXo3DtZECF61G4Hq1iQI/C9ShcGYJANDMzMzNTdkCkcD0KNxbBQDMzMzMzO3BA16NwPQpZi0BmZmZmZjOrQM3MzMzMrGdAXI/C9Si0Z0DXo3A9Cmt1QEjhehSuG3lAXI/C9ShkgUApXI/C9cB5QMP1KFyP1KFApHA9Cpc+xUDD9Shcj9iBQAAAAAAAEGZAXI/C9cjdxUDNzMzMzFSBQArXo3A9zpJAFK5H4XowiECPwvUoXCdzQKRwPQrXhZJAH4XrUfhYuUBI4XoUroKZQDQzMzMzU2dA4XoUrgePsUB7FK5Hodu2QJqZmZmZgZZA4XoUrkfFeEDMzMzMzGxZQFK4HoVrfrFAmpmZmZmhc0DsUbgehVKWQK5H4XoU7m5APgrXo3A7rkBcj8L1KJSXQNejcD1Kl7ZASOF6FK7vYkCPwvUoXO6wQM3MzMzMZIpAAAAAAMCSsEAAAAAAAD6TQDMzMzMzd3VAzczMzMzmhUBH4XoUrmt9QD0K16NwZ4lAAAAAAAC3mUD2KFyPwlVZQPUoXI/C1MxAPgrXo3D1ZEAzMzMzM8d6QDMzMzMzb3VAmpmZmZmNdkAfhetRuJnPQClcj8K1ZLFA7FG4HoX3uEBI4XoULv6hQIXrUbgeNZxAUrgehesEskAfhetRuDaBQFK4HoXrCWVAKVyPwvU4fEDhehSuR6mDQDMzMzMzc1pAhetRuB6Vh0AghetRuF5cQKRwPQrXhpZAXI/C9SjkZEAVrkfheoaKQOF6FK4HTsNAexSuR+G+ekCamZmZmV15QEjhehSuP4hAFa5H4XoUY0AzMzMzM4NrQGdmZmZmZiNAmpmZmZnUoEDsUbgehQt0QB+F61H4S7pApHA9CtejdkCamZmZmclbQM3MzMzMCIVAj8L1KFx8nEAfhetRuGSFQFK4HoXr4VtAKVyPwvXbkUDC9Shcj9ppQArXo3A9jIFAcT0K16NAekA0MzMzMyNcQMP1KFyPjZBAHoXrUbjea0DNzMzMzFxsQP//////G41AAAAAAADQe0AVrkfheoaTQD4K16NwfZlASOF6FK4/YkDNzMzMzBRjQFK4HoUre8BA4XoUrkd/gED2KFyPwpOLQFyPwvUo3I9AexSuR+GajkAAAAAAANqyQFyPwvXo07VANDMzMzMLZEB6FK5H4WpmQGdmZmZmhlxApHA9CtfqmEBxPQrXo7SBQPYoXI/CNZ1A16NwPQqrekDXo3A9CsduQM3MzMzMJI1AUrgehes5d0CQwvUoXGmNQDMzMzMz62pAZmZmZmZWfEAzMzMzM5GAQNejcD0KX49AZ2ZmZmYsnEDD9Shcj7J3QB+F61G4xoZAZ2ZmZmb6eECQwvUoXOdyQAAAAAAA8GVAPgrXo3CjlUDXo3A9inStQM3MzMzMVGlAAAAAAAB8pkCF61G4ngqjQMP1KFzPAtFAH4XrUbgQpUAAAAAAAFBkQDMzMzMzA2ZAmpmZmZnFfUAK16NwvSqhQMP1KFyPr7dAmpmZmRnno0AAAAAAAM+cQPYoXI/C15JArkfhehQyckDD9Shcj8CDQGZmZmZm5khAAAAAAAAEc0DhehSuR5l0QIXrUbgep4ZASOF6FC6hqUBSuB6F6+6VQClcj8L1TIdAMzMzMzOLgED2KFyPwu+NQGZmZmZm3ZJA16NwPQpCsEAK16NwPUpZQArXo3A9r5ZAMzMzMzPDbEDD9ShcjzG1QAAAAAAAjHVAmpmZmZl5ZEAVrkfhevh7QClcj8L105VAH4XrUbiGf0DNzMzMzCafQHsUrkfhKoBAwvUoXI+qc0D2KFyPwgOBQOF6FK5HgXZANDMzMzNjYUBcj8L1KIilQMP1KFyPwIJA9ihcj8IVgUCQwvUoXA9tQI/C9Shc0ZtAFa5H4fqOoUAAAAAAABx+QLgehetRiI1AAAAAAADYkUDhehSux9WrQNejcD0KB55A9ihcj8JDlkAAAAAAALB7QM3MzMzsSstAZ2ZmZmbeY0AUrkfhum3JQD0K16NwM8dAAAAAAABMeEAzMzMzM1+IQBWuR+HaGcVAw/UoXA/DsEBSuB6Fq926QPYoXI/Ch4JAAAAAAACAe0AzMzMzM3NmQFK4HoXrEZxAZ2ZmZmYNnEDNzMzMzNiOQB+F61G47nBAH4XrUbjMoEDhehSuR2l6QBWuR+H6VadAUrgehWsqrEAK16NwPR6AQIXrUbgexYFAZ2ZmZuaquEDC9Shcj7aHQKRwPQrXPYpAXI/C9SggiUD2KFyPwtVXQLgehetR1HVAj8L1KFz2l0CuR+F6FN5zQGZmZmZmvnBAZmZmZmbyckDNzMzMzKxbQJqZmZnZ37FApHA9ClcXoEA0MzMzM96wQEjhehQOdcNApHA9CtdDdEC4HoXrUQyCQHA9Ctej9JJAAAAAAADagkCuR+F6FAyJQDMzMzMzY29AUrgehevVcEBSuB6F60iXQDMzMzMzE3VAzczMzMzIe0DNzMzMzEaFQOF6FK7HF7FAAAAAAABQdkA9CtejcP1lQM3MzMzMLodArkfhehTimUAzMzMzM3CSQDQzMzMz03hAehSuR+HqbEBnZmZmZoJ+QBSuR+F6JGlAmpmZmZlBZkAAAAAAAGClQHsUrkfh2nxAAAAAAACwekCF61G4HvKTQArXo3D9VrBA",
          "dtype": "f8"
         }
        },
        {
         "hovertemplate": "lrfm_segment_clustering=2<br>recency=%{x}<br>frequency=%{y}<br>monetary=%{z}<extra></extra>",
         "legendgroup": "2",
         "marker": {
          "color": "blue",
          "size": 3,
          "symbol": "circle"
         },
         "mode": "markers",
         "name": "2",
         "scene": "scene",
         "showlegend": true,
         "type": "scatter3d",
         "x": {
          "bdata": "GAMECgEEAScBBAgDAQ==",
          "dtype": "i1"
         },
         "y": {
          "bdata": "GwDLAI8AlgCKAX8A0ABqAAIANwAzADwAdgA=",
          "dtype": "i2"
         },
         "z": {
          "bdata": "XI/C9WKXAUEfhetRcHv8QHsUrkez9wdBcT0K12MXE0EzMzMzmAISQY/C9SjczgBB9ihcjy58/EDXo3A9Jtn7QAAAAADEkARBj8L1KDb2AUGF61G46CUOQZqZmZljbQVBexSuR1H1/EA=",
          "dtype": "f8"
         }
        },
        {
         "hovertemplate": "lrfm_segment_clustering=1<br>recency=%{x}<br>frequency=%{y}<br>monetary=%{z}<extra></extra>",
         "legendgroup": "1",
         "marker": {
          "color": "green",
          "size": 3,
          "symbol": "circle"
         },
         "mode": "markers",
         "name": "1",
         "scene": "scene",
         "showlegend": true,
         "type": "scatter3d",
         "x": {
          "bdata": "AgE=",
          "dtype": "i1"
         },
         "y": {
          "bdata": "kQCRAA==",
          "dtype": "i2"
         },
         "z": {
          "bdata": "cT0K1xcMIEEAAACAvo0iQQ==",
          "dtype": "f8"
         }
        }
       ],
       "layout": {
        "legend": {
         "itemsizing": "constant",
         "itemwidth": 30,
         "title": {
          "text": "lrfm_segment_clustering"
         },
         "tracegroupgap": 0,
         "x": 0.7,
         "xanchor": "left",
         "y": 0.97,
         "yanchor": "top"
        },
        "margin": {
         "b": 0,
         "l": 0,
         "r": 0,
         "t": 0
        },
        "scene": {
         "domain": {
          "x": [
           0,
           1
          ],
          "y": [
           0,
           1
          ]
         },
         "xaxis": {
          "title": {
           "text": "recency"
          }
         },
         "yaxis": {
          "title": {
           "text": "frequency"
          }
         },
         "zaxis": {
          "title": {
           "text": "monetary"
          }
         }
        },
        "template": {
         "data": {
          "bar": [
           {
            "error_x": {
             "color": "#2a3f5f"
            },
            "error_y": {
             "color": "#2a3f5f"
            },
            "marker": {
             "line": {
              "color": "#E5ECF6",
              "width": 0.5
             },
             "pattern": {
              "fillmode": "overlay",
              "size": 10,
              "solidity": 0.2
             }
            },
            "type": "bar"
           }
          ],
          "barpolar": [
           {
            "marker": {
             "line": {
              "color": "#E5ECF6",
              "width": 0.5
             },
             "pattern": {
              "fillmode": "overlay",
              "size": 10,
              "solidity": 0.2
             }
            },
            "type": "barpolar"
           }
          ],
          "carpet": [
           {
            "aaxis": {
             "endlinecolor": "#2a3f5f",
             "gridcolor": "white",
             "linecolor": "white",
             "minorgridcolor": "white",
             "startlinecolor": "#2a3f5f"
            },
            "baxis": {
             "endlinecolor": "#2a3f5f",
             "gridcolor": "white",
             "linecolor": "white",
             "minorgridcolor": "white",
             "startlinecolor": "#2a3f5f"
            },
            "type": "carpet"
           }
          ],
          "choropleth": [
           {
            "colorbar": {
             "outlinewidth": 0,
             "ticks": ""
            },
            "type": "choropleth"
           }
          ],
          "contour": [
           {
            "colorbar": {
             "outlinewidth": 0,
             "ticks": ""
            },
            "colorscale": [
             [
              0,
              "#0d0887"
             ],
             [
              0.1111111111111111,
              "#46039f"
             ],
             [
              0.2222222222222222,
              "#7201a8"
             ],
             [
              0.3333333333333333,
              "#9c179e"
             ],
             [
              0.4444444444444444,
              "#bd3786"
             ],
             [
              0.5555555555555556,
              "#d8576b"
             ],
             [
              0.6666666666666666,
              "#ed7953"
             ],
             [
              0.7777777777777778,
              "#fb9f3a"
             ],
             [
              0.8888888888888888,
              "#fdca26"
             ],
             [
              1,
              "#f0f921"
             ]
            ],
            "type": "contour"
           }
          ],
          "contourcarpet": [
           {
            "colorbar": {
             "outlinewidth": 0,
             "ticks": ""
            },
            "type": "contourcarpet"
           }
          ],
          "heatmap": [
           {
            "colorbar": {
             "outlinewidth": 0,
             "ticks": ""
            },
            "colorscale": [
             [
              0,
              "#0d0887"
             ],
             [
              0.1111111111111111,
              "#46039f"
             ],
             [
              0.2222222222222222,
              "#7201a8"
             ],
             [
              0.3333333333333333,
              "#9c179e"
             ],
             [
              0.4444444444444444,
              "#bd3786"
             ],
             [
              0.5555555555555556,
              "#d8576b"
             ],
             [
              0.6666666666666666,
              "#ed7953"
             ],
             [
              0.7777777777777778,
              "#fb9f3a"
             ],
             [
              0.8888888888888888,
              "#fdca26"
             ],
             [
              1,
              "#f0f921"
             ]
            ],
            "type": "heatmap"
           }
          ],
          "histogram": [
           {
            "marker": {
             "pattern": {
              "fillmode": "overlay",
              "size": 10,
              "solidity": 0.2
             }
            },
            "type": "histogram"
           }
          ],
          "histogram2d": [
           {
            "colorbar": {
             "outlinewidth": 0,
             "ticks": ""
            },
            "colorscale": [
             [
              0,
              "#0d0887"
             ],
             [
              0.1111111111111111,
              "#46039f"
             ],
             [
              0.2222222222222222,
              "#7201a8"
             ],
             [
              0.3333333333333333,
              "#9c179e"
             ],
             [
              0.4444444444444444,
              "#bd3786"
             ],
             [
              0.5555555555555556,
              "#d8576b"
             ],
             [
              0.6666666666666666,
              "#ed7953"
             ],
             [
              0.7777777777777778,
              "#fb9f3a"
             ],
             [
              0.8888888888888888,
              "#fdca26"
             ],
             [
              1,
              "#f0f921"
             ]
            ],
            "type": "histogram2d"
           }
          ],
          "histogram2dcontour": [
           {
            "colorbar": {
             "outlinewidth": 0,
             "ticks": ""
            },
            "colorscale": [
             [
              0,
              "#0d0887"
             ],
             [
              0.1111111111111111,
              "#46039f"
             ],
             [
              0.2222222222222222,
              "#7201a8"
             ],
             [
              0.3333333333333333,
              "#9c179e"
             ],
             [
              0.4444444444444444,
              "#bd3786"
             ],
             [
              0.5555555555555556,
              "#d8576b"
             ],
             [
              0.6666666666666666,
              "#ed7953"
             ],
             [
              0.7777777777777778,
              "#fb9f3a"
             ],
             [
              0.8888888888888888,
              "#fdca26"
             ],
             [
              1,
              "#f0f921"
             ]
            ],
            "type": "histogram2dcontour"
           }
          ],
          "mesh3d": [
           {
            "colorbar": {
             "outlinewidth": 0,
             "ticks": ""
            },
            "type": "mesh3d"
           }
          ],
          "parcoords": [
           {
            "line": {
             "colorbar": {
              "outlinewidth": 0,
              "ticks": ""
             }
            },
            "type": "parcoords"
           }
          ],
          "pie": [
           {
            "automargin": true,
            "type": "pie"
           }
          ],
          "scatter": [
           {
            "fillpattern": {
             "fillmode": "overlay",
             "size": 10,
             "solidity": 0.2
            },
            "type": "scatter"
           }
          ],
          "scatter3d": [
           {
            "line": {
             "colorbar": {
              "outlinewidth": 0,
              "ticks": ""
             }
            },
            "marker": {
             "colorbar": {
              "outlinewidth": 0,
              "ticks": ""
             }
            },
            "type": "scatter3d"
           }
          ],
          "scattercarpet": [
           {
            "marker": {
             "colorbar": {
              "outlinewidth": 0,
              "ticks": ""
             }
            },
            "type": "scattercarpet"
           }
          ],
          "scattergeo": [
           {
            "marker": {
             "colorbar": {
              "outlinewidth": 0,
              "ticks": ""
             }
            },
            "type": "scattergeo"
           }
          ],
          "scattergl": [
           {
            "marker": {
             "colorbar": {
              "outlinewidth": 0,
              "ticks": ""
             }
            },
            "type": "scattergl"
           }
          ],
          "scattermap": [
           {
            "marker": {
             "colorbar": {
              "outlinewidth": 0,
              "ticks": ""
             }
            },
            "type": "scattermap"
           }
          ],
          "scattermapbox": [
           {
            "marker": {
             "colorbar": {
              "outlinewidth": 0,
              "ticks": ""
             }
            },
            "type": "scattermapbox"
           }
          ],
          "scatterpolar": [
           {
            "marker": {
             "colorbar": {
              "outlinewidth": 0,
              "ticks": ""
             }
            },
            "type": "scatterpolar"
           }
          ],
          "scatterpolargl": [
           {
            "marker": {
             "colorbar": {
              "outlinewidth": 0,
              "ticks": ""
             }
            },
            "type": "scatterpolargl"
           }
          ],
          "scatterternary": [
           {
            "marker": {
             "colorbar": {
              "outlinewidth": 0,
              "ticks": ""
             }
            },
            "type": "scatterternary"
           }
          ],
          "surface": [
           {
            "colorbar": {
             "outlinewidth": 0,
             "ticks": ""
            },
            "colorscale": [
             [
              0,
              "#0d0887"
             ],
             [
              0.1111111111111111,
              "#46039f"
             ],
             [
              0.2222222222222222,
              "#7201a8"
             ],
             [
              0.3333333333333333,
              "#9c179e"
             ],
             [
              0.4444444444444444,
              "#bd3786"
             ],
             [
              0.5555555555555556,
              "#d8576b"
             ],
             [
              0.6666666666666666,
              "#ed7953"
             ],
             [
              0.7777777777777778,
              "#fb9f3a"
             ],
             [
              0.8888888888888888,
              "#fdca26"
             ],
             [
              1,
              "#f0f921"
             ]
            ],
            "type": "surface"
           }
          ],
          "table": [
           {
            "cells": {
             "fill": {
              "color": "#EBF0F8"
             },
             "line": {
              "color": "white"
             }
            },
            "header": {
             "fill": {
              "color": "#C8D4E3"
             },
             "line": {
              "color": "white"
             }
            },
            "type": "table"
           }
          ]
         },
         "layout": {
          "annotationdefaults": {
           "arrowcolor": "#2a3f5f",
           "arrowhead": 0,
           "arrowwidth": 1
          },
          "autotypenumbers": "strict",
          "coloraxis": {
           "colorbar": {
            "outlinewidth": 0,
            "ticks": ""
           }
          },
          "colorscale": {
           "diverging": [
            [
             0,
             "#8e0152"
            ],
            [
             0.1,
             "#c51b7d"
            ],
            [
             0.2,
             "#de77ae"
            ],
            [
             0.3,
             "#f1b6da"
            ],
            [
             0.4,
             "#fde0ef"
            ],
            [
             0.5,
             "#f7f7f7"
            ],
            [
             0.6,
             "#e6f5d0"
            ],
            [
             0.7,
             "#b8e186"
            ],
            [
             0.8,
             "#7fbc41"
            ],
            [
             0.9,
             "#4d9221"
            ],
            [
             1,
             "#276419"
            ]
           ],
           "sequential": [
            [
             0,
             "#0d0887"
            ],
            [
             0.1111111111111111,
             "#46039f"
            ],
            [
             0.2222222222222222,
             "#7201a8"
            ],
            [
             0.3333333333333333,
             "#9c179e"
            ],
            [
             0.4444444444444444,
             "#bd3786"
            ],
            [
             0.5555555555555556,
             "#d8576b"
            ],
            [
             0.6666666666666666,
             "#ed7953"
            ],
            [
             0.7777777777777778,
             "#fb9f3a"
            ],
            [
             0.8888888888888888,
             "#fdca26"
            ],
            [
             1,
             "#f0f921"
            ]
           ],
           "sequentialminus": [
            [
             0,
             "#0d0887"
            ],
            [
             0.1111111111111111,
             "#46039f"
            ],
            [
             0.2222222222222222,
             "#7201a8"
            ],
            [
             0.3333333333333333,
             "#9c179e"
            ],
            [
             0.4444444444444444,
             "#bd3786"
            ],
            [
             0.5555555555555556,
             "#d8576b"
            ],
            [
             0.6666666666666666,
             "#ed7953"
            ],
            [
             0.7777777777777778,
             "#fb9f3a"
            ],
            [
             0.8888888888888888,
             "#fdca26"
            ],
            [
             1,
             "#f0f921"
            ]
           ]
          },
          "colorway": [
           "#636efa",
           "#EF553B",
           "#00cc96",
           "#ab63fa",
           "#FFA15A",
           "#19d3f3",
           "#FF6692",
           "#B6E880",
           "#FF97FF",
           "#FECB52"
          ],
          "font": {
           "color": "#2a3f5f"
          },
          "geo": {
           "bgcolor": "white",
           "lakecolor": "white",
           "landcolor": "#E5ECF6",
           "showlakes": true,
           "showland": true,
           "subunitcolor": "white"
          },
          "hoverlabel": {
           "align": "left"
          },
          "hovermode": "closest",
          "mapbox": {
           "style": "light"
          },
          "paper_bgcolor": "white",
          "plot_bgcolor": "#E5ECF6",
          "polar": {
           "angularaxis": {
            "gridcolor": "white",
            "linecolor": "white",
            "ticks": ""
           },
           "bgcolor": "#E5ECF6",
           "radialaxis": {
            "gridcolor": "white",
            "linecolor": "white",
            "ticks": ""
           }
          },
          "scene": {
           "xaxis": {
            "backgroundcolor": "#E5ECF6",
            "gridcolor": "white",
            "gridwidth": 2,
            "linecolor": "white",
            "showbackground": true,
            "ticks": "",
            "zerolinecolor": "white"
           },
           "yaxis": {
            "backgroundcolor": "#E5ECF6",
            "gridcolor": "white",
            "gridwidth": 2,
            "linecolor": "white",
            "showbackground": true,
            "ticks": "",
            "zerolinecolor": "white"
           },
           "zaxis": {
            "backgroundcolor": "#E5ECF6",
            "gridcolor": "white",
            "gridwidth": 2,
            "linecolor": "white",
            "showbackground": true,
            "ticks": "",
            "zerolinecolor": "white"
           }
          },
          "shapedefaults": {
           "line": {
            "color": "#2a3f5f"
           }
          },
          "ternary": {
           "aaxis": {
            "gridcolor": "white",
            "linecolor": "white",
            "ticks": ""
           },
           "baxis": {
            "gridcolor": "white",
            "linecolor": "white",
            "ticks": ""
           },
           "bgcolor": "#E5ECF6",
           "caxis": {
            "gridcolor": "white",
            "linecolor": "white",
            "ticks": ""
           }
          },
          "title": {
           "x": 0.05
          },
          "xaxis": {
           "automargin": true,
           "gridcolor": "white",
           "linecolor": "white",
           "ticks": "",
           "title": {
            "standoff": 15
           },
           "zerolinecolor": "white",
           "zerolinewidth": 2
          },
          "yaxis": {
           "automargin": true,
           "gridcolor": "white",
           "linecolor": "white",
           "ticks": "",
           "title": {
            "standoff": 15
           },
           "zerolinecolor": "white",
           "zerolinewidth": 2
          }
         }
        },
        "title": {
         "text": "RFM segmentation",
         "x": 0.45,
         "xanchor": "center",
         "y": 0.97,
         "yanchor": "top"
        },
        "xaxis": {
         "tickformat": ".0f"
        }
       }
      }
     },
     "metadata": {},
     "output_type": "display_data"
    }
   ],
   "source": [
    "color_map = {\n",
    "    '0' : 'red',\n",
    "    '1' : 'green',\n",
    "    '2' : 'blue',\n",
    "    '3' : 'black',\n",
    "}\n",
    "\n",
    "fig = px.scatter_3d(\n",
    "    df_customer, \n",
    "    x='recency', \n",
    "    y='frequency', \n",
    "    z='monetary',\n",
    "    color='lrfm_segment_clustering', \n",
    "    color_discrete_map=color_map, \n",
    ")\n",
    "                          \n",
    "fig.update_traces(marker_size = 3)\n",
    "\n",
    "# tight layout\n",
    "fig.update_layout(margin=dict(l=0, r=0, b=0, t=0),\n",
    "                  title={\n",
    "                    'text': \"RFM segmentation\",\n",
    "                    'y':0.97,\n",
    "                    'x':0.45,\n",
    "                    'xanchor': 'center',\n",
    "                    'yanchor': 'top'},\n",
    "                    legend=dict(\n",
    "                      yanchor=\"top\",\n",
    "                      y=0.97,\n",
    "                      xanchor=\"left\",\n",
    "                      x=0.70,\n",
    "                      itemsizing='constant',\n",
    "                      itemwidth = 30))\n",
    "\n",
    "fig.update_xaxes(tickformat=\".0f\")"
   ]
  },
  {
   "cell_type": "markdown",
   "id": "8f01e39a",
   "metadata": {},
   "source": [
    "### `Summary & Recommendations`\n",
    "\n",
    "---\n",
    "\n",
    "Rekomendasi untuk masing-masing segmen hasil clustering (LRFM) berdasarkan nilai median (heatmap):\n",
    "\n",
    "##### 🟥 `Segment 0 (Merah) — \"At Risk\"`\n",
    "\n",
    "* `Frequency` dan `Monetary` sangat rendah (**3 kali belanja, total £852**)\n",
    "* `Recency` cukup tinggi (**100 hari**) → sudah lama tidak bertransaksi\n",
    "* ⚠️ Termasuk kategori **Churned Customers** yang jarang bertransaksi\n",
    "* 🎯 **Strategi:** Lakukan **re-engagement campaign** seperti email reminder, promo welcome back, atau edukasi produk agar mereka kembali aktif\n",
    "\n",
    "##### 🟩 `Segment 1 (Hijau) — \"VIP\"`\n",
    "\n",
    "* `Frequency` sangat tinggi (**145 transaksi**), `Monetary` sangat besar (**£566,901**), dan `Length` tertinggi (**738 hari**)\n",
    "* `Recency` sangat rendah (**1.5 hari**) → **baru saja bertransaksi**\n",
    "* ✅ Merupakan **Champion Customer** yang sangat aktif, loyal, dan bernilai tinggi\n",
    "* 🎯 **Strategi:** Berikan **program loyalitas eksklusif**, promo khusus VIP, dan treatment premium untuk mempertahankan loyalitas mereka\n",
    "\n",
    "##### 🟦 `Segment 2 (Biru) — \"Retain\"`\n",
    "\n",
    "* `Frequency` cukup tinggi (**118 transaksi**), `Monetary` besar (**£147,142**)\n",
    "* `Recency` rendah (**4 hari**) dan `Length` panjang (**737 hari**)\n",
    "* ✅ Ini adalah **High-Value Customer** yang konsisten dan stabil\n",
    "* 🎯 **Strategi:** Jaga loyalitas dengan **penawaran personalisasi**, newsletter berkala, dan akses prioritas produk\n",
    "\n",
    "##### ⬛ `Segment 3 (Hitam) — \"Re-Engage\"`\n",
    "\n",
    "* `Frequency` menengah (**36 transaksi**), `Monetary` rendah (**£29,078**), `Recency` masih wajar (**9 hari**)\n",
    "* `Length` panjang (**728 hari**) → pelanggan lama tapi nilai transaksinya kecil\n",
    "* ⚠️ Termasuk kategori **casual buyer** atau pelanggan yang mengalami penurunan aktivitas\n",
    "* 🎯 **Strategi:** Dorong pembelian ulang melalui **diskon berkala**, rekomendasi produk, atau upsell dari histori pembelian\n",
    "\n",
    "---\n",
    "\n",
    "##### 🧠 Ringkasan Nama dan Tujuan Segmentasi\n",
    "\n",
    "| Segment | Warna | Strategis      | Fokus Utama                                   |\n",
    "| ------- | ----- | -------------- | --------------------------------------------- |\n",
    "| 0       | Merah | **Churned**    | Re-engagement strategy                        |\n",
    "| 1       | Hijau | **VIP**        | Reward & retain pelanggan terbaik             |\n",
    "| 2       | Biru  | **Retain**     | Jaga konsistensi pelanggan setia              |\n",
    "| 3       | Hitam | **Re-Engage**  | Dorong interaksi ulang dari pelanggan pasif   |\n",
    "\n",
    "---"
   ]
  }
 ],
 "metadata": {
  "kernelspec": {
   "display_name": "Python 3",
   "language": "python",
   "name": "python3"
  },
  "language_info": {
   "codemirror_mode": {
    "name": "ipython",
    "version": 3
   },
   "file_extension": ".py",
   "mimetype": "text/x-python",
   "name": "python",
   "nbconvert_exporter": "python",
   "pygments_lexer": "ipython3",
   "version": "3.13.5"
  }
 },
 "nbformat": 4,
 "nbformat_minor": 5
}
